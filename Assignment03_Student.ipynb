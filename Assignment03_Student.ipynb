{
    "metadata": {
        "kernelspec": {
            "name": "SQL",
            "display_name": "SQL",
            "language": "sql"
        },
        "language_info": {
            "name": "sql",
            "version": ""
        },
        "extensions": {
            "azuredatastudio": {
                "version": 1,
                "views": []
            }
        }
    },
    "nbformat_minor": 2,
    "nbformat": 4,
    "cells": [
        {
            "cell_type": "markdown",
            "source": [
                "# Assignment 3: Selecting OPC Data For Review\n",
                "\n",
                "## DSCI 504: Intro to SQL\n",
                "\n",
                "\\[Student Name\\]\n",
                "\n",
                "\\[Date\\]"
            ],
            "metadata": {
                "azdata_cell_guid": "761f3144-f0c8-4b3c-968a-09f4726adce5",
                "extensions": {
                    "azuredatastudio": {
                        "views": []
                    }
                }
            },
            "attachments": {}
        },
        {
            "cell_type": "markdown",
            "source": [
                "**Step 1: Use a SELECT query to select all records from the customer table. Limit the displayed results to 10 records.**"
            ],
            "metadata": {
                "azdata_cell_guid": "e9cc3667-0039-49a5-aa57-352316c53893",
                "extensions": {
                    "azuredatastudio": {
                        "views": []
                    }
                }
            },
            "attachments": {}
        },
        {
            "cell_type": "markdown",
            "source": [
                "**Q: Of the first ten customers returned, what is the Customer ID  and City of the 5th customer?**\n",
                "\n",
                "```\n",
                "A:\n",
                "\n",
                "```"
            ],
            "metadata": {
                "azdata_cell_guid": "d637e552-88ff-4b95-ac5e-326d6d61c568",
                "extensions": {
                    "azuredatastudio": {
                        "views": []
                    }
                }
            },
            "attachments": {}
        },
        {
            "cell_type": "markdown",
            "source": [
                "**Step 2: Use a SELECT query to select the Customer ID, Last Name, State, and Customer Appreciation Code of all customers who joined _from_ September 11, 2001 _through_ October 1, 2001**"
            ],
            "metadata": {
                "azdata_cell_guid": "f392c54f-b012-46d1-8e4f-84ed4eda1e69",
                "extensions": {
                    "azuredatastudio": {
                        "views": []
                    }
                }
            },
            "attachments": {}
        },
        {
            "cell_type": "markdown",
            "source": [
                "**Q: How many customers joined in teh period from September 11, 2001 throught October 1, 2001?**\n",
                "\n",
                "```\n",
                "A:\n",
                "\n",
                "```"
            ],
            "metadata": {
                "azdata_cell_guid": "3849b462-7f31-4feb-9a54-1cb1a431c99f",
                "extensions": {
                    "azuredatastudio": {
                        "views": []
                    }
                }
            },
            "attachments": {}
        },
        {
            "cell_type": "markdown",
            "source": [
                "**Part 3: Looking at the same query from Part 2, write a SELECT query that returns all information for the two customers with the last name Delacruz**"
            ],
            "metadata": {
                "azdata_cell_guid": "60a3d5b6-ce24-4123-8cf3-f214fd6a074a",
                "extensions": {
                    "azuredatastudio": {
                        "views": []
                    }
                }
            },
            "attachments": {}
        },
        {
            "cell_type": "markdown",
            "source": [
                "**Q: What are three unique features about these two customers?**\n",
                "\n",
                "```\n",
                "A:\n",
                "```"
            ],
            "metadata": {
                "azdata_cell_guid": "04127bab-07e9-446a-a2f3-a0979214bb54",
                "extensions": {
                    "azuredatastudio": {
                        "views": []
                    }
                }
            },
            "attachments": {}
        },
        {
            "cell_type": "markdown",
            "source": [
                "**Part 4: Write a query to return all order data for the two Delacruz customers above. Be sure to include minimal person information to assist in identifying which person placed which order. You may need to use a simple join to get both the customer and order data. A template for that is below. Use the following data points in your query:**\n",
                "\n",
                "- **Customer ID**\n",
                "- **Customer Last Name**\n",
                "- **Customer First Name**\n",
                "- **Total Order Quantity**\n",
                "- **Total Order Value**\n",
                "- **All Order Data**\n",
                "\n",
                "```\n",
                "SELECT [table1.column], [table2.column]..\n",
                "FROM [table1], [table2]\n",
                "WHERE [conditions]\n",
                "\n",
                "```"
            ],
            "metadata": {
                "azdata_cell_guid": "8234ad8c-945b-4994-86cb-101516980c5d",
                "extensions": {
                    "azuredatastudio": {
                        "views": []
                    }
                }
            },
            "attachments": {}
        },
        {
            "cell_type": "markdown",
            "source": [
                "**Q: What is one interesting fact revealed in the addition of the new data?**\n",
                "\n",
                "```\n",
                "A:\n",
                "```"
            ],
            "metadata": {
                "azdata_cell_guid": "e011870f-3edd-4cfe-bcc1-5c3aeb0d602b",
                "extensions": {
                    "azuredatastudio": {
                        "views": []
                    }
                }
            },
            "attachments": {}
        },
        {
            "cell_type": "markdown",
            "source": [
                "**Q: Explain how the addition of additional data aided in your assessment.**\n",
                "\n",
                "```\n",
                "A:\n",
                "```"
            ],
            "metadata": {
                "azdata_cell_guid": "c9a65c1b-bcd9-4b8b-91a0-0e5a20f7fc18",
                "extensions": {
                    "azuredatastudio": {
                        "views": []
                    }
                }
            },
            "attachments": {}
        },
        {
            "cell_type": "markdown",
            "source": [
                "**Part 5: Some of the most unique features mountain bikers seek out in their bikes are wheel sets, shocks, forks, and dropper posts. These items make or break a top- notch mountain bike. You know that part of the identification of whether or not OPC should break into the luxury MTB market is that they can build and market competitive bikes. Use a SELECT query to determine how many unique type of components there are in the components table. Specifically query for forks and dropper posts. Order your results by component category and component name in alphabetical order.**"
            ],
            "metadata": {
                "azdata_cell_guid": "a99dd09e-8f2c-4753-ac62-3bdab8c755e6",
                "extensions": {
                    "azuredatastudio": {
                        "views": []
                    }
                }
            },
            "attachments": {}
        },
        {
            "cell_type": "markdown",
            "source": [
                "**Q: How many unique combination of fork and dropper post were there in the data?**\n",
                "\n",
                "```\n",
                "A:\n",
                "```"
            ],
            "metadata": {
                "azdata_cell_guid": "d5dd8cd6-257f-4758-b6e5-8dd5c413ec64",
                "extensions": {
                    "azuredatastudio": {
                        "views": []
                    }
                }
            },
            "attachments": {}
        },
        {
            "cell_type": "markdown",
            "source": [
                "**Part 6: Write a new query to identify all builds that the fork in row 60 is included on in the data. Include the accompanying build data in your query. Use a conditional query and search for the component name in the query.**"
            ],
            "metadata": {
                "azdata_cell_guid": "d0d853e9-e61f-466e-becd-f3fc1c8f5a64",
                "extensions": {
                    "azuredatastudio": {
                        "views": []
                    }
                }
            },
            "attachments": {}
        },
        {
            "cell_type": "markdown",
            "source": [
                "**Q: What happened in the query?**\n",
                "\n",
                "```\n",
                "A:\n",
                "```"
            ],
            "metadata": {
                "azdata_cell_guid": "83a7ecae-602e-4746-91de-6513c06a72af",
                "extensions": {
                    "azuredatastudio": {
                        "views": []
                    }
                }
            },
            "attachments": {}
        },
        {
            "cell_type": "markdown",
            "source": [
                "**Part 7: Use the simple join concept from Part 4 to complete the query by joining the componet and build tables. Return all Build columns in your query, but not the component data.**"
            ],
            "metadata": {
                "azdata_cell_guid": "edc8be23-1945-4b96-9374-7e54b4c07f20"
            },
            "attachments": {}
        },
        {
            "cell_type": "markdown",
            "source": [
                "**Q: How many builds is the 'Fox 38 Factory Grip2 170 Air' included in?**\n",
                "\n",
                "```\n",
                "A:\n",
                "```"
            ],
            "metadata": {
                "language": "sql",
                "azdata_cell_guid": "8a715a0a-7c1a-4c81-98dc-de3ff2ec034f"
            },
            "attachments": {}
        },
        {
            "cell_type": "markdown",
            "source": [
                "**Part 8: Write a query to find the build names of the four builds from Part 7 above.**"
            ],
            "metadata": {
                "azdata_cell_guid": "2efb9dee-8467-4e56-b2eb-d5708891bcb1",
                "extensions": {
                    "azuredatastudio": {
                        "views": []
                    }
                }
            },
            "attachments": {}
        },
        {
            "cell_type": "markdown",
            "source": [
                "**Part 9: Identify the most expensive product of 2019. Since we haven't learned aggregate functions yet, please do not use the max() function. Use conditional statements to return a single row with the product with the highest order value**"
            ],
            "metadata": {
                "language": "sql",
                "azdata_cell_guid": "cb2acb8d-b4a4-4248-97a3-c7d9f3f8ce69"
            },
            "attachments": {}
        },
        {
            "cell_type": "markdown",
            "source": [
                "**Q: What is the product name of the product and the price of the mountain bike with the highest prive ordered in 2019?**\n",
                "\n",
                "```\n",
                "A:\n",
                "```"
            ],
            "metadata": {
                "language": "sql",
                "azdata_cell_guid": "f12588ec-451e-4209-b5ca-1160a283c71f"
            },
            "attachments": {}
        },
        {
            "cell_type": "markdown",
            "source": [
                "**Part 10: Execute three additional queries on tables you haven't used yet. These can be at your discretion.**"
            ],
            "metadata": {
                "language": "sql",
                "azdata_cell_guid": "374bb956-e53d-498f-9135-0955bd04ec24"
            },
            "attachments": {}
        },
        {
            "cell_type": "markdown",
            "source": [
                "**Q: Write a few paragraphs about what you learned this week in the course. What interesting things did you discover in this assignment with simple queries?**\n",
                "\n",
                "```\n",
                "A:\n",
                "```"
            ],
            "metadata": {
                "azdata_cell_guid": "56efe00b-6bec-4371-8937-36b8b14e7773",
                "extensions": {
                    "azuredatastudio": {
                        "views": []
                    }
                }
            },
            "attachments": {}
        }
    ]
}