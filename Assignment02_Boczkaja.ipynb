{
    "metadata": {
        "kernelspec": {
            "name": "SQL",
            "display_name": "SQL",
            "language": "sql"
        },
        "language_info": {
            "name": "sql",
            "version": ""
        }
    },
    "nbformat_minor": 2,
    "nbformat": 4,
    "cells": [
        {
            "cell_type": "markdown",
            "source": [
                "# **Assignment 2: Building the OPC Database**\n",
                "\n",
                "## DSCI 504: Intro to SQL\n",
                "\n",
                "Jeffery Boczkaja\n",
                "\n",
                "05/19/23"
            ],
            "metadata": {
                "azdata_cell_guid": "800afac1-723c-43d8-bed1-9a1473526a3d"
            },
            "attachments": {}
        },
        {
            "cell_type": "markdown",
            "source": [
                "Assignment Objectives:\n",
                "\n",
                "1. Build a database schema\n",
                "2. Build database tables\n",
                "3. Identify Primary and Foreign Keys\n",
                "4. Identify table Constratints\n",
                "5. Import data into PostgreSQL\n",
                "6. Query a table"
            ],
            "metadata": {
                "azdata_cell_guid": "e926db60-83fa-45b0-8abb-5fff6d5a190b"
            },
            "attachments": {}
        },
        {
            "cell_type": "markdown",
            "source": [
                "**Step 1: Create a new schema named 'dsci\\_504'.**"
            ],
            "metadata": {
                "azdata_cell_guid": "e15ed8e8-a114-4bb1-91dc-347fcf0e62bd"
            },
            "attachments": {}
        },
        {
            "cell_type": "code",
            "source": [
                "CREATE SCHEMA dsci_504"
            ],
            "metadata": {
                "azdata_cell_guid": "f4e0f65d-b89f-49b3-8b69-388634efae99",
                "language": "sql"
            },
            "outputs": [
                {
                    "output_type": "error",
                    "evalue": "schema \"dsci_504\" already exists",
                    "ename": "",
                    "traceback": []
                },
                {
                    "output_type": "display_data",
                    "data": {
                        "text/html": "Total execution time: 00:00:00.032"
                    },
                    "metadata": {}
                }
            ],
            "execution_count": 599
        },
        {
            "cell_type": "markdown",
            "source": [
                "**STEP 2: Create the necessary tables identified in the Assignemt 2 Table Structure document located in Canvas. Use a new code cell for each table.**"
            ],
            "metadata": {
                "azdata_cell_guid": "df31d0ba-68c3-4a9b-a3b6-ab38b9433eb4"
            },
            "attachments": {}
        },
        {
            "cell_type": "code",
            "source": [
                "CREATE TABLE builds(\r\n",
                "    build_id SMALLINT\r\n",
                "    ,comp_hbar VARCHAR(50)\r\n",
                "\t,comp_brake\tVARCHAR(50)\r\n",
                "\t,comp_wheels VARCHAR(50)\r\n",
                "\t,comp_fork VARCHAR(50)\r\n",
                "\t,comp_shock VARCHAR(50)\r\n",
                "\t,comp_shifter VARCHAR(50)\r\n",
                "\t,comp_cassette VARCHAR(50)\r\n",
                "\t,comp_derail VARCHAR(50)\r\n",
                "\t,comp_dropper VARCHAR(50)\r\n",
                "\t,comp_crank VARCHAR(50)\r\n",
                "\t,comp_chain_ring VARCHAR(50)\r\n",
                "\t,build_name VARCHAR(25)\r\n",
                ");"
            ],
            "metadata": {
                "azdata_cell_guid": "2a8ebc4c-f98e-4727-a774-6aaa78607549",
                "language": "sql"
            },
            "outputs": [
                {
                    "output_type": "error",
                    "evalue": "relation \"builds\" already exists",
                    "ename": "",
                    "traceback": []
                },
                {
                    "output_type": "display_data",
                    "data": {
                        "text/html": "Total execution time: 00:00:00"
                    },
                    "metadata": {}
                }
            ],
            "execution_count": 421
        },
        {
            "cell_type": "code",
            "source": [
                "CREATE TABLE components(\r\n",
                "    comp_id INTEGER\r\n",
                "    ,omp_id INTEGER\r\n",
                "\t,comp_name VARCHAR(35)\r\n",
                "\t,comp_cost NUMERIC\r\n",
                "\t,comp_supplier INTEGER\r\n",
                "\t,comp_cat VARCHAR(25)\r\n",
                "\t,sup_id\tINTEGER\r\n",
                "    );\r\n",
                ""
            ],
            "metadata": {
                "language": "sql",
                "azdata_cell_guid": "af2401a7-d54a-43c6-8b8f-9c85955ee5d7"
            },
            "outputs": [
                {
                    "output_type": "error",
                    "evalue": "relation \"components\" already exists",
                    "ename": "",
                    "traceback": []
                },
                {
                    "output_type": "display_data",
                    "data": {
                        "text/html": "Total execution time: 00:00:00"
                    },
                    "metadata": {}
                }
            ],
            "execution_count": 328
        },
        {
            "cell_type": "code",
            "source": [
                "CREATE TABLE customers(\r\n",
                "    cus_id INTEGER\r\n",
                "\t,cus_num VARCHAR(25)\r\n",
                "\t,cus_last_name VARCHAR(50)\r\n",
                "\t,cus_first_name\tVARCHAR(50)\r\n",
                "\t,cus_add_num BIGINT\r\n",
                "\t,cus_address VARCHAR(100)\r\n",
                "\t,cus_city VARCHAR(50)\r\n",
                "\t,cus_state SMALLINT\r\n",
                "\t,cus_zip BIGINT\r\n",
                "\t,cus_phone BIGINT\r\n",
                "\t,cus_join_date DATE\r\n",
                "\t,cus_app_cd SMALLINT\r\n",
                "\t,cus_app_num VARCHAR(30)\r\n",
                "\t,tot_ord_qty SMALLINT\r\n",
                "\t,tot_ord_value NUMERIC\r\n",
                ");"
            ],
            "metadata": {
                "language": "sql",
                "azdata_cell_guid": "86cb886c-6630-46c1-bef6-94bd60466355"
            },
            "outputs": [
                {
                    "output_type": "display_data",
                    "data": {
                        "text/html": "Commands completed successfully"
                    },
                    "metadata": {}
                },
                {
                    "output_type": "display_data",
                    "data": {
                        "text/html": "Total execution time: 00:00:00.015"
                    },
                    "metadata": {}
                }
            ],
            "execution_count": 47
        },
        {
            "cell_type": "code",
            "source": [
                "CREATE TABLE customerwarehouseorders(\r\n",
                "    cus_id INTEGER\r\n",
                "    ,warehouse_id INTEGER\r\n",
                "    ,ord_id INTEGER\r\n",
                ");"
            ],
            "metadata": {
                "language": "sql",
                "azdata_cell_guid": "4c351520-65ca-4d12-8f25-4634f21bb9d6"
            },
            "outputs": [
                {
                    "output_type": "display_data",
                    "data": {
                        "text/html": "Commands completed successfully"
                    },
                    "metadata": {}
                },
                {
                    "output_type": "display_data",
                    "data": {
                        "text/html": "Total execution time: 00:00:00.024"
                    },
                    "metadata": {}
                }
            ],
            "execution_count": 49
        },
        {
            "cell_type": "code",
            "source": [
                "CREATE TABLE customerwarehousereturns(\r\n",
                "    cus_id INTEGER\r\n",
                "    ,warehouse_id INTEGER\r\n",
                "    ,ord_id INTEGER\r\n",
                "    ,rac_id INTEGER\r\n",
                ");"
            ],
            "metadata": {
                "language": "sql",
                "azdata_cell_guid": "a45c6c58-e8d8-403c-a673-1b7d9be28ab6"
            },
            "outputs": [
                {
                    "output_type": "display_data",
                    "data": {
                        "text/html": "Commands completed successfully"
                    },
                    "metadata": {}
                },
                {
                    "output_type": "display_data",
                    "data": {
                        "text/html": "Total execution time: 00:00:00.032"
                    },
                    "metadata": {}
                }
            ],
            "execution_count": 50
        },
        {
            "cell_type": "code",
            "source": [
                "CREATE TABLE orders(\r\n",
                "    ord_id INTEGER\r\n",
                "\t,ord_date DATE\r\n",
                "\t,ord_tax_loc CHAR(2)\r\n",
                "\t,order_tot NUMERIC\r\n",
                "\t,ord_ship_add TEXT\r\n",
                "\t,ord_ship_date DATE\r\n",
                "\t,ord_track_num CHAR(16)\r\n",
                "\t,prod_id INTEGER\r\n",
                "\t,warehouse_id INTEGER\r\n",
                "\t,cus_id INTEGER\r\n",
                ");"
            ],
            "metadata": {
                "language": "sql",
                "azdata_cell_guid": "a94e3b1f-615c-439b-bad6-ae47222a6fc1",
                "tags": []
            },
            "outputs": [
                {
                    "output_type": "display_data",
                    "data": {
                        "text/html": "Commands completed successfully"
                    },
                    "metadata": {}
                },
                {
                    "output_type": "display_data",
                    "data": {
                        "text/html": "Total execution time: 00:00:00.064"
                    },
                    "metadata": {}
                }
            ],
            "execution_count": 355
        },
        {
            "cell_type": "code",
            "source": [
                "CREATE TABLE ordertaxes(\r\n",
                "    ord_id INTEGER\r\n",
                "    ,ord_date DATE\r\n",
                "    ,tax_rate NUMERIC\r\n",
                ");"
            ],
            "metadata": {
                "language": "sql",
                "azdata_cell_guid": "d7241456-521d-4be2-89f8-2a2d650c5484"
            },
            "outputs": [
                {
                    "output_type": "display_data",
                    "data": {
                        "text/html": "Commands completed successfully"
                    },
                    "metadata": {}
                },
                {
                    "output_type": "display_data",
                    "data": {
                        "text/html": "Total execution time: 00:00:00.033"
                    },
                    "metadata": {}
                }
            ],
            "execution_count": 53
        },
        {
            "cell_type": "code",
            "source": [
                "CREATE TABLE productbuilds(\r\n",
                "    prod_id INTEGER\r\n",
                "    ,build_id INTEGER\r\n",
                ");"
            ],
            "metadata": {
                "language": "sql",
                "azdata_cell_guid": "16bd7e6e-4feb-472d-900b-ee84db9e6dc7"
            },
            "outputs": [
                {
                    "output_type": "display_data",
                    "data": {
                        "text/html": "Commands completed successfully"
                    },
                    "metadata": {}
                },
                {
                    "output_type": "display_data",
                    "data": {
                        "text/html": "Total execution time: 00:00:00.035"
                    },
                    "metadata": {}
                }
            ],
            "execution_count": 54
        },
        {
            "cell_type": "code",
            "source": [
                "CREATE TABLE products(\r\n",
                "    prod_id SMALLINT\r\n",
                "    ,prod_cat_name VARCHAR(50)\r\n",
                "    ,prod_manufacturer VARCHAR(50)\r\n",
                "    ,prod_name VARCHAR(50)\r\n",
                "    ,prod_description VARCHAR(50)\r\n",
                "    ,prod_price NUMERIC\r\n",
                "    ,prod_class VARCHAR(25)\r\n",
                "    ,country_origin VARCHAR(10)\r\n",
                "    ,sup_id INTEGER\r\n",
                ");"
            ],
            "metadata": {
                "language": "sql",
                "azdata_cell_guid": "01cad2f7-8f53-42d2-ab0a-add046a8d0ba"
            },
            "outputs": [
                {
                    "output_type": "error",
                    "evalue": "relation \"products\" already exists",
                    "ename": "",
                    "traceback": []
                },
                {
                    "output_type": "display_data",
                    "data": {
                        "text/html": "Total execution time: 00:00:00"
                    },
                    "metadata": {}
                }
            ],
            "execution_count": 352
        },
        {
            "cell_type": "code",
            "source": [
                "CREATE TABLE racs(\r\n",
                "    rac_id\tSMALLINT\r\n",
                "\t,tot_ret_item_cnt SMALLINT\r\n",
                "\t,tot_ret_amnt NUMERIC\r\n",
                "\t,cus_id\tSMALLINT\r\n",
                "\t,warehouse_id SMALLINT\r\n",
                "    ,prod_id SMALLINT\r\n",
                "    ,ord_id\tINTEGER\r\n",
                "\t,comp_id SMALLINT\r\n",
                ");"
            ],
            "metadata": {
                "language": "sql",
                "azdata_cell_guid": "47715802-7ef6-4e02-8707-c1a0e6a7ab1e"
            },
            "outputs": [
                {
                    "output_type": "display_data",
                    "data": {
                        "text/html": "Commands completed successfully"
                    },
                    "metadata": {}
                },
                {
                    "output_type": "display_data",
                    "data": {
                        "text/html": "Total execution time: 00:00:00.016"
                    },
                    "metadata": {}
                }
            ],
            "execution_count": 417
        },
        {
            "cell_type": "code",
            "source": [
                "CREATE TABLE states(\r\n",
                "    state_id SMALLINT\r\n",
                "    ,state VARCHAR(2)\r\n",
                ");"
            ],
            "metadata": {
                "language": "sql",
                "azdata_cell_guid": "3db2d241-51af-479e-b520-017d3f40cebc"
            },
            "outputs": [
                {
                    "output_type": "display_data",
                    "data": {
                        "text/html": "Commands completed successfully"
                    },
                    "metadata": {}
                },
                {
                    "output_type": "display_data",
                    "data": {
                        "text/html": "Total execution time: 00:00:00.031"
                    },
                    "metadata": {}
                }
            ],
            "execution_count": 59
        },
        {
            "cell_type": "code",
            "source": [
                "CREATE TABLE suppliers(\r\n",
                "    sup_id INTEGER\r\n",
                "    ,sup_name VARCHAR(35)\r\n",
                "    ,sup_ctry VARCHAR(30)\r\n",
                ");"
            ],
            "metadata": {
                "language": "sql",
                "azdata_cell_guid": "050fe9dd-21a9-462d-8835-5fd832e21fcf"
            },
            "outputs": [
                {
                    "output_type": "display_data",
                    "data": {
                        "text/html": "Commands completed successfully"
                    },
                    "metadata": {}
                },
                {
                    "output_type": "display_data",
                    "data": {
                        "text/html": "Total execution time: 00:00:00.016"
                    },
                    "metadata": {}
                }
            ],
            "execution_count": 61
        },
        {
            "cell_type": "code",
            "source": [
                "CREATE TABLE taxes(\r\n",
                "    tax_id SMALLINT\r\n",
                "    ,tax_location VARCHAR(2)\r\n",
                "    ,tax_rate NUMERIC\r\n",
                ");"
            ],
            "metadata": {
                "language": "sql",
                "azdata_cell_guid": "5ff7c715-278e-4a2f-b145-af22302ebfe1"
            },
            "outputs": [
                {
                    "output_type": "display_data",
                    "data": {
                        "text/html": "Commands completed successfully"
                    },
                    "metadata": {}
                },
                {
                    "output_type": "display_data",
                    "data": {
                        "text/html": "Total execution time: 00:00:00.016"
                    },
                    "metadata": {}
                }
            ],
            "execution_count": 62
        },
        {
            "cell_type": "code",
            "source": [
                "CREATE TABLE warehouses(\r\n",
                "    warehouse_id SMALLINT\r\n",
                "    ,warehouse_name VARCHAR(25)\r\n",
                "    ,warehouse_state SMALLINT\r\n",
                ");"
            ],
            "metadata": {
                "language": "sql",
                "azdata_cell_guid": "eede890b-5973-47bb-8cd6-35f27da7ea6f"
            },
            "outputs": [
                {
                    "output_type": "display_data",
                    "data": {
                        "text/html": "Commands completed successfully"
                    },
                    "metadata": {}
                },
                {
                    "output_type": "display_data",
                    "data": {
                        "text/html": "Total execution time: 00:00:00.049"
                    },
                    "metadata": {}
                }
            ],
            "execution_count": 63
        },
        {
            "cell_type": "markdown",
            "source": [
                "**Step 3: Import the data into the OPC tables in PostgreSQL. Use a new code cell for each file.**"
            ],
            "metadata": {
                "azdata_cell_guid": "54900f51-56e1-4b21-b839-326374a158a2"
            },
            "attachments": {}
        },
        {
            "cell_type": "code",
            "source": [
                "COPY builds\r\n",
                "\r\n",
                "FROM 'C:\\Users\\Public\\Documents\\builds.csv'\r\n",
                "\r\n",
                "DELIMITER ','\r\n",
                "\r\n",
                "CSV\r\n",
                "\r\n",
                "HEADER;\r\n",
                ""
            ],
            "metadata": {
                "azdata_cell_guid": "94f0c27b-0b1f-4492-bdb0-46cb6c5d2b61",
                "language": "sql"
            },
            "outputs": [
                {
                    "output_type": "display_data",
                    "data": {
                        "text/html": "Commands completed successfully"
                    },
                    "metadata": {}
                },
                {
                    "output_type": "display_data",
                    "data": {
                        "text/html": "Total execution time: 00:00:00.040"
                    },
                    "metadata": {}
                }
            ],
            "execution_count": 322
        },
        {
            "cell_type": "code",
            "source": [
                "COPY components\r\n",
                "\r\n",
                "FROM 'C:\\Users\\Public\\Documents\\components.csv'\r\n",
                "\r\n",
                "DELIMITER ','\r\n",
                "\r\n",
                "CSV\r\n",
                "\r\n",
                "HEADER;\r\n",
                ""
            ],
            "metadata": {
                "language": "sql",
                "azdata_cell_guid": "6aeb43a0-f3e9-4c2b-8201-772581acc9a8"
            },
            "outputs": [
                {
                    "output_type": "display_data",
                    "data": {
                        "text/html": "Commands completed successfully"
                    },
                    "metadata": {}
                },
                {
                    "output_type": "display_data",
                    "data": {
                        "text/html": "Total execution time: 00:00:00.054"
                    },
                    "metadata": {}
                }
            ],
            "execution_count": 342
        },
        {
            "cell_type": "code",
            "source": [
                "COPY customers\r\n",
                "\r\n",
                "FROM 'C:\\Users\\Public\\Documents\\customers.csv'\r\n",
                "\r\n",
                "DELIMITER ','\r\n",
                "\r\n",
                "CSV\r\n",
                "\r\n",
                "HEADER;\r\n",
                ""
            ],
            "metadata": {
                "language": "sql",
                "azdata_cell_guid": "fab54172-80a7-450d-8313-b993a849b330",
                "tags": []
            },
            "outputs": [
                {
                    "output_type": "display_data",
                    "data": {
                        "text/html": "Commands completed successfully"
                    },
                    "metadata": {}
                },
                {
                    "output_type": "display_data",
                    "data": {
                        "text/html": "Total execution time: 00:00:00.062"
                    },
                    "metadata": {}
                }
            ],
            "execution_count": 344
        },
        {
            "cell_type": "code",
            "source": [
                "COPY customerwarehouseorders\r\n",
                "\r\n",
                "FROM 'C:\\Users\\Public\\Documents\\customerwarehouseorders.csv'\r\n",
                "\r\n",
                "DELIMITER ','\r\n",
                "\r\n",
                "CSV\r\n",
                "\r\n",
                "HEADER;\r\n",
                ""
            ],
            "metadata": {
                "language": "sql",
                "azdata_cell_guid": "da8f0099-02fb-4cd2-a412-0fd337fc41d6"
            },
            "outputs": [
                {
                    "output_type": "display_data",
                    "data": {
                        "text/html": "Commands completed successfully"
                    },
                    "metadata": {}
                },
                {
                    "output_type": "display_data",
                    "data": {
                        "text/html": "Total execution time: 00:00:00.064"
                    },
                    "metadata": {}
                }
            ],
            "execution_count": 345
        },
        {
            "cell_type": "code",
            "source": [
                "COPY customerwarehousereturns\r\n",
                "\r\n",
                "FROM 'C:\\Users\\Public\\Documents\\customerwarehousereturns.csv'\r\n",
                "\r\n",
                "DELIMITER ','\r\n",
                "\r\n",
                "CSV\r\n",
                "\r\n",
                "HEADER;\r\n",
                ""
            ],
            "metadata": {
                "language": "sql",
                "azdata_cell_guid": "5c0b47bd-07c9-4a9a-9321-838c2b7179f7"
            },
            "outputs": [
                {
                    "output_type": "display_data",
                    "data": {
                        "text/html": "Commands completed successfully"
                    },
                    "metadata": {}
                },
                {
                    "output_type": "display_data",
                    "data": {
                        "text/html": "Total execution time: 00:00:00.031"
                    },
                    "metadata": {}
                }
            ],
            "execution_count": 346
        },
        {
            "cell_type": "code",
            "source": [
                "COPY orders\r\n",
                "\r\n",
                "FROM 'C:\\Users\\Public\\Documents\\orders.csv'\r\n",
                "\r\n",
                "DELIMITER ','\r\n",
                "\r\n",
                "CSV\r\n",
                "\r\n",
                "HEADER;\r\n",
                ""
            ],
            "metadata": {
                "language": "sql",
                "azdata_cell_guid": "b94b12a3-06c9-46a9-8861-728d8c55b151"
            },
            "outputs": [
                {
                    "output_type": "display_data",
                    "data": {
                        "text/html": "Commands completed successfully"
                    },
                    "metadata": {}
                },
                {
                    "output_type": "display_data",
                    "data": {
                        "text/html": "Total execution time: 00:00:00.046"
                    },
                    "metadata": {}
                }
            ],
            "execution_count": 356
        },
        {
            "cell_type": "code",
            "source": [
                "COPY ordertaxes\r\n",
                "\r\n",
                "FROM 'C:\\Users\\Public\\Documents\\ordertaxes.csv'\r\n",
                "\r\n",
                "DELIMITER ','\r\n",
                "\r\n",
                "CSV\r\n",
                "\r\n",
                "HEADER;\r\n",
                ""
            ],
            "metadata": {
                "language": "sql",
                "azdata_cell_guid": "9acaea46-194e-4d8e-8a38-749fa0bf296a"
            },
            "outputs": [
                {
                    "output_type": "display_data",
                    "data": {
                        "text/html": "Commands completed successfully"
                    },
                    "metadata": {}
                },
                {
                    "output_type": "display_data",
                    "data": {
                        "text/html": "Total execution time: 00:00:00.040"
                    },
                    "metadata": {}
                }
            ],
            "execution_count": 357
        },
        {
            "cell_type": "markdown",
            "source": [
                ""
            ],
            "metadata": {
                "language": "sql",
                "azdata_cell_guid": "ca6862fa-6e5b-47dd-99d2-3b2b50e9697f"
            }
        },
        {
            "cell_type": "code",
            "source": [
                "COPY productbuilds\r\n",
                "\r\n",
                "FROM 'C:\\Users\\Public\\Documents\\productbuilds.csv'\r\n",
                "\r\n",
                "DELIMITER ','\r\n",
                "\r\n",
                "CSV\r\n",
                "\r\n",
                "HEADER;\r\n",
                ""
            ],
            "metadata": {
                "language": "sql",
                "azdata_cell_guid": "0714f24a-8148-4507-89d5-517536ef84fd"
            },
            "outputs": [
                {
                    "output_type": "display_data",
                    "data": {
                        "text/html": "Commands completed successfully"
                    },
                    "metadata": {}
                },
                {
                    "output_type": "display_data",
                    "data": {
                        "text/html": "Total execution time: 00:00:00.047"
                    },
                    "metadata": {}
                }
            ],
            "execution_count": 358
        },
        {
            "cell_type": "code",
            "source": [
                "COPY products\r\n",
                "\r\n",
                "FROM 'C:\\Users\\Public\\Documents\\products.csv'\r\n",
                "\r\n",
                "DELIMITER ','\r\n",
                "\r\n",
                "CSV\r\n",
                "\r\n",
                "HEADER;\r\n",
                ""
            ],
            "metadata": {
                "language": "sql",
                "azdata_cell_guid": "c33a0aac-7624-4598-a8eb-97cf657b0f03"
            },
            "outputs": [
                {
                    "output_type": "display_data",
                    "data": {
                        "text/html": "Commands completed successfully"
                    },
                    "metadata": {}
                },
                {
                    "output_type": "display_data",
                    "data": {
                        "text/html": "Total execution time: 00:00:00.008"
                    },
                    "metadata": {}
                }
            ],
            "execution_count": 378
        },
        {
            "cell_type": "code",
            "source": [
                "COPY racs\r\n",
                "\r\n",
                "FROM 'C:\\Users\\Public\\Documents\\racs.csv'\r\n",
                "\r\n",
                "DELIMITER ','\r\n",
                "\r\n",
                "CSV\r\n",
                "\r\n",
                "HEADER;"
            ],
            "metadata": {
                "language": "sql",
                "azdata_cell_guid": "61aefa63-db94-4b4c-95c4-23c69f274ed2"
            },
            "outputs": [
                {
                    "output_type": "display_data",
                    "data": {
                        "text/html": "Commands completed successfully"
                    },
                    "metadata": {}
                },
                {
                    "output_type": "display_data",
                    "data": {
                        "text/html": "Total execution time: 00:00:00.040"
                    },
                    "metadata": {}
                }
            ],
            "execution_count": 418
        },
        {
            "cell_type": "code",
            "source": [
                "COPY states\r\n",
                "\r\n",
                "FROM 'C:\\Users\\Public\\Documents\\states.csv'\r\n",
                "\r\n",
                "DELIMITER ','\r\n",
                "\r\n",
                "CSV\r\n",
                "\r\n",
                "HEADER;"
            ],
            "metadata": {
                "language": "sql",
                "azdata_cell_guid": "f9682f5b-e2a8-43c0-b3db-854d9bdd4011"
            },
            "outputs": [
                {
                    "output_type": "display_data",
                    "data": {
                        "text/html": "Commands completed successfully"
                    },
                    "metadata": {}
                },
                {
                    "output_type": "display_data",
                    "data": {
                        "text/html": "Total execution time: 00:00:00.023"
                    },
                    "metadata": {}
                }
            ],
            "execution_count": 401
        },
        {
            "cell_type": "code",
            "source": [
                "COPY suppliers\r\n",
                "\r\n",
                "FROM 'C:\\Users\\Public\\Documents\\suppliers.csv'\r\n",
                "\r\n",
                "DELIMITER ','\r\n",
                "\r\n",
                "CSV\r\n",
                "\r\n",
                "HEADER;"
            ],
            "metadata": {
                "language": "sql",
                "azdata_cell_guid": "8d721143-75f6-4b91-aecd-6bf337ef3b11"
            },
            "outputs": [
                {
                    "output_type": "display_data",
                    "data": {
                        "text/html": "Commands completed successfully"
                    },
                    "metadata": {}
                },
                {
                    "output_type": "display_data",
                    "data": {
                        "text/html": "Total execution time: 00:00:00.032"
                    },
                    "metadata": {}
                }
            ],
            "execution_count": 402
        },
        {
            "cell_type": "code",
            "source": [
                "COPY taxes\r\n",
                "\r\n",
                "FROM 'C:\\Users\\Public\\Documents\\taxes.csv'\r\n",
                "\r\n",
                "DELIMITER ','\r\n",
                "\r\n",
                "CSV\r\n",
                "\r\n",
                "HEADER;"
            ],
            "metadata": {
                "language": "sql",
                "azdata_cell_guid": "f2b3d7a3-567b-406d-b428-2551e409c68a"
            },
            "outputs": [
                {
                    "output_type": "display_data",
                    "data": {
                        "text/html": "Commands completed successfully"
                    },
                    "metadata": {}
                },
                {
                    "output_type": "display_data",
                    "data": {
                        "text/html": "Total execution time: 00:00:00.031"
                    },
                    "metadata": {}
                }
            ],
            "execution_count": 403
        },
        {
            "cell_type": "code",
            "source": [
                "COPY warehouses\r\n",
                "\r\n",
                "FROM 'C:\\Users\\Public\\Documents\\warehouses.csv'\r\n",
                "\r\n",
                "DELIMITER ','\r\n",
                "\r\n",
                "CSV\r\n",
                "\r\n",
                "HEADER;"
            ],
            "metadata": {
                "language": "sql",
                "azdata_cell_guid": "04ef2d06-3abe-4e90-9b1c-d8714bfe92bb"
            },
            "outputs": [
                {
                    "output_type": "display_data",
                    "data": {
                        "text/html": "Commands completed successfully"
                    },
                    "metadata": {}
                },
                {
                    "output_type": "display_data",
                    "data": {
                        "text/html": "Total execution time: 00:00:00.023"
                    },
                    "metadata": {}
                }
            ],
            "execution_count": 404
        },
        {
            "cell_type": "markdown",
            "source": [
                "**Step 4: Execute a simple query on each table to verify the data in each table. Do not worry about missing data at this point. Limit your output to 10 lines using the following query syntax:**\n",
                "\n",
                "```\n",
                "SELECT * FROM [schema.table]LIMIT 5;\n",
                "\n",
                "```"
            ],
            "metadata": {
                "azdata_cell_guid": "a2036fb1-5001-44a9-aa56-ef2b19e08dc1"
            },
            "attachments": {}
        },
        {
            "cell_type": "code",
            "source": [
                "SELECT * FROM builds\r\n",
                "LIMIT 5;"
            ],
            "metadata": {
                "language": "sql",
                "azdata_cell_guid": "053b60cb-c638-4152-8802-2ff3521ca6f2"
            },
            "outputs": [
                {
                    "output_type": "display_data",
                    "data": {
                        "text/html": "(5 row(s) affected)"
                    },
                    "metadata": {}
                },
                {
                    "output_type": "display_data",
                    "data": {
                        "text/html": "Total execution time: 00:00:00.031"
                    },
                    "metadata": {}
                },
                {
                    "output_type": "execute_result",
                    "metadata": {},
                    "execution_count": 425,
                    "data": {
                        "application/vnd.dataresource+json": {
                            "schema": {
                                "fields": [
                                    {
                                        "name": "build_id"
                                    },
                                    {
                                        "name": "comp_hbar"
                                    },
                                    {
                                        "name": "comp_brake"
                                    },
                                    {
                                        "name": "comp_wheels"
                                    },
                                    {
                                        "name": "comp_fork"
                                    },
                                    {
                                        "name": "comp_shock"
                                    },
                                    {
                                        "name": "comp_shifter"
                                    },
                                    {
                                        "name": "comp_cassette"
                                    },
                                    {
                                        "name": "comp_derail"
                                    },
                                    {
                                        "name": "comp_dropper"
                                    },
                                    {
                                        "name": "comp_crank"
                                    },
                                    {
                                        "name": "comp_chain_ring"
                                    },
                                    {
                                        "name": "build_name"
                                    }
                                ]
                            },
                            "data": [
                                {
                                    "0": "74",
                                    "1": "10",
                                    "2": "62",
                                    "3": "100",
                                    "4": "131",
                                    "5": "194",
                                    "6": "278",
                                    "7": "218",
                                    "8": "278",
                                    "9": "280",
                                    "10": "279",
                                    "11": "278",
                                    "12": "gnar"
                                },
                                {
                                    "0": "1",
                                    "1": "29",
                                    "2": "64",
                                    "3": "108",
                                    "4": "127",
                                    "5": "280",
                                    "6": "276",
                                    "7": "222",
                                    "8": "277",
                                    "9": "257",
                                    "10": "277",
                                    "11": "277",
                                    "12": "five star"
                                },
                                {
                                    "0": "23",
                                    "1": "36",
                                    "2": "61",
                                    "3": "88",
                                    "4": "114",
                                    "5": "280",
                                    "6": "61",
                                    "7": "219",
                                    "8": "273",
                                    "9": "247",
                                    "10": "273",
                                    "11": "273",
                                    "12": "mammoth"
                                },
                                {
                                    "0": "4",
                                    "1": "32",
                                    "2": "63",
                                    "3": "86",
                                    "4": "113",
                                    "5": "172",
                                    "6": "278",
                                    "7": "220",
                                    "8": "278",
                                    "9": "252",
                                    "10": "269",
                                    "11": "278",
                                    "12": "3-star"
                                },
                                {
                                    "0": "8",
                                    "1": "6",
                                    "2": "56",
                                    "3": "70",
                                    "4": "122",
                                    "5": "180",
                                    "6": "279",
                                    "7": "220",
                                    "8": "279",
                                    "9": "236",
                                    "10": "279",
                                    "11": "279",
                                    "12": "2-star"
                                }
                            ]
                        },
                        "text/html": [
                            "<table>",
                            "<tr><th>build_id</th><th>comp_hbar</th><th>comp_brake</th><th>comp_wheels</th><th>comp_fork</th><th>comp_shock</th><th>comp_shifter</th><th>comp_cassette</th><th>comp_derail</th><th>comp_dropper</th><th>comp_crank</th><th>comp_chain_ring</th><th>build_name</th></tr>",
                            "<tr><td>74</td><td>10</td><td>62</td><td>100</td><td>131</td><td>194</td><td>278</td><td>218</td><td>278</td><td>280</td><td>279</td><td>278</td><td>gnar</td></tr>",
                            "<tr><td>1</td><td>29</td><td>64</td><td>108</td><td>127</td><td>280</td><td>276</td><td>222</td><td>277</td><td>257</td><td>277</td><td>277</td><td>five star</td></tr>",
                            "<tr><td>23</td><td>36</td><td>61</td><td>88</td><td>114</td><td>280</td><td>61</td><td>219</td><td>273</td><td>247</td><td>273</td><td>273</td><td>mammoth</td></tr>",
                            "<tr><td>4</td><td>32</td><td>63</td><td>86</td><td>113</td><td>172</td><td>278</td><td>220</td><td>278</td><td>252</td><td>269</td><td>278</td><td>3-star</td></tr>",
                            "<tr><td>8</td><td>6</td><td>56</td><td>70</td><td>122</td><td>180</td><td>279</td><td>220</td><td>279</td><td>236</td><td>279</td><td>279</td><td>2-star</td></tr>",
                            "</table>"
                        ]
                    }
                }
            ],
            "execution_count": 425
        },
        {
            "cell_type": "code",
            "source": [
                "SELECT * FROM components\r\n",
                "LIMIT 5;"
            ],
            "metadata": {
                "azdata_cell_guid": "cfa8ff9e-03eb-477f-929a-fb27c9d8e5ff",
                "language": "sql"
            },
            "outputs": [
                {
                    "output_type": "display_data",
                    "data": {
                        "text/html": "(5 row(s) affected)"
                    },
                    "metadata": {}
                },
                {
                    "output_type": "display_data",
                    "data": {
                        "text/html": "Total execution time: 00:00:00.049"
                    },
                    "metadata": {}
                },
                {
                    "output_type": "execute_result",
                    "metadata": {},
                    "execution_count": 424,
                    "data": {
                        "application/vnd.dataresource+json": {
                            "schema": {
                                "fields": [
                                    {
                                        "name": "comp_id"
                                    },
                                    {
                                        "name": "comp_name"
                                    },
                                    {
                                        "name": "comp_cost"
                                    },
                                    {
                                        "name": "comp_supplier"
                                    },
                                    {
                                        "name": "comp_cat"
                                    }
                                ]
                            },
                            "data": [
                                {
                                    "0": "1",
                                    "1": "Giant Contact SLR",
                                    "2": "143",
                                    "3": "1",
                                    "4": "handlebar"
                                },
                                {
                                    "0": "2",
                                    "1": "Rida Alpha R27",
                                    "2": "136",
                                    "3": "2",
                                    "4": "handlebar"
                                },
                                {
                                    "0": "3",
                                    "1": "Niner Flat Top",
                                    "2": "118",
                                    "3": "3",
                                    "4": "handlebar"
                                },
                                {
                                    "0": "4",
                                    "1": "Enve M7 Carb",
                                    "2": "69",
                                    "3": "4",
                                    "4": "handlebar"
                                },
                                {
                                    "0": "5",
                                    "1": "e13 base",
                                    "2": "91",
                                    "3": "5",
                                    "4": "handlebar"
                                }
                            ]
                        },
                        "text/html": [
                            "<table>",
                            "<tr><th>comp_id</th><th>comp_name</th><th>comp_cost</th><th>comp_supplier</th><th>comp_cat</th></tr>",
                            "<tr><td>1</td><td>Giant Contact SLR</td><td>143</td><td>1</td><td>handlebar</td></tr>",
                            "<tr><td>2</td><td>Rida Alpha R27</td><td>136</td><td>2</td><td>handlebar</td></tr>",
                            "<tr><td>3</td><td>Niner Flat Top</td><td>118</td><td>3</td><td>handlebar</td></tr>",
                            "<tr><td>4</td><td>Enve M7 Carb</td><td>69</td><td>4</td><td>handlebar</td></tr>",
                            "<tr><td>5</td><td>e13 base</td><td>91</td><td>5</td><td>handlebar</td></tr>",
                            "</table>"
                        ]
                    }
                }
            ],
            "execution_count": 424
        },
        {
            "cell_type": "code",
            "source": [
                "SELECT * FROM customers\r\n",
                "LIMIT 5;"
            ],
            "metadata": {
                "language": "sql",
                "azdata_cell_guid": "46162bcb-acb9-4e96-9eb3-23ead8967457"
            },
            "outputs": [
                {
                    "output_type": "display_data",
                    "data": {
                        "text/html": "(5 row(s) affected)"
                    },
                    "metadata": {}
                },
                {
                    "output_type": "display_data",
                    "data": {
                        "text/html": "Total execution time: 00:00:00.033"
                    },
                    "metadata": {}
                },
                {
                    "output_type": "execute_result",
                    "metadata": {},
                    "execution_count": 427,
                    "data": {
                        "application/vnd.dataresource+json": {
                            "schema": {
                                "fields": [
                                    {
                                        "name": "cus_id"
                                    },
                                    {
                                        "name": "cus_num"
                                    },
                                    {
                                        "name": "cus_last_name"
                                    },
                                    {
                                        "name": "cus_first_name"
                                    },
                                    {
                                        "name": "cus_add_num"
                                    },
                                    {
                                        "name": "cus_address"
                                    },
                                    {
                                        "name": "cus_city"
                                    },
                                    {
                                        "name": "cus_state"
                                    },
                                    {
                                        "name": "cus_zip"
                                    },
                                    {
                                        "name": "cus_phone"
                                    },
                                    {
                                        "name": "cus_join_date"
                                    },
                                    {
                                        "name": "cus_app_cd"
                                    },
                                    {
                                        "name": "cus_app_num"
                                    },
                                    {
                                        "name": "tot_ord_qty"
                                    },
                                    {
                                        "name": "tot_ord_value"
                                    }
                                ]
                            },
                            "data": [
                                {
                                    "0": "2600",
                                    "1": "NULL",
                                    "2": "Holzer",
                                    "3": "Yeni",
                                    "4": "8617",
                                    "5": "High Noon Street",
                                    "6": "Hattiesburg",
                                    "7": "17",
                                    "8": "39401",
                                    "9": "7833472627",
                                    "10": "2020-11-22",
                                    "11": "5",
                                    "12": "OPC85554622",
                                    "13": "60",
                                    "14": "10641.48"
                                },
                                {
                                    "0": "2601",
                                    "1": "NULL",
                                    "2": "Hull",
                                    "3": "Tancredo",
                                    "4": "7673",
                                    "5": "Cedat Camp Road",
                                    "6": "Oswego",
                                    "7": "19",
                                    "8": "13126",
                                    "9": "5154255063",
                                    "10": "2020-04-19",
                                    "11": "9",
                                    "12": "OPC86688258",
                                    "13": "49",
                                    "14": "24585.61"
                                },
                                {
                                    "0": "2602",
                                    "1": "NULL",
                                    "2": "Sokol",
                                    "3": "Teodor",
                                    "4": "965",
                                    "5": "Southampton",
                                    "6": "Salt Lake City",
                                    "7": "26",
                                    "8": "84119",
                                    "9": "8802052764",
                                    "10": "2020-04-15",
                                    "11": "14",
                                    "12": "OPC87710870",
                                    "13": "48",
                                    "14": "8514.29"
                                },
                                {
                                    "0": "2603",
                                    "1": "NULL",
                                    "2": "Barnes",
                                    "3": "Theo",
                                    "4": "270",
                                    "5": "High Noon Ave",
                                    "6": "Coram",
                                    "7": "19",
                                    "8": "11727",
                                    "9": "2779494240",
                                    "10": "2020-09-14",
                                    "11": "18",
                                    "12": "OPC78993136",
                                    "13": "76",
                                    "14": "19173.06"
                                },
                                {
                                    "0": "2604",
                                    "1": "NULL",
                                    "2": "Tempest",
                                    "3": "Simone",
                                    "4": "751",
                                    "5": "East Shadow Brook Dr.",
                                    "6": "Pataskala",
                                    "7": "20",
                                    "8": "43062",
                                    "9": "7692163675",
                                    "10": "2020-06-24",
                                    "11": "11",
                                    "12": "OPC86812641",
                                    "13": "45",
                                    "14": "27325.72"
                                }
                            ]
                        },
                        "text/html": [
                            "<table>",
                            "<tr><th>cus_id</th><th>cus_num</th><th>cus_last_name</th><th>cus_first_name</th><th>cus_add_num</th><th>cus_address</th><th>cus_city</th><th>cus_state</th><th>cus_zip</th><th>cus_phone</th><th>cus_join_date</th><th>cus_app_cd</th><th>cus_app_num</th><th>tot_ord_qty</th><th>tot_ord_value</th></tr>",
                            "<tr><td>2600</td><td>NULL</td><td>Holzer</td><td>Yeni</td><td>8617</td><td>High Noon Street</td><td>Hattiesburg</td><td>17</td><td>39401</td><td>7833472627</td><td>2020-11-22</td><td>5</td><td>OPC85554622</td><td>60</td><td>10641.48</td></tr>",
                            "<tr><td>2601</td><td>NULL</td><td>Hull</td><td>Tancredo</td><td>7673</td><td>Cedat Camp Road</td><td>Oswego</td><td>19</td><td>13126</td><td>5154255063</td><td>2020-04-19</td><td>9</td><td>OPC86688258</td><td>49</td><td>24585.61</td></tr>",
                            "<tr><td>2602</td><td>NULL</td><td>Sokol</td><td>Teodor</td><td>965</td><td>Southampton</td><td>Salt Lake City</td><td>26</td><td>84119</td><td>8802052764</td><td>2020-04-15</td><td>14</td><td>OPC87710870</td><td>48</td><td>8514.29</td></tr>",
                            "<tr><td>2603</td><td>NULL</td><td>Barnes</td><td>Theo</td><td>270</td><td>High Noon Ave</td><td>Coram</td><td>19</td><td>11727</td><td>2779494240</td><td>2020-09-14</td><td>18</td><td>OPC78993136</td><td>76</td><td>19173.06</td></tr>",
                            "<tr><td>2604</td><td>NULL</td><td>Tempest</td><td>Simone</td><td>751</td><td>East Shadow Brook Dr.</td><td>Pataskala</td><td>20</td><td>43062</td><td>7692163675</td><td>2020-06-24</td><td>11</td><td>OPC86812641</td><td>45</td><td>27325.72</td></tr>",
                            "</table>"
                        ]
                    }
                }
            ],
            "execution_count": 427
        },
        {
            "cell_type": "code",
            "source": [
                "SELECT * FROM customerwarehouseorders\r\n",
                "LIMIT 5;"
            ],
            "metadata": {
                "language": "sql",
                "azdata_cell_guid": "9ebde56a-beea-4ba8-86f6-b567dbb7f75f"
            },
            "outputs": [
                {
                    "output_type": "display_data",
                    "data": {
                        "text/html": "(5 row(s) affected)"
                    },
                    "metadata": {}
                },
                {
                    "output_type": "display_data",
                    "data": {
                        "text/html": "Total execution time: 00:00:00.006"
                    },
                    "metadata": {}
                },
                {
                    "output_type": "execute_result",
                    "metadata": {},
                    "execution_count": 428,
                    "data": {
                        "application/vnd.dataresource+json": {
                            "schema": {
                                "fields": [
                                    {
                                        "name": "cus_id"
                                    },
                                    {
                                        "name": "warehouse_id"
                                    },
                                    {
                                        "name": "ord_id"
                                    }
                                ]
                            },
                            "data": [
                                {
                                    "0": "27",
                                    "1": "2",
                                    "2": "5920416"
                                },
                                {
                                    "0": "28",
                                    "1": "3",
                                    "2": "4825298"
                                },
                                {
                                    "0": "29",
                                    "1": "1",
                                    "2": "7009183"
                                },
                                {
                                    "0": "30",
                                    "1": "1",
                                    "2": "5186311"
                                },
                                {
                                    "0": "31",
                                    "1": "3",
                                    "2": "4274782"
                                }
                            ]
                        },
                        "text/html": [
                            "<table>",
                            "<tr><th>cus_id</th><th>warehouse_id</th><th>ord_id</th></tr>",
                            "<tr><td>27</td><td>2</td><td>5920416</td></tr>",
                            "<tr><td>28</td><td>3</td><td>4825298</td></tr>",
                            "<tr><td>29</td><td>1</td><td>7009183</td></tr>",
                            "<tr><td>30</td><td>1</td><td>5186311</td></tr>",
                            "<tr><td>31</td><td>3</td><td>4274782</td></tr>",
                            "</table>"
                        ]
                    }
                }
            ],
            "execution_count": 428
        },
        {
            "cell_type": "code",
            "source": [
                "SELECT * FROM customerwarehousereturns\r\n",
                "LIMIT 5;"
            ],
            "metadata": {
                "language": "sql",
                "azdata_cell_guid": "08ced8d0-253a-4f8f-bc2e-daab9d1360b1"
            },
            "outputs": [
                {
                    "output_type": "display_data",
                    "data": {
                        "text/html": "(5 row(s) affected)"
                    },
                    "metadata": {}
                },
                {
                    "output_type": "display_data",
                    "data": {
                        "text/html": "Total execution time: 00:00:00.015"
                    },
                    "metadata": {}
                },
                {
                    "output_type": "execute_result",
                    "metadata": {},
                    "execution_count": 429,
                    "data": {
                        "application/vnd.dataresource+json": {
                            "schema": {
                                "fields": [
                                    {
                                        "name": "cus_id"
                                    },
                                    {
                                        "name": "warehouse_id"
                                    },
                                    {
                                        "name": "ord_id"
                                    },
                                    {
                                        "name": "rac_id"
                                    }
                                ]
                            },
                            "data": [
                                {
                                    "0": "7",
                                    "1": "3",
                                    "2": "2679922",
                                    "3": "7"
                                },
                                {
                                    "0": "8",
                                    "1": "3",
                                    "2": "3872219",
                                    "3": "8"
                                },
                                {
                                    "0": "9",
                                    "1": "3",
                                    "2": "2344343",
                                    "3": "9"
                                },
                                {
                                    "0": "10",
                                    "1": "1",
                                    "2": "5417203",
                                    "3": "10"
                                },
                                {
                                    "0": "11",
                                    "1": "3",
                                    "2": "6801456",
                                    "3": "11"
                                }
                            ]
                        },
                        "text/html": [
                            "<table>",
                            "<tr><th>cus_id</th><th>warehouse_id</th><th>ord_id</th><th>rac_id</th></tr>",
                            "<tr><td>7</td><td>3</td><td>2679922</td><td>7</td></tr>",
                            "<tr><td>8</td><td>3</td><td>3872219</td><td>8</td></tr>",
                            "<tr><td>9</td><td>3</td><td>2344343</td><td>9</td></tr>",
                            "<tr><td>10</td><td>1</td><td>5417203</td><td>10</td></tr>",
                            "<tr><td>11</td><td>3</td><td>6801456</td><td>11</td></tr>",
                            "</table>"
                        ]
                    }
                }
            ],
            "execution_count": 429
        },
        {
            "cell_type": "code",
            "source": [
                ""
            ],
            "metadata": {
                "language": "sql",
                "azdata_cell_guid": "d98a7a6c-150e-47a4-9eac-c91c2ff17460"
            },
            "outputs": [],
            "execution_count": null
        },
        {
            "cell_type": "code",
            "source": [
                "SELECT * FROM orders\r\n",
                "LIMIT 5;"
            ],
            "metadata": {
                "language": "sql",
                "azdata_cell_guid": "2f5ab43a-3cd6-477d-bac5-4f592382cb44"
            },
            "outputs": [
                {
                    "output_type": "display_data",
                    "data": {
                        "text/html": "(5 row(s) affected)"
                    },
                    "metadata": {}
                },
                {
                    "output_type": "display_data",
                    "data": {
                        "text/html": "Total execution time: 00:00:00.033"
                    },
                    "metadata": {}
                },
                {
                    "output_type": "execute_result",
                    "metadata": {},
                    "execution_count": 430,
                    "data": {
                        "application/vnd.dataresource+json": {
                            "schema": {
                                "fields": [
                                    {
                                        "name": "ord_id"
                                    },
                                    {
                                        "name": "ord_date"
                                    },
                                    {
                                        "name": "ord_tax_loc"
                                    },
                                    {
                                        "name": "order_tot"
                                    },
                                    {
                                        "name": "ord_ship_add"
                                    },
                                    {
                                        "name": "ord_ship_date"
                                    },
                                    {
                                        "name": "ord_track_num"
                                    },
                                    {
                                        "name": "prod_id"
                                    },
                                    {
                                        "name": "warehouse_id"
                                    },
                                    {
                                        "name": "cus_id"
                                    }
                                ]
                            },
                            "data": [
                                {
                                    "0": "5920416",
                                    "1": "2018-08-08",
                                    "2": "6 ",
                                    "3": "2338.64",
                                    "4": "TRUE",
                                    "5": "2018-08-16",
                                    "6": "PAC4170462-0    ",
                                    "7": "57",
                                    "8": "2",
                                    "9": "27"
                                },
                                {
                                    "0": "4825298",
                                    "1": "2017-03-28",
                                    "2": "16",
                                    "3": "5275",
                                    "4": "FALSE",
                                    "5": "2017-03-30",
                                    "6": "PAC9343767-0    ",
                                    "7": "42",
                                    "8": "3",
                                    "9": "28"
                                },
                                {
                                    "0": "7009183",
                                    "1": "2010-10-14",
                                    "2": "18",
                                    "3": "4503.2",
                                    "4": "FALSE",
                                    "5": "2010-10-15",
                                    "6": "PAC762592-3     ",
                                    "7": "41",
                                    "8": "1",
                                    "9": "29"
                                },
                                {
                                    "0": "5186311",
                                    "1": "2001-05-12",
                                    "2": "26",
                                    "3": "8073.44",
                                    "4": "FALSE",
                                    "5": "2001-05-15",
                                    "6": "PAC6865813-2    ",
                                    "7": "15",
                                    "8": "1",
                                    "9": "30"
                                },
                                {
                                    "0": "4274782",
                                    "1": "2002-03-19",
                                    "2": "25",
                                    "3": "3572.2",
                                    "4": "FALSE",
                                    "5": "2002-03-25",
                                    "6": "PAC5040387-3    ",
                                    "7": "36",
                                    "8": "3",
                                    "9": "31"
                                }
                            ]
                        },
                        "text/html": [
                            "<table>",
                            "<tr><th>ord_id</th><th>ord_date</th><th>ord_tax_loc</th><th>order_tot</th><th>ord_ship_add</th><th>ord_ship_date</th><th>ord_track_num</th><th>prod_id</th><th>warehouse_id</th><th>cus_id</th></tr>",
                            "<tr><td>5920416</td><td>2018-08-08</td><td>6 </td><td>2338.64</td><td>TRUE</td><td>2018-08-16</td><td>PAC4170462-0    </td><td>57</td><td>2</td><td>27</td></tr>",
                            "<tr><td>4825298</td><td>2017-03-28</td><td>16</td><td>5275</td><td>FALSE</td><td>2017-03-30</td><td>PAC9343767-0    </td><td>42</td><td>3</td><td>28</td></tr>",
                            "<tr><td>7009183</td><td>2010-10-14</td><td>18</td><td>4503.2</td><td>FALSE</td><td>2010-10-15</td><td>PAC762592-3     </td><td>41</td><td>1</td><td>29</td></tr>",
                            "<tr><td>5186311</td><td>2001-05-12</td><td>26</td><td>8073.44</td><td>FALSE</td><td>2001-05-15</td><td>PAC6865813-2    </td><td>15</td><td>1</td><td>30</td></tr>",
                            "<tr><td>4274782</td><td>2002-03-19</td><td>25</td><td>3572.2</td><td>FALSE</td><td>2002-03-25</td><td>PAC5040387-3    </td><td>36</td><td>3</td><td>31</td></tr>",
                            "</table>"
                        ]
                    }
                }
            ],
            "execution_count": 430
        },
        {
            "cell_type": "code",
            "source": [
                "SELECT * FROM ordertaxes\r\n",
                "LIMIT 5;"
            ],
            "metadata": {
                "language": "sql",
                "azdata_cell_guid": "5f84908c-39d3-4cc8-8c1e-bf06f95c2184"
            },
            "outputs": [
                {
                    "output_type": "display_data",
                    "data": {
                        "text/html": "(5 row(s) affected)"
                    },
                    "metadata": {}
                },
                {
                    "output_type": "display_data",
                    "data": {
                        "text/html": "Total execution time: 00:00:00.008"
                    },
                    "metadata": {}
                },
                {
                    "output_type": "execute_result",
                    "metadata": {},
                    "execution_count": 431,
                    "data": {
                        "application/vnd.dataresource+json": {
                            "schema": {
                                "fields": [
                                    {
                                        "name": "ord_id"
                                    },
                                    {
                                        "name": "ord_date"
                                    },
                                    {
                                        "name": "tax_rate"
                                    }
                                ]
                            },
                            "data": [
                                {
                                    "0": "5920416",
                                    "1": "2018-08-08",
                                    "2": "6.35"
                                },
                                {
                                    "0": "4825298",
                                    "1": "2017-03-28",
                                    "2": "5.5"
                                },
                                {
                                    "0": "7009183",
                                    "1": "2010-10-14",
                                    "2": "4.75"
                                },
                                {
                                    "0": "5186311",
                                    "1": "2001-05-12",
                                    "2": "4.85"
                                },
                                {
                                    "0": "4274782",
                                    "1": "2002-03-19",
                                    "2": "6"
                                }
                            ]
                        },
                        "text/html": [
                            "<table>",
                            "<tr><th>ord_id</th><th>ord_date</th><th>tax_rate</th></tr>",
                            "<tr><td>5920416</td><td>2018-08-08</td><td>6.35</td></tr>",
                            "<tr><td>4825298</td><td>2017-03-28</td><td>5.5</td></tr>",
                            "<tr><td>7009183</td><td>2010-10-14</td><td>4.75</td></tr>",
                            "<tr><td>5186311</td><td>2001-05-12</td><td>4.85</td></tr>",
                            "<tr><td>4274782</td><td>2002-03-19</td><td>6</td></tr>",
                            "</table>"
                        ]
                    }
                }
            ],
            "execution_count": 431
        },
        {
            "cell_type": "code",
            "source": [
                "SELECT * FROM productbuilds\r\n",
                "LIMIT 5;"
            ],
            "metadata": {
                "language": "sql",
                "azdata_cell_guid": "3e9b470e-85ee-4e4c-bfc3-8539ec53bdd7"
            },
            "outputs": [
                {
                    "output_type": "display_data",
                    "data": {
                        "text/html": "(5 row(s) affected)"
                    },
                    "metadata": {}
                },
                {
                    "output_type": "display_data",
                    "data": {
                        "text/html": "Total execution time: 00:00:00.007"
                    },
                    "metadata": {}
                },
                {
                    "output_type": "execute_result",
                    "metadata": {},
                    "execution_count": 433,
                    "data": {
                        "application/vnd.dataresource+json": {
                            "schema": {
                                "fields": [
                                    {
                                        "name": "prod_id"
                                    },
                                    {
                                        "name": "build_id"
                                    }
                                ]
                            },
                            "data": [
                                {
                                    "0": "9",
                                    "1": "51"
                                },
                                {
                                    "0": "68",
                                    "1": "32"
                                },
                                {
                                    "0": "43",
                                    "1": "62"
                                },
                                {
                                    "0": "37",
                                    "1": "19"
                                },
                                {
                                    "0": "26",
                                    "1": "24"
                                }
                            ]
                        },
                        "text/html": [
                            "<table>",
                            "<tr><th>prod_id</th><th>build_id</th></tr>",
                            "<tr><td>9</td><td>51</td></tr>",
                            "<tr><td>68</td><td>32</td></tr>",
                            "<tr><td>43</td><td>62</td></tr>",
                            "<tr><td>37</td><td>19</td></tr>",
                            "<tr><td>26</td><td>24</td></tr>",
                            "</table>"
                        ]
                    }
                }
            ],
            "execution_count": 433
        },
        {
            "cell_type": "code",
            "source": [
                "SELECT * FROM products\r\n",
                "LIMIT 5;"
            ],
            "metadata": {
                "language": "sql",
                "azdata_cell_guid": "f576f61e-142b-45df-98a8-c61fb4a9e293"
            },
            "outputs": [
                {
                    "output_type": "display_data",
                    "data": {
                        "text/html": "(5 row(s) affected)"
                    },
                    "metadata": {}
                },
                {
                    "output_type": "display_data",
                    "data": {
                        "text/html": "Total execution time: 00:00:00.008"
                    },
                    "metadata": {}
                },
                {
                    "output_type": "execute_result",
                    "metadata": {},
                    "execution_count": 432,
                    "data": {
                        "application/vnd.dataresource+json": {
                            "schema": {
                                "fields": [
                                    {
                                        "name": "prod_id"
                                    },
                                    {
                                        "name": "prod_cat_name"
                                    },
                                    {
                                        "name": "prod_manufacturer"
                                    },
                                    {
                                        "name": "prod_name"
                                    },
                                    {
                                        "name": "prod_description"
                                    },
                                    {
                                        "name": "prod_price"
                                    },
                                    {
                                        "name": "prod_class"
                                    },
                                    {
                                        "name": "country_origin"
                                    },
                                    {
                                        "name": "sup_id"
                                    }
                                ]
                            },
                            "data": [
                                {
                                    "0": "9",
                                    "1": "NULL",
                                    "2": "63",
                                    "3": "Tallboy",
                                    "4": "Full-Suspension Mountain Bike",
                                    "5": "2799",
                                    "6": "Mid",
                                    "7": "2,3,4",
                                    "8": "NULL"
                                },
                                {
                                    "0": "68",
                                    "1": "NULL",
                                    "2": "61",
                                    "3": "Occam",
                                    "4": "Full-Suspension Mountain Bike",
                                    "5": "3999",
                                    "6": "Mid",
                                    "7": "2,3",
                                    "8": "NULL"
                                },
                                {
                                    "0": "43",
                                    "1": "NULL",
                                    "2": "70",
                                    "3": "Troy",
                                    "4": "Full-Suspension Mountain Bike",
                                    "5": "3199",
                                    "6": "Mid",
                                    "7": "2",
                                    "8": "NULL"
                                },
                                {
                                    "0": "37",
                                    "1": "NULL",
                                    "2": "22",
                                    "3": "DV9",
                                    "4": "Hardtail Mountain Bike",
                                    "5": "3009",
                                    "6": "Mid",
                                    "7": "1",
                                    "8": "NULL"
                                },
                                {
                                    "0": "26",
                                    "1": "NULL",
                                    "2": "8",
                                    "3": "Process 153",
                                    "4": "Full-Suspension Mountain Bike",
                                    "5": "3064",
                                    "6": "Mid",
                                    "7": "2,3,4",
                                    "8": "NULL"
                                }
                            ]
                        },
                        "text/html": [
                            "<table>",
                            "<tr><th>prod_id</th><th>prod_cat_name</th><th>prod_manufacturer</th><th>prod_name</th><th>prod_description</th><th>prod_price</th><th>prod_class</th><th>country_origin</th><th>sup_id</th></tr>",
                            "<tr><td>9</td><td>NULL</td><td>63</td><td>Tallboy</td><td>Full-Suspension Mountain Bike</td><td>2799</td><td>Mid</td><td>2,3,4</td><td>NULL</td></tr>",
                            "<tr><td>68</td><td>NULL</td><td>61</td><td>Occam</td><td>Full-Suspension Mountain Bike</td><td>3999</td><td>Mid</td><td>2,3</td><td>NULL</td></tr>",
                            "<tr><td>43</td><td>NULL</td><td>70</td><td>Troy</td><td>Full-Suspension Mountain Bike</td><td>3199</td><td>Mid</td><td>2</td><td>NULL</td></tr>",
                            "<tr><td>37</td><td>NULL</td><td>22</td><td>DV9</td><td>Hardtail Mountain Bike</td><td>3009</td><td>Mid</td><td>1</td><td>NULL</td></tr>",
                            "<tr><td>26</td><td>NULL</td><td>8</td><td>Process 153</td><td>Full-Suspension Mountain Bike</td><td>3064</td><td>Mid</td><td>2,3,4</td><td>NULL</td></tr>",
                            "</table>"
                        ]
                    }
                }
            ],
            "execution_count": 432
        },
        {
            "cell_type": "code",
            "source": [
                "SELECT * FROM racs\r\n",
                "LIMIT 5;"
            ],
            "metadata": {
                "language": "sql",
                "azdata_cell_guid": "968f8b94-e19d-4a94-abf1-ace1e5addb81"
            },
            "outputs": [
                {
                    "output_type": "display_data",
                    "data": {
                        "text/html": "(5 row(s) affected)"
                    },
                    "metadata": {}
                },
                {
                    "output_type": "display_data",
                    "data": {
                        "text/html": "Total execution time: 00:00:00.007"
                    },
                    "metadata": {}
                },
                {
                    "output_type": "execute_result",
                    "metadata": {},
                    "execution_count": 434,
                    "data": {
                        "application/vnd.dataresource+json": {
                            "schema": {
                                "fields": [
                                    {
                                        "name": "rac_id"
                                    },
                                    {
                                        "name": "tot_ret_item_cnt"
                                    },
                                    {
                                        "name": "tot_ret_amnt"
                                    },
                                    {
                                        "name": "cus_id"
                                    },
                                    {
                                        "name": "warehouse_id"
                                    },
                                    {
                                        "name": "prod_id"
                                    },
                                    {
                                        "name": "ord_id"
                                    },
                                    {
                                        "name": "comp_id"
                                    }
                                ]
                            },
                            "data": [
                                {
                                    "0": "178",
                                    "1": "0",
                                    "2": "0",
                                    "3": "1191",
                                    "4": "0",
                                    "5": "13",
                                    "6": "5484681",
                                    "7": "41"
                                },
                                {
                                    "0": "179",
                                    "1": "2",
                                    "2": "1008",
                                    "3": "1754",
                                    "4": "1",
                                    "5": "35",
                                    "6": "6727420",
                                    "7": "59"
                                },
                                {
                                    "0": "180",
                                    "1": "0",
                                    "2": "0",
                                    "3": "2454",
                                    "4": "2",
                                    "5": "46",
                                    "6": "4711571",
                                    "7": "48"
                                },
                                {
                                    "0": "181",
                                    "1": "7",
                                    "2": "970",
                                    "3": "2493",
                                    "4": "1",
                                    "5": "62",
                                    "6": "3555795",
                                    "7": "34"
                                },
                                {
                                    "0": "182",
                                    "1": "0",
                                    "2": "0",
                                    "3": "512",
                                    "4": "1",
                                    "5": "46",
                                    "6": "5687001",
                                    "7": "48"
                                }
                            ]
                        },
                        "text/html": [
                            "<table>",
                            "<tr><th>rac_id</th><th>tot_ret_item_cnt</th><th>tot_ret_amnt</th><th>cus_id</th><th>warehouse_id</th><th>prod_id</th><th>ord_id</th><th>comp_id</th></tr>",
                            "<tr><td>178</td><td>0</td><td>0</td><td>1191</td><td>0</td><td>13</td><td>5484681</td><td>41</td></tr>",
                            "<tr><td>179</td><td>2</td><td>1008</td><td>1754</td><td>1</td><td>35</td><td>6727420</td><td>59</td></tr>",
                            "<tr><td>180</td><td>0</td><td>0</td><td>2454</td><td>2</td><td>46</td><td>4711571</td><td>48</td></tr>",
                            "<tr><td>181</td><td>7</td><td>970</td><td>2493</td><td>1</td><td>62</td><td>3555795</td><td>34</td></tr>",
                            "<tr><td>182</td><td>0</td><td>0</td><td>512</td><td>1</td><td>46</td><td>5687001</td><td>48</td></tr>",
                            "</table>"
                        ]
                    }
                }
            ],
            "execution_count": 434
        },
        {
            "cell_type": "code",
            "source": [
                "SELECT * FROM states\r\n",
                "LIMIT 5;"
            ],
            "metadata": {
                "language": "sql",
                "azdata_cell_guid": "b67d08d8-7341-4e91-8a01-947427a5fadd"
            },
            "outputs": [
                {
                    "output_type": "display_data",
                    "data": {
                        "text/html": "(5 row(s) affected)"
                    },
                    "metadata": {}
                },
                {
                    "output_type": "display_data",
                    "data": {
                        "text/html": "Total execution time: 00:00:00.005"
                    },
                    "metadata": {}
                },
                {
                    "output_type": "execute_result",
                    "metadata": {},
                    "execution_count": 435,
                    "data": {
                        "application/vnd.dataresource+json": {
                            "schema": {
                                "fields": [
                                    {
                                        "name": "state_id"
                                    },
                                    {
                                        "name": "state"
                                    }
                                ]
                            },
                            "data": [
                                {
                                    "0": "1",
                                    "1": "AK"
                                },
                                {
                                    "0": "2",
                                    "1": "AL"
                                },
                                {
                                    "0": "3",
                                    "1": "AZ"
                                },
                                {
                                    "0": "4",
                                    "1": "CA"
                                },
                                {
                                    "0": "5",
                                    "1": "CO"
                                }
                            ]
                        },
                        "text/html": [
                            "<table>",
                            "<tr><th>state_id</th><th>state</th></tr>",
                            "<tr><td>1</td><td>AK</td></tr>",
                            "<tr><td>2</td><td>AL</td></tr>",
                            "<tr><td>3</td><td>AZ</td></tr>",
                            "<tr><td>4</td><td>CA</td></tr>",
                            "<tr><td>5</td><td>CO</td></tr>",
                            "</table>"
                        ]
                    }
                }
            ],
            "execution_count": 435
        },
        {
            "cell_type": "code",
            "source": [
                "SELECT * FROM suppliers\r\n",
                "LIMIT 5;"
            ],
            "metadata": {
                "language": "sql",
                "azdata_cell_guid": "56739d4e-c474-4610-9163-5ca8276c77b3"
            },
            "outputs": [
                {
                    "output_type": "display_data",
                    "data": {
                        "text/html": "(5 row(s) affected)"
                    },
                    "metadata": {}
                },
                {
                    "output_type": "display_data",
                    "data": {
                        "text/html": "Total execution time: 00:00:00.008"
                    },
                    "metadata": {}
                },
                {
                    "output_type": "execute_result",
                    "metadata": {},
                    "execution_count": 436,
                    "data": {
                        "application/vnd.dataresource+json": {
                            "schema": {
                                "fields": [
                                    {
                                        "name": "sup_id"
                                    },
                                    {
                                        "name": "sup_name"
                                    },
                                    {
                                        "name": "sup_ctry"
                                    }
                                ]
                            },
                            "data": [
                                {
                                    "0": "1",
                                    "1": "Giant",
                                    "2": "Taiwan"
                                },
                                {
                                    "0": "2",
                                    "1": "Ride Alpha",
                                    "2": "Andorra"
                                },
                                {
                                    "0": "3",
                                    "1": "Niner",
                                    "2": "USA"
                                },
                                {
                                    "0": "4",
                                    "1": "Enve",
                                    "2": "USA"
                                },
                                {
                                    "0": "5",
                                    "1": "e13",
                                    "2": "USA"
                                }
                            ]
                        },
                        "text/html": [
                            "<table>",
                            "<tr><th>sup_id</th><th>sup_name</th><th>sup_ctry</th></tr>",
                            "<tr><td>1</td><td>Giant</td><td>Taiwan</td></tr>",
                            "<tr><td>2</td><td>Ride Alpha</td><td>Andorra</td></tr>",
                            "<tr><td>3</td><td>Niner</td><td>USA</td></tr>",
                            "<tr><td>4</td><td>Enve</td><td>USA</td></tr>",
                            "<tr><td>5</td><td>e13</td><td>USA</td></tr>",
                            "</table>"
                        ]
                    }
                }
            ],
            "execution_count": 436
        },
        {
            "cell_type": "code",
            "source": [
                "SELECT * FROM taxes\r\n",
                "LIMIT 5;"
            ],
            "metadata": {
                "language": "sql",
                "azdata_cell_guid": "745988c9-0763-40f7-8b63-1d0a3a9cceb6",
                "tags": [
                    "hide_input"
                ]
            },
            "outputs": [
                {
                    "output_type": "display_data",
                    "data": {
                        "text/html": "(5 row(s) affected)"
                    },
                    "metadata": {}
                },
                {
                    "output_type": "display_data",
                    "data": {
                        "text/html": "Total execution time: 00:00:00.005"
                    },
                    "metadata": {}
                },
                {
                    "output_type": "execute_result",
                    "metadata": {},
                    "execution_count": 437,
                    "data": {
                        "application/vnd.dataresource+json": {
                            "schema": {
                                "fields": [
                                    {
                                        "name": "tax_id"
                                    },
                                    {
                                        "name": "tax_location"
                                    },
                                    {
                                        "name": "tax_rate"
                                    }
                                ]
                            },
                            "data": [
                                {
                                    "0": "1",
                                    "1": "AK",
                                    "2": "0"
                                },
                                {
                                    "0": "2",
                                    "1": "AL",
                                    "2": "4"
                                },
                                {
                                    "0": "3",
                                    "1": "AZ",
                                    "2": "5.6"
                                },
                                {
                                    "0": "4",
                                    "1": "CA",
                                    "2": "7.25"
                                },
                                {
                                    "0": "5",
                                    "1": "CO",
                                    "2": "7.25"
                                }
                            ]
                        },
                        "text/html": [
                            "<table>",
                            "<tr><th>tax_id</th><th>tax_location</th><th>tax_rate</th></tr>",
                            "<tr><td>1</td><td>AK</td><td>0</td></tr>",
                            "<tr><td>2</td><td>AL</td><td>4</td></tr>",
                            "<tr><td>3</td><td>AZ</td><td>5.6</td></tr>",
                            "<tr><td>4</td><td>CA</td><td>7.25</td></tr>",
                            "<tr><td>5</td><td>CO</td><td>7.25</td></tr>",
                            "</table>"
                        ]
                    }
                }
            ],
            "execution_count": 437
        },
        {
            "cell_type": "code",
            "source": [
                "SELECT * FROM warehouses\r\n",
                "LIMIT 5;"
            ],
            "metadata": {
                "language": "sql",
                "azdata_cell_guid": "cb26ddb7-4502-4f5d-9760-fdf4c4e7d06d"
            },
            "outputs": [
                {
                    "output_type": "display_data",
                    "data": {
                        "text/html": "(3 row(s) affected)"
                    },
                    "metadata": {}
                },
                {
                    "output_type": "display_data",
                    "data": {
                        "text/html": "Total execution time: 00:00:00.007"
                    },
                    "metadata": {}
                },
                {
                    "output_type": "execute_result",
                    "metadata": {},
                    "execution_count": 438,
                    "data": {
                        "application/vnd.dataresource+json": {
                            "schema": {
                                "fields": [
                                    {
                                        "name": "warehouse_id"
                                    },
                                    {
                                        "name": "warehouse_name"
                                    },
                                    {
                                        "name": "warehouse_state"
                                    }
                                ]
                            },
                            "data": [
                                {
                                    "0": "3",
                                    "1": "Columbus",
                                    "2": "20"
                                },
                                {
                                    "0": "1",
                                    "1": "Sacramento",
                                    "2": "4"
                                },
                                {
                                    "0": "2",
                                    "1": "Dallas",
                                    "2": "31"
                                }
                            ]
                        },
                        "text/html": [
                            "<table>",
                            "<tr><th>warehouse_id</th><th>warehouse_name</th><th>warehouse_state</th></tr>",
                            "<tr><td>3</td><td>Columbus</td><td>20</td></tr>",
                            "<tr><td>1</td><td>Sacramento</td><td>4</td></tr>",
                            "<tr><td>2</td><td>Dallas</td><td>31</td></tr>",
                            "</table>"
                        ]
                    }
                }
            ],
            "execution_count": 438
        },
        {
            "cell_type": "markdown",
            "source": [
                "**Step 5: Create primary keys within each of the newly created tables to elevate the database to 2NF. Some tables already have unique key columns that simply need to be identified as a Primary Key. Others may require a new column to do this. Run the below query after each table to validate the conttraints are placed on the tables.**\n",
                "\n",
                "```\n",
                "\n",
                "SELECT con.*\n",
                "    FROM pg_catalog.pg_constraint con\n",
                "        INNER JOIN pg_catalog.pg_class rel ON rel.oid = con.conrelid\n",
                "        INNER JOIN pg_catalog.pg_namespace nsp ON nsp.oid = connamespace\n",
                "        WHERE nsp.nspname = '{schema name}'\n",
                "             AND rel.relname = '{table name}';\n",
                "\n",
                "```"
            ],
            "metadata": {
                "azdata_cell_guid": "994c2c3d-5c16-4081-94d6-28c7d137640f"
            },
            "attachments": {}
        },
        {
            "cell_type": "code",
            "source": [
                "ALTER TABLE builds\r\n",
                "ADD PRIMARY KEY (builds_id)"
            ],
            "metadata": {
                "language": "sql",
                "azdata_cell_guid": "5887a184-4be2-4f9c-a241-821d6a581c29"
            },
            "outputs": [
                {
                    "output_type": "error",
                    "evalue": "column \"pk_builds\" of relation \"builds\" does not exist",
                    "ename": "",
                    "traceback": []
                },
                {
                    "output_type": "display_data",
                    "data": {
                        "text/html": "Total execution time: 00:00:00"
                    },
                    "metadata": {}
                }
            ],
            "execution_count": 521
        },
        {
            "cell_type": "code",
            "source": [
                "SELECT con.*\r\n",
                "    FROM pg_catalog.pg_constraint con\r\n",
                "        INNER JOIN pg_catalog.pg_class rel ON rel.oid = con.conrelid\r\n",
                "        INNER JOIN pg_catalog.pg_namespace nsp ON nsp.oid = connamespace\r\n",
                "        WHERE nsp.nspname = 'dsci_504'\r\n",
                "             AND rel.relname = 'builds';"
            ],
            "metadata": {
                "language": "sql",
                "azdata_cell_guid": "d82c8282-c4b6-447b-9b2b-e4221dc36598"
            },
            "outputs": [
                {
                    "output_type": "display_data",
                    "data": {
                        "text/html": "(0 row(s) affected)"
                    },
                    "metadata": {}
                },
                {
                    "output_type": "display_data",
                    "data": {
                        "text/html": "Total execution time: 00:00:00.008"
                    },
                    "metadata": {}
                },
                {
                    "output_type": "execute_result",
                    "metadata": {},
                    "execution_count": 490,
                    "data": {
                        "application/vnd.dataresource+json": {
                            "schema": {
                                "fields": [
                                    {
                                        "name": "oid"
                                    },
                                    {
                                        "name": "conname"
                                    },
                                    {
                                        "name": "connamespace"
                                    },
                                    {
                                        "name": "contype"
                                    },
                                    {
                                        "name": "condeferrable"
                                    },
                                    {
                                        "name": "condeferred"
                                    },
                                    {
                                        "name": "convalidated"
                                    },
                                    {
                                        "name": "conrelid"
                                    },
                                    {
                                        "name": "contypid"
                                    },
                                    {
                                        "name": "conindid"
                                    },
                                    {
                                        "name": "conparentid"
                                    },
                                    {
                                        "name": "confrelid"
                                    },
                                    {
                                        "name": "confupdtype"
                                    },
                                    {
                                        "name": "confdeltype"
                                    },
                                    {
                                        "name": "confmatchtype"
                                    },
                                    {
                                        "name": "conislocal"
                                    },
                                    {
                                        "name": "coninhcount"
                                    },
                                    {
                                        "name": "connoinherit"
                                    },
                                    {
                                        "name": "conkey"
                                    },
                                    {
                                        "name": "confkey"
                                    },
                                    {
                                        "name": "conpfeqop"
                                    },
                                    {
                                        "name": "conppeqop"
                                    },
                                    {
                                        "name": "conffeqop"
                                    },
                                    {
                                        "name": "confdelsetcols"
                                    },
                                    {
                                        "name": "conexclop"
                                    },
                                    {
                                        "name": "conbin"
                                    }
                                ]
                            },
                            "data": []
                        },
                        "text/html": [
                            "<table>",
                            "<tr><th>oid</th><th>conname</th><th>connamespace</th><th>contype</th><th>condeferrable</th><th>condeferred</th><th>convalidated</th><th>conrelid</th><th>contypid</th><th>conindid</th><th>conparentid</th><th>confrelid</th><th>confupdtype</th><th>confdeltype</th><th>confmatchtype</th><th>conislocal</th><th>coninhcount</th><th>connoinherit</th><th>conkey</th><th>confkey</th><th>conpfeqop</th><th>conppeqop</th><th>conffeqop</th><th>confdelsetcols</th><th>conexclop</th><th>conbin</th></tr>",
                            "</table>"
                        ]
                    }
                }
            ],
            "execution_count": 490
        },
        {
            "cell_type": "code",
            "source": [
                "ALTER TABLE components\r\n",
                "ADD PRIMARY KEY(comp_id)"
            ],
            "metadata": {
                "language": "sql",
                "azdata_cell_guid": "78b32c19-8190-4848-b185-8cbc96236e77"
            },
            "outputs": [
                {
                    "output_type": "display_data",
                    "data": {
                        "text/html": "Commands completed successfully"
                    },
                    "metadata": {}
                },
                {
                    "output_type": "display_data",
                    "data": {
                        "text/html": "Total execution time: 00:00:00.040"
                    },
                    "metadata": {}
                }
            ],
            "execution_count": 441
        },
        {
            "cell_type": "code",
            "source": [
                "SELECT con.*\r\n",
                "    FROM pg_catalog.pg_constraint con\r\n",
                "        INNER JOIN pg_catalog.pg_class rel ON rel.oid = con.conrelid\r\n",
                "        INNER JOIN pg_catalog.pg_namespace nsp ON nsp.oid = connamespace\r\n",
                "        WHERE nsp.nspname = 'dsci_504'\r\n",
                "             AND rel.relname = 'components';"
            ],
            "metadata": {
                "language": "sql",
                "azdata_cell_guid": "7fd7cada-7277-4069-96c7-4ba8b96daccf"
            },
            "outputs": [
                {
                    "output_type": "display_data",
                    "data": {
                        "text/html": "(0 row(s) affected)"
                    },
                    "metadata": {}
                },
                {
                    "output_type": "display_data",
                    "data": {
                        "text/html": "Total execution time: 00:00:00.008"
                    },
                    "metadata": {}
                },
                {
                    "output_type": "execute_result",
                    "metadata": {},
                    "execution_count": 454,
                    "data": {
                        "application/vnd.dataresource+json": {
                            "schema": {
                                "fields": [
                                    {
                                        "name": "oid"
                                    },
                                    {
                                        "name": "conname"
                                    },
                                    {
                                        "name": "connamespace"
                                    },
                                    {
                                        "name": "contype"
                                    },
                                    {
                                        "name": "condeferrable"
                                    },
                                    {
                                        "name": "condeferred"
                                    },
                                    {
                                        "name": "convalidated"
                                    },
                                    {
                                        "name": "conrelid"
                                    },
                                    {
                                        "name": "contypid"
                                    },
                                    {
                                        "name": "conindid"
                                    },
                                    {
                                        "name": "conparentid"
                                    },
                                    {
                                        "name": "confrelid"
                                    },
                                    {
                                        "name": "confupdtype"
                                    },
                                    {
                                        "name": "confdeltype"
                                    },
                                    {
                                        "name": "confmatchtype"
                                    },
                                    {
                                        "name": "conislocal"
                                    },
                                    {
                                        "name": "coninhcount"
                                    },
                                    {
                                        "name": "connoinherit"
                                    },
                                    {
                                        "name": "conkey"
                                    },
                                    {
                                        "name": "confkey"
                                    },
                                    {
                                        "name": "conpfeqop"
                                    },
                                    {
                                        "name": "conppeqop"
                                    },
                                    {
                                        "name": "conffeqop"
                                    },
                                    {
                                        "name": "confdelsetcols"
                                    },
                                    {
                                        "name": "conexclop"
                                    },
                                    {
                                        "name": "conbin"
                                    }
                                ]
                            },
                            "data": []
                        },
                        "text/html": [
                            "<table>",
                            "<tr><th>oid</th><th>conname</th><th>connamespace</th><th>contype</th><th>condeferrable</th><th>condeferred</th><th>convalidated</th><th>conrelid</th><th>contypid</th><th>conindid</th><th>conparentid</th><th>confrelid</th><th>confupdtype</th><th>confdeltype</th><th>confmatchtype</th><th>conislocal</th><th>coninhcount</th><th>connoinherit</th><th>conkey</th><th>confkey</th><th>conpfeqop</th><th>conppeqop</th><th>conffeqop</th><th>confdelsetcols</th><th>conexclop</th><th>conbin</th></tr>",
                            "</table>"
                        ]
                    }
                }
            ],
            "execution_count": 454
        },
        {
            "cell_type": "code",
            "source": [
                "ALTER TABLE customers\r\n",
                "ADD PRIMARY KEY(cus_id)"
            ],
            "metadata": {
                "language": "sql",
                "azdata_cell_guid": "f99ce414-7c27-4e6c-af31-caebe896d3d0"
            },
            "outputs": [
                {
                    "output_type": "display_data",
                    "data": {
                        "text/html": "Commands completed successfully"
                    },
                    "metadata": {}
                },
                {
                    "output_type": "display_data",
                    "data": {
                        "text/html": "Total execution time: 00:00:00.046"
                    },
                    "metadata": {}
                }
            ],
            "execution_count": 458
        },
        {
            "cell_type": "code",
            "source": [
                "SELECT con.*\r\n",
                "    FROM pg_catalog.pg_constraint con\r\n",
                "        INNER JOIN pg_catalog.pg_class rel ON rel.oid = con.conrelid\r\n",
                "        INNER JOIN pg_catalog.pg_namespace nsp ON nsp.oid = connamespace\r\n",
                "        WHERE nsp.nspname = 'dsci_504'\r\n",
                "             AND rel.relname = 'customers';"
            ],
            "metadata": {
                "language": "sql",
                "azdata_cell_guid": "ee01405f-631f-42cc-8244-7b0f9a51f309",
                "tags": []
            },
            "outputs": [
                {
                    "output_type": "display_data",
                    "data": {
                        "text/html": "(0 row(s) affected)"
                    },
                    "metadata": {}
                },
                {
                    "output_type": "display_data",
                    "data": {
                        "text/html": "Total execution time: 00:00:00.005"
                    },
                    "metadata": {}
                },
                {
                    "output_type": "execute_result",
                    "metadata": {},
                    "execution_count": 459,
                    "data": {
                        "application/vnd.dataresource+json": {
                            "schema": {
                                "fields": [
                                    {
                                        "name": "oid"
                                    },
                                    {
                                        "name": "conname"
                                    },
                                    {
                                        "name": "connamespace"
                                    },
                                    {
                                        "name": "contype"
                                    },
                                    {
                                        "name": "condeferrable"
                                    },
                                    {
                                        "name": "condeferred"
                                    },
                                    {
                                        "name": "convalidated"
                                    },
                                    {
                                        "name": "conrelid"
                                    },
                                    {
                                        "name": "contypid"
                                    },
                                    {
                                        "name": "conindid"
                                    },
                                    {
                                        "name": "conparentid"
                                    },
                                    {
                                        "name": "confrelid"
                                    },
                                    {
                                        "name": "confupdtype"
                                    },
                                    {
                                        "name": "confdeltype"
                                    },
                                    {
                                        "name": "confmatchtype"
                                    },
                                    {
                                        "name": "conislocal"
                                    },
                                    {
                                        "name": "coninhcount"
                                    },
                                    {
                                        "name": "connoinherit"
                                    },
                                    {
                                        "name": "conkey"
                                    },
                                    {
                                        "name": "confkey"
                                    },
                                    {
                                        "name": "conpfeqop"
                                    },
                                    {
                                        "name": "conppeqop"
                                    },
                                    {
                                        "name": "conffeqop"
                                    },
                                    {
                                        "name": "confdelsetcols"
                                    },
                                    {
                                        "name": "conexclop"
                                    },
                                    {
                                        "name": "conbin"
                                    }
                                ]
                            },
                            "data": []
                        },
                        "text/html": [
                            "<table>",
                            "<tr><th>oid</th><th>conname</th><th>connamespace</th><th>contype</th><th>condeferrable</th><th>condeferred</th><th>convalidated</th><th>conrelid</th><th>contypid</th><th>conindid</th><th>conparentid</th><th>confrelid</th><th>confupdtype</th><th>confdeltype</th><th>confmatchtype</th><th>conislocal</th><th>coninhcount</th><th>connoinherit</th><th>conkey</th><th>confkey</th><th>conpfeqop</th><th>conppeqop</th><th>conffeqop</th><th>confdelsetcols</th><th>conexclop</th><th>conbin</th></tr>",
                            "</table>"
                        ]
                    }
                }
            ],
            "execution_count": 459
        },
        {
            "cell_type": "code",
            "source": [
                "ALTER TABLE customerwarehouseorders\r\n",
                "ADD COLUMN warehouse_order_id SERIAL"
            ],
            "metadata": {
                "language": "sql",
                "azdata_cell_guid": "bef0d3e8-7fcd-4fbe-9894-0e9f509d6d37"
            },
            "outputs": [
                {
                    "output_type": "display_data",
                    "data": {
                        "text/html": "Commands completed successfully"
                    },
                    "metadata": {}
                },
                {
                    "output_type": "display_data",
                    "data": {
                        "text/html": "Total execution time: 00:00:00.040"
                    },
                    "metadata": {}
                }
            ],
            "execution_count": 539
        },
        {
            "cell_type": "code",
            "source": [
                "ALTER TABLE customerwarehouseorders\r\n",
                "ADD PRIMARY KEY(warehouse_order_id)"
            ],
            "metadata": {
                "language": "sql",
                "azdata_cell_guid": "d5a1d964-fa77-4417-9371-bd9eeadb35c8",
                "tags": [
                    "hide_input"
                ]
            },
            "outputs": [
                {
                    "output_type": "display_data",
                    "data": {
                        "text/html": "Commands completed successfully"
                    },
                    "metadata": {}
                },
                {
                    "output_type": "display_data",
                    "data": {
                        "text/html": "Total execution time: 00:00:00.008"
                    },
                    "metadata": {}
                }
            ],
            "execution_count": 540
        },
        {
            "cell_type": "code",
            "source": [
                "SELECT con.*\r\n",
                "    FROM pg_catalog.pg_constraint con\r\n",
                "        INNER JOIN pg_catalog.pg_class rel ON rel.oid = con.conrelid\r\n",
                "        INNER JOIN pg_catalog.pg_namespace nsp ON nsp.oid = connamespace\r\n",
                "        WHERE nsp.nspname = 'dsci_504'\r\n",
                "             AND rel.relname = 'customerwarehouseorders';"
            ],
            "metadata": {
                "language": "sql",
                "azdata_cell_guid": "7c5dc496-c7da-49f3-8671-9fec05b28f2c"
            },
            "outputs": [
                {
                    "output_type": "display_data",
                    "data": {
                        "text/html": "(0 row(s) affected)"
                    },
                    "metadata": {}
                },
                {
                    "output_type": "display_data",
                    "data": {
                        "text/html": "Total execution time: 00:00:00.007"
                    },
                    "metadata": {}
                },
                {
                    "output_type": "execute_result",
                    "metadata": {},
                    "execution_count": 506,
                    "data": {
                        "application/vnd.dataresource+json": {
                            "schema": {
                                "fields": [
                                    {
                                        "name": "oid"
                                    },
                                    {
                                        "name": "conname"
                                    },
                                    {
                                        "name": "connamespace"
                                    },
                                    {
                                        "name": "contype"
                                    },
                                    {
                                        "name": "condeferrable"
                                    },
                                    {
                                        "name": "condeferred"
                                    },
                                    {
                                        "name": "convalidated"
                                    },
                                    {
                                        "name": "conrelid"
                                    },
                                    {
                                        "name": "contypid"
                                    },
                                    {
                                        "name": "conindid"
                                    },
                                    {
                                        "name": "conparentid"
                                    },
                                    {
                                        "name": "confrelid"
                                    },
                                    {
                                        "name": "confupdtype"
                                    },
                                    {
                                        "name": "confdeltype"
                                    },
                                    {
                                        "name": "confmatchtype"
                                    },
                                    {
                                        "name": "conislocal"
                                    },
                                    {
                                        "name": "coninhcount"
                                    },
                                    {
                                        "name": "connoinherit"
                                    },
                                    {
                                        "name": "conkey"
                                    },
                                    {
                                        "name": "confkey"
                                    },
                                    {
                                        "name": "conpfeqop"
                                    },
                                    {
                                        "name": "conppeqop"
                                    },
                                    {
                                        "name": "conffeqop"
                                    },
                                    {
                                        "name": "confdelsetcols"
                                    },
                                    {
                                        "name": "conexclop"
                                    },
                                    {
                                        "name": "conbin"
                                    }
                                ]
                            },
                            "data": []
                        },
                        "text/html": [
                            "<table>",
                            "<tr><th>oid</th><th>conname</th><th>connamespace</th><th>contype</th><th>condeferrable</th><th>condeferred</th><th>convalidated</th><th>conrelid</th><th>contypid</th><th>conindid</th><th>conparentid</th><th>confrelid</th><th>confupdtype</th><th>confdeltype</th><th>confmatchtype</th><th>conislocal</th><th>coninhcount</th><th>connoinherit</th><th>conkey</th><th>confkey</th><th>conpfeqop</th><th>conppeqop</th><th>conffeqop</th><th>confdelsetcols</th><th>conexclop</th><th>conbin</th></tr>",
                            "</table>"
                        ]
                    }
                }
            ],
            "execution_count": 506
        },
        {
            "cell_type": "code",
            "source": [
                "ALTER TABLE customerwarehousereturns\r\n",
                "ADD COLUMN warehouse_returns SERIAL"
            ],
            "metadata": {
                "language": "sql",
                "azdata_cell_guid": "e373e0aa-9ad9-4593-8fee-7f1cce87042e"
            },
            "outputs": [
                {
                    "output_type": "display_data",
                    "data": {
                        "text/html": "Commands completed successfully"
                    },
                    "metadata": {}
                },
                {
                    "output_type": "display_data",
                    "data": {
                        "text/html": "Total execution time: 00:00:00.024"
                    },
                    "metadata": {}
                }
            ],
            "execution_count": 541
        },
        {
            "cell_type": "code",
            "source": [
                "ALTER TABLE customerwarehousereturns\r\n",
                "ADD PRIMARY KEY (warehouse_returns)"
            ],
            "metadata": {
                "language": "sql",
                "azdata_cell_guid": "3edf159d-33ba-4e32-8467-156aa94e4c5d"
            },
            "outputs": [
                {
                    "output_type": "display_data",
                    "data": {
                        "text/html": "Commands completed successfully"
                    },
                    "metadata": {}
                },
                {
                    "output_type": "display_data",
                    "data": {
                        "text/html": "Total execution time: 00:00:00.048"
                    },
                    "metadata": {}
                }
            ],
            "execution_count": 542
        },
        {
            "cell_type": "code",
            "source": [
                "SELECT con.*\r\n",
                "    FROM pg_catalog.pg_constraint con\r\n",
                "        INNER JOIN pg_catalog.pg_class rel ON rel.oid = con.conrelid\r\n",
                "        INNER JOIN pg_catalog.pg_namespace nsp ON nsp.oid = connamespace\r\n",
                "        WHERE nsp.nspname = 'dsci_504'\r\n",
                "             AND rel.relname = 'customerwarehousereturns';"
            ],
            "metadata": {
                "language": "sql",
                "azdata_cell_guid": "d385af89-4479-4f4a-a52d-c8ad5d3b2101"
            },
            "outputs": [
                {
                    "output_type": "display_data",
                    "data": {
                        "text/html": "(0 row(s) affected)"
                    },
                    "metadata": {}
                },
                {
                    "output_type": "display_data",
                    "data": {
                        "text/html": "Total execution time: 00:00:00.008"
                    },
                    "metadata": {}
                },
                {
                    "output_type": "execute_result",
                    "metadata": {},
                    "execution_count": 543,
                    "data": {
                        "application/vnd.dataresource+json": {
                            "schema": {
                                "fields": [
                                    {
                                        "name": "oid"
                                    },
                                    {
                                        "name": "conname"
                                    },
                                    {
                                        "name": "connamespace"
                                    },
                                    {
                                        "name": "contype"
                                    },
                                    {
                                        "name": "condeferrable"
                                    },
                                    {
                                        "name": "condeferred"
                                    },
                                    {
                                        "name": "convalidated"
                                    },
                                    {
                                        "name": "conrelid"
                                    },
                                    {
                                        "name": "contypid"
                                    },
                                    {
                                        "name": "conindid"
                                    },
                                    {
                                        "name": "conparentid"
                                    },
                                    {
                                        "name": "confrelid"
                                    },
                                    {
                                        "name": "confupdtype"
                                    },
                                    {
                                        "name": "confdeltype"
                                    },
                                    {
                                        "name": "confmatchtype"
                                    },
                                    {
                                        "name": "conislocal"
                                    },
                                    {
                                        "name": "coninhcount"
                                    },
                                    {
                                        "name": "connoinherit"
                                    },
                                    {
                                        "name": "conkey"
                                    },
                                    {
                                        "name": "confkey"
                                    },
                                    {
                                        "name": "conpfeqop"
                                    },
                                    {
                                        "name": "conppeqop"
                                    },
                                    {
                                        "name": "conffeqop"
                                    },
                                    {
                                        "name": "confdelsetcols"
                                    },
                                    {
                                        "name": "conexclop"
                                    },
                                    {
                                        "name": "conbin"
                                    }
                                ]
                            },
                            "data": []
                        },
                        "text/html": [
                            "<table>",
                            "<tr><th>oid</th><th>conname</th><th>connamespace</th><th>contype</th><th>condeferrable</th><th>condeferred</th><th>convalidated</th><th>conrelid</th><th>contypid</th><th>conindid</th><th>conparentid</th><th>confrelid</th><th>confupdtype</th><th>confdeltype</th><th>confmatchtype</th><th>conislocal</th><th>coninhcount</th><th>connoinherit</th><th>conkey</th><th>confkey</th><th>conpfeqop</th><th>conppeqop</th><th>conffeqop</th><th>confdelsetcols</th><th>conexclop</th><th>conbin</th></tr>",
                            "</table>"
                        ]
                    }
                }
            ],
            "execution_count": 543
        },
        {
            "cell_type": "code",
            "source": [
                "ALTER TABLE orders\r\n",
                "ADD PRIMARY KEY(ord_id)"
            ],
            "metadata": {
                "language": "sql",
                "azdata_cell_guid": "f69abdea-70c2-4664-884b-84207c4a8b1a"
            },
            "outputs": [
                {
                    "output_type": "display_data",
                    "data": {
                        "text/html": "Commands completed successfully"
                    },
                    "metadata": {}
                },
                {
                    "output_type": "display_data",
                    "data": {
                        "text/html": "Total execution time: 00:00:00.016"
                    },
                    "metadata": {}
                }
            ],
            "execution_count": 491
        },
        {
            "cell_type": "code",
            "source": [
                "SELECT con.*\r\n",
                "    FROM pg_catalog.pg_constraint con\r\n",
                "        INNER JOIN pg_catalog.pg_class rel ON rel.oid = con.conrelid\r\n",
                "        INNER JOIN pg_catalog.pg_namespace nsp ON nsp.oid = connamespace\r\n",
                "        WHERE nsp.nspname = 'dsci_504'\r\n",
                "             AND rel.relname = 'orders';"
            ],
            "metadata": {
                "language": "sql",
                "azdata_cell_guid": "0e8ac292-0103-4a12-ab16-14bad2375df5"
            },
            "outputs": [
                {
                    "output_type": "display_data",
                    "data": {
                        "text/html": "(0 row(s) affected)"
                    },
                    "metadata": {}
                },
                {
                    "output_type": "display_data",
                    "data": {
                        "text/html": "Total execution time: 00:00:00.008"
                    },
                    "metadata": {}
                },
                {
                    "output_type": "execute_result",
                    "metadata": {},
                    "execution_count": 493,
                    "data": {
                        "application/vnd.dataresource+json": {
                            "schema": {
                                "fields": [
                                    {
                                        "name": "oid"
                                    },
                                    {
                                        "name": "conname"
                                    },
                                    {
                                        "name": "connamespace"
                                    },
                                    {
                                        "name": "contype"
                                    },
                                    {
                                        "name": "condeferrable"
                                    },
                                    {
                                        "name": "condeferred"
                                    },
                                    {
                                        "name": "convalidated"
                                    },
                                    {
                                        "name": "conrelid"
                                    },
                                    {
                                        "name": "contypid"
                                    },
                                    {
                                        "name": "conindid"
                                    },
                                    {
                                        "name": "conparentid"
                                    },
                                    {
                                        "name": "confrelid"
                                    },
                                    {
                                        "name": "confupdtype"
                                    },
                                    {
                                        "name": "confdeltype"
                                    },
                                    {
                                        "name": "confmatchtype"
                                    },
                                    {
                                        "name": "conislocal"
                                    },
                                    {
                                        "name": "coninhcount"
                                    },
                                    {
                                        "name": "connoinherit"
                                    },
                                    {
                                        "name": "conkey"
                                    },
                                    {
                                        "name": "confkey"
                                    },
                                    {
                                        "name": "conpfeqop"
                                    },
                                    {
                                        "name": "conppeqop"
                                    },
                                    {
                                        "name": "conffeqop"
                                    },
                                    {
                                        "name": "confdelsetcols"
                                    },
                                    {
                                        "name": "conexclop"
                                    },
                                    {
                                        "name": "conbin"
                                    }
                                ]
                            },
                            "data": []
                        },
                        "text/html": [
                            "<table>",
                            "<tr><th>oid</th><th>conname</th><th>connamespace</th><th>contype</th><th>condeferrable</th><th>condeferred</th><th>convalidated</th><th>conrelid</th><th>contypid</th><th>conindid</th><th>conparentid</th><th>confrelid</th><th>confupdtype</th><th>confdeltype</th><th>confmatchtype</th><th>conislocal</th><th>coninhcount</th><th>connoinherit</th><th>conkey</th><th>confkey</th><th>conpfeqop</th><th>conppeqop</th><th>conffeqop</th><th>confdelsetcols</th><th>conexclop</th><th>conbin</th></tr>",
                            "</table>"
                        ]
                    }
                }
            ],
            "execution_count": 493
        },
        {
            "cell_type": "code",
            "source": [
                "ALTER TABLE productbuilds\r\n",
                "ADD COLUMN prod_build SERIAL"
            ],
            "metadata": {
                "language": "sql",
                "azdata_cell_guid": "f13a7c48-4e8f-4c46-b938-186d0d2a11c8"
            },
            "outputs": [
                {
                    "output_type": "display_data",
                    "data": {
                        "text/html": "Commands completed successfully"
                    },
                    "metadata": {}
                },
                {
                    "output_type": "display_data",
                    "data": {
                        "text/html": "Total execution time: 00:00:00.032"
                    },
                    "metadata": {}
                }
            ],
            "execution_count": 544
        },
        {
            "cell_type": "code",
            "source": [
                "ALTER TABLE productbuilds\r\n",
                "ADD PRIMARY KEY(prod_build)"
            ],
            "metadata": {
                "language": "sql",
                "azdata_cell_guid": "1636ab5a-f662-4a1e-89e8-a93fadb0cc4f"
            },
            "outputs": [
                {
                    "output_type": "display_data",
                    "data": {
                        "text/html": "Commands completed successfully"
                    },
                    "metadata": {}
                },
                {
                    "output_type": "display_data",
                    "data": {
                        "text/html": "Total execution time: 00:00:00.007"
                    },
                    "metadata": {}
                }
            ],
            "execution_count": 545
        },
        {
            "cell_type": "code",
            "source": [
                "SELECT con.*\r\n",
                "    FROM pg_catalog.pg_constraint con\r\n",
                "        INNER JOIN pg_catalog.pg_class rel ON rel.oid = con.conrelid\r\n",
                "        INNER JOIN pg_catalog.pg_namespace nsp ON nsp.oid = connamespace\r\n",
                "        WHERE nsp.nspname = 'dsci_504'\r\n",
                "             AND rel.relname = 'productbuilds';"
            ],
            "metadata": {
                "language": "sql",
                "azdata_cell_guid": "32ed199a-fc5e-4d73-81c8-0df129f7abeb"
            },
            "outputs": [
                {
                    "output_type": "display_data",
                    "data": {
                        "text/html": "(0 row(s) affected)"
                    },
                    "metadata": {}
                },
                {
                    "output_type": "display_data",
                    "data": {
                        "text/html": "Total execution time: 00:00:00.007"
                    },
                    "metadata": {}
                },
                {
                    "output_type": "execute_result",
                    "metadata": {},
                    "execution_count": 546,
                    "data": {
                        "application/vnd.dataresource+json": {
                            "schema": {
                                "fields": [
                                    {
                                        "name": "oid"
                                    },
                                    {
                                        "name": "conname"
                                    },
                                    {
                                        "name": "connamespace"
                                    },
                                    {
                                        "name": "contype"
                                    },
                                    {
                                        "name": "condeferrable"
                                    },
                                    {
                                        "name": "condeferred"
                                    },
                                    {
                                        "name": "convalidated"
                                    },
                                    {
                                        "name": "conrelid"
                                    },
                                    {
                                        "name": "contypid"
                                    },
                                    {
                                        "name": "conindid"
                                    },
                                    {
                                        "name": "conparentid"
                                    },
                                    {
                                        "name": "confrelid"
                                    },
                                    {
                                        "name": "confupdtype"
                                    },
                                    {
                                        "name": "confdeltype"
                                    },
                                    {
                                        "name": "confmatchtype"
                                    },
                                    {
                                        "name": "conislocal"
                                    },
                                    {
                                        "name": "coninhcount"
                                    },
                                    {
                                        "name": "connoinherit"
                                    },
                                    {
                                        "name": "conkey"
                                    },
                                    {
                                        "name": "confkey"
                                    },
                                    {
                                        "name": "conpfeqop"
                                    },
                                    {
                                        "name": "conppeqop"
                                    },
                                    {
                                        "name": "conffeqop"
                                    },
                                    {
                                        "name": "confdelsetcols"
                                    },
                                    {
                                        "name": "conexclop"
                                    },
                                    {
                                        "name": "conbin"
                                    }
                                ]
                            },
                            "data": []
                        },
                        "text/html": [
                            "<table>",
                            "<tr><th>oid</th><th>conname</th><th>connamespace</th><th>contype</th><th>condeferrable</th><th>condeferred</th><th>convalidated</th><th>conrelid</th><th>contypid</th><th>conindid</th><th>conparentid</th><th>confrelid</th><th>confupdtype</th><th>confdeltype</th><th>confmatchtype</th><th>conislocal</th><th>coninhcount</th><th>connoinherit</th><th>conkey</th><th>confkey</th><th>conpfeqop</th><th>conppeqop</th><th>conffeqop</th><th>confdelsetcols</th><th>conexclop</th><th>conbin</th></tr>",
                            "</table>"
                        ]
                    }
                }
            ],
            "execution_count": 546
        },
        {
            "cell_type": "code",
            "source": [
                "ALTER TABLE products\r\n",
                "ADD PRIMARY KEY(prod_id)"
            ],
            "metadata": {
                "language": "sql",
                "azdata_cell_guid": "02623938-f180-4889-9a8b-f0efdd2789f0"
            },
            "outputs": [
                {
                    "output_type": "display_data",
                    "data": {
                        "text/html": "Commands completed successfully"
                    },
                    "metadata": {}
                },
                {
                    "output_type": "display_data",
                    "data": {
                        "text/html": "Total execution time: 00:00:00.020"
                    },
                    "metadata": {}
                }
            ],
            "execution_count": 495
        },
        {
            "cell_type": "code",
            "source": [
                "SELECT con.*\r\n",
                "    FROM pg_catalog.pg_constraint con\r\n",
                "        INNER JOIN pg_catalog.pg_class rel ON rel.oid = con.conrelid\r\n",
                "        INNER JOIN pg_catalog.pg_namespace nsp ON nsp.oid = connamespace\r\n",
                "        WHERE nsp.nspname = 'dsci_504'\r\n",
                "             AND rel.relname = 'products';"
            ],
            "metadata": {
                "language": "sql",
                "azdata_cell_guid": "2b28d753-589f-4a17-b66d-6b6181c34d8d"
            },
            "outputs": [
                {
                    "output_type": "display_data",
                    "data": {
                        "text/html": "(0 row(s) affected)"
                    },
                    "metadata": {}
                },
                {
                    "output_type": "display_data",
                    "data": {
                        "text/html": "Total execution time: 00:00:00.007"
                    },
                    "metadata": {}
                },
                {
                    "output_type": "execute_result",
                    "metadata": {},
                    "execution_count": 496,
                    "data": {
                        "application/vnd.dataresource+json": {
                            "schema": {
                                "fields": [
                                    {
                                        "name": "oid"
                                    },
                                    {
                                        "name": "conname"
                                    },
                                    {
                                        "name": "connamespace"
                                    },
                                    {
                                        "name": "contype"
                                    },
                                    {
                                        "name": "condeferrable"
                                    },
                                    {
                                        "name": "condeferred"
                                    },
                                    {
                                        "name": "convalidated"
                                    },
                                    {
                                        "name": "conrelid"
                                    },
                                    {
                                        "name": "contypid"
                                    },
                                    {
                                        "name": "conindid"
                                    },
                                    {
                                        "name": "conparentid"
                                    },
                                    {
                                        "name": "confrelid"
                                    },
                                    {
                                        "name": "confupdtype"
                                    },
                                    {
                                        "name": "confdeltype"
                                    },
                                    {
                                        "name": "confmatchtype"
                                    },
                                    {
                                        "name": "conislocal"
                                    },
                                    {
                                        "name": "coninhcount"
                                    },
                                    {
                                        "name": "connoinherit"
                                    },
                                    {
                                        "name": "conkey"
                                    },
                                    {
                                        "name": "confkey"
                                    },
                                    {
                                        "name": "conpfeqop"
                                    },
                                    {
                                        "name": "conppeqop"
                                    },
                                    {
                                        "name": "conffeqop"
                                    },
                                    {
                                        "name": "confdelsetcols"
                                    },
                                    {
                                        "name": "conexclop"
                                    },
                                    {
                                        "name": "conbin"
                                    }
                                ]
                            },
                            "data": []
                        },
                        "text/html": [
                            "<table>",
                            "<tr><th>oid</th><th>conname</th><th>connamespace</th><th>contype</th><th>condeferrable</th><th>condeferred</th><th>convalidated</th><th>conrelid</th><th>contypid</th><th>conindid</th><th>conparentid</th><th>confrelid</th><th>confupdtype</th><th>confdeltype</th><th>confmatchtype</th><th>conislocal</th><th>coninhcount</th><th>connoinherit</th><th>conkey</th><th>confkey</th><th>conpfeqop</th><th>conppeqop</th><th>conffeqop</th><th>confdelsetcols</th><th>conexclop</th><th>conbin</th></tr>",
                            "</table>"
                        ]
                    }
                }
            ],
            "execution_count": 496
        },
        {
            "cell_type": "code",
            "source": [
                "ALTER TABLE racs\r\n",
                "ADD PRIMARY KEY(rac_id)"
            ],
            "metadata": {
                "language": "sql",
                "azdata_cell_guid": "252b64a8-0182-4798-a68a-db05f94da853"
            },
            "outputs": [
                {
                    "output_type": "display_data",
                    "data": {
                        "text/html": "Commands completed successfully"
                    },
                    "metadata": {}
                },
                {
                    "output_type": "display_data",
                    "data": {
                        "text/html": "Total execution time: 00:00:00.048"
                    },
                    "metadata": {}
                }
            ],
            "execution_count": 497
        },
        {
            "cell_type": "code",
            "source": [
                "SELECT con.*\r\n",
                "    FROM pg_catalog.pg_constraint con\r\n",
                "        INNER JOIN pg_catalog.pg_class rel ON rel.oid = con.conrelid\r\n",
                "        INNER JOIN pg_catalog.pg_namespace nsp ON nsp.oid = connamespace\r\n",
                "        WHERE nsp.nspname = 'dsci_504'\r\n",
                "             AND rel.relname = 'racs';"
            ],
            "metadata": {
                "language": "sql",
                "azdata_cell_guid": "ee4b1987-426f-4352-8822-3a6d2f0e2ca9"
            },
            "outputs": [
                {
                    "output_type": "display_data",
                    "data": {
                        "text/html": "(0 row(s) affected)"
                    },
                    "metadata": {}
                },
                {
                    "output_type": "display_data",
                    "data": {
                        "text/html": "Total execution time: 00:00:00"
                    },
                    "metadata": {}
                },
                {
                    "output_type": "execute_result",
                    "metadata": {},
                    "execution_count": 498,
                    "data": {
                        "application/vnd.dataresource+json": {
                            "schema": {
                                "fields": [
                                    {
                                        "name": "oid"
                                    },
                                    {
                                        "name": "conname"
                                    },
                                    {
                                        "name": "connamespace"
                                    },
                                    {
                                        "name": "contype"
                                    },
                                    {
                                        "name": "condeferrable"
                                    },
                                    {
                                        "name": "condeferred"
                                    },
                                    {
                                        "name": "convalidated"
                                    },
                                    {
                                        "name": "conrelid"
                                    },
                                    {
                                        "name": "contypid"
                                    },
                                    {
                                        "name": "conindid"
                                    },
                                    {
                                        "name": "conparentid"
                                    },
                                    {
                                        "name": "confrelid"
                                    },
                                    {
                                        "name": "confupdtype"
                                    },
                                    {
                                        "name": "confdeltype"
                                    },
                                    {
                                        "name": "confmatchtype"
                                    },
                                    {
                                        "name": "conislocal"
                                    },
                                    {
                                        "name": "coninhcount"
                                    },
                                    {
                                        "name": "connoinherit"
                                    },
                                    {
                                        "name": "conkey"
                                    },
                                    {
                                        "name": "confkey"
                                    },
                                    {
                                        "name": "conpfeqop"
                                    },
                                    {
                                        "name": "conppeqop"
                                    },
                                    {
                                        "name": "conffeqop"
                                    },
                                    {
                                        "name": "confdelsetcols"
                                    },
                                    {
                                        "name": "conexclop"
                                    },
                                    {
                                        "name": "conbin"
                                    }
                                ]
                            },
                            "data": []
                        },
                        "text/html": [
                            "<table>",
                            "<tr><th>oid</th><th>conname</th><th>connamespace</th><th>contype</th><th>condeferrable</th><th>condeferred</th><th>convalidated</th><th>conrelid</th><th>contypid</th><th>conindid</th><th>conparentid</th><th>confrelid</th><th>confupdtype</th><th>confdeltype</th><th>confmatchtype</th><th>conislocal</th><th>coninhcount</th><th>connoinherit</th><th>conkey</th><th>confkey</th><th>conpfeqop</th><th>conppeqop</th><th>conffeqop</th><th>confdelsetcols</th><th>conexclop</th><th>conbin</th></tr>",
                            "</table>"
                        ]
                    }
                }
            ],
            "execution_count": 498
        },
        {
            "cell_type": "code",
            "source": [
                "ALTER TABLE states\r\n",
                "ADD PRIMARY KEY(state_id)"
            ],
            "metadata": {
                "language": "sql",
                "azdata_cell_guid": "23a6659e-8025-4727-a94f-789f85c255e7"
            },
            "outputs": [
                {
                    "output_type": "display_data",
                    "data": {
                        "text/html": "Commands completed successfully"
                    },
                    "metadata": {}
                },
                {
                    "output_type": "display_data",
                    "data": {
                        "text/html": "Total execution time: 00:00:00.040"
                    },
                    "metadata": {}
                }
            ],
            "execution_count": 499
        },
        {
            "cell_type": "code",
            "source": [
                "SELECT con.*\r\n",
                "    FROM pg_catalog.pg_constraint con\r\n",
                "        INNER JOIN pg_catalog.pg_class rel ON rel.oid = con.conrelid\r\n",
                "        INNER JOIN pg_catalog.pg_namespace nsp ON nsp.oid = connamespace\r\n",
                "        WHERE nsp.nspname = 'dsci_504'\r\n",
                "             AND rel.relname = 'states';"
            ],
            "metadata": {
                "language": "sql",
                "azdata_cell_guid": "81810a82-d89e-46db-80e6-c3d7aa72cf1e"
            },
            "outputs": [
                {
                    "output_type": "display_data",
                    "data": {
                        "text/html": "(0 row(s) affected)"
                    },
                    "metadata": {}
                },
                {
                    "output_type": "display_data",
                    "data": {
                        "text/html": "Total execution time: 00:00:00.007"
                    },
                    "metadata": {}
                },
                {
                    "output_type": "execute_result",
                    "metadata": {},
                    "execution_count": 500,
                    "data": {
                        "application/vnd.dataresource+json": {
                            "schema": {
                                "fields": [
                                    {
                                        "name": "oid"
                                    },
                                    {
                                        "name": "conname"
                                    },
                                    {
                                        "name": "connamespace"
                                    },
                                    {
                                        "name": "contype"
                                    },
                                    {
                                        "name": "condeferrable"
                                    },
                                    {
                                        "name": "condeferred"
                                    },
                                    {
                                        "name": "convalidated"
                                    },
                                    {
                                        "name": "conrelid"
                                    },
                                    {
                                        "name": "contypid"
                                    },
                                    {
                                        "name": "conindid"
                                    },
                                    {
                                        "name": "conparentid"
                                    },
                                    {
                                        "name": "confrelid"
                                    },
                                    {
                                        "name": "confupdtype"
                                    },
                                    {
                                        "name": "confdeltype"
                                    },
                                    {
                                        "name": "confmatchtype"
                                    },
                                    {
                                        "name": "conislocal"
                                    },
                                    {
                                        "name": "coninhcount"
                                    },
                                    {
                                        "name": "connoinherit"
                                    },
                                    {
                                        "name": "conkey"
                                    },
                                    {
                                        "name": "confkey"
                                    },
                                    {
                                        "name": "conpfeqop"
                                    },
                                    {
                                        "name": "conppeqop"
                                    },
                                    {
                                        "name": "conffeqop"
                                    },
                                    {
                                        "name": "confdelsetcols"
                                    },
                                    {
                                        "name": "conexclop"
                                    },
                                    {
                                        "name": "conbin"
                                    }
                                ]
                            },
                            "data": []
                        },
                        "text/html": [
                            "<table>",
                            "<tr><th>oid</th><th>conname</th><th>connamespace</th><th>contype</th><th>condeferrable</th><th>condeferred</th><th>convalidated</th><th>conrelid</th><th>contypid</th><th>conindid</th><th>conparentid</th><th>confrelid</th><th>confupdtype</th><th>confdeltype</th><th>confmatchtype</th><th>conislocal</th><th>coninhcount</th><th>connoinherit</th><th>conkey</th><th>confkey</th><th>conpfeqop</th><th>conppeqop</th><th>conffeqop</th><th>confdelsetcols</th><th>conexclop</th><th>conbin</th></tr>",
                            "</table>"
                        ]
                    }
                }
            ],
            "execution_count": 500
        },
        {
            "cell_type": "code",
            "source": [
                "ALTER TABLE suppliers\r\n",
                "ADD PRIMARY KEY(sup_id)"
            ],
            "metadata": {
                "language": "sql",
                "azdata_cell_guid": "b7009e64-0f81-4185-98e5-5ca9d5dd0e22"
            },
            "outputs": [
                {
                    "output_type": "display_data",
                    "data": {
                        "text/html": "Commands completed successfully"
                    },
                    "metadata": {}
                },
                {
                    "output_type": "display_data",
                    "data": {
                        "text/html": "Total execution time: 00:00:00.039"
                    },
                    "metadata": {}
                }
            ],
            "execution_count": 501
        },
        {
            "cell_type": "code",
            "source": [
                "SELECT con.*\r\n",
                "    FROM pg_catalog.pg_constraint con\r\n",
                "        INNER JOIN pg_catalog.pg_class rel ON rel.oid = con.conrelid\r\n",
                "        INNER JOIN pg_catalog.pg_namespace nsp ON nsp.oid = connamespace\r\n",
                "        WHERE nsp.nspname = 'dsci_504'\r\n",
                "             AND rel.relname = 'suppliers';"
            ],
            "metadata": {
                "language": "sql",
                "azdata_cell_guid": "0c6b856e-ab5b-4e91-b3a4-21545fa03147"
            },
            "outputs": [
                {
                    "output_type": "display_data",
                    "data": {
                        "text/html": "(0 row(s) affected)"
                    },
                    "metadata": {}
                },
                {
                    "output_type": "display_data",
                    "data": {
                        "text/html": "Total execution time: 00:00:00"
                    },
                    "metadata": {}
                },
                {
                    "output_type": "execute_result",
                    "metadata": {},
                    "execution_count": 502,
                    "data": {
                        "application/vnd.dataresource+json": {
                            "schema": {
                                "fields": [
                                    {
                                        "name": "oid"
                                    },
                                    {
                                        "name": "conname"
                                    },
                                    {
                                        "name": "connamespace"
                                    },
                                    {
                                        "name": "contype"
                                    },
                                    {
                                        "name": "condeferrable"
                                    },
                                    {
                                        "name": "condeferred"
                                    },
                                    {
                                        "name": "convalidated"
                                    },
                                    {
                                        "name": "conrelid"
                                    },
                                    {
                                        "name": "contypid"
                                    },
                                    {
                                        "name": "conindid"
                                    },
                                    {
                                        "name": "conparentid"
                                    },
                                    {
                                        "name": "confrelid"
                                    },
                                    {
                                        "name": "confupdtype"
                                    },
                                    {
                                        "name": "confdeltype"
                                    },
                                    {
                                        "name": "confmatchtype"
                                    },
                                    {
                                        "name": "conislocal"
                                    },
                                    {
                                        "name": "coninhcount"
                                    },
                                    {
                                        "name": "connoinherit"
                                    },
                                    {
                                        "name": "conkey"
                                    },
                                    {
                                        "name": "confkey"
                                    },
                                    {
                                        "name": "conpfeqop"
                                    },
                                    {
                                        "name": "conppeqop"
                                    },
                                    {
                                        "name": "conffeqop"
                                    },
                                    {
                                        "name": "confdelsetcols"
                                    },
                                    {
                                        "name": "conexclop"
                                    },
                                    {
                                        "name": "conbin"
                                    }
                                ]
                            },
                            "data": []
                        },
                        "text/html": [
                            "<table>",
                            "<tr><th>oid</th><th>conname</th><th>connamespace</th><th>contype</th><th>condeferrable</th><th>condeferred</th><th>convalidated</th><th>conrelid</th><th>contypid</th><th>conindid</th><th>conparentid</th><th>confrelid</th><th>confupdtype</th><th>confdeltype</th><th>confmatchtype</th><th>conislocal</th><th>coninhcount</th><th>connoinherit</th><th>conkey</th><th>confkey</th><th>conpfeqop</th><th>conppeqop</th><th>conffeqop</th><th>confdelsetcols</th><th>conexclop</th><th>conbin</th></tr>",
                            "</table>"
                        ]
                    }
                }
            ],
            "execution_count": 502
        },
        {
            "cell_type": "code",
            "source": [
                "ALTER TABLE taxes\r\n",
                "ADD PRIMARY KEY(tax_id)"
            ],
            "metadata": {
                "language": "sql",
                "azdata_cell_guid": "6dc3662b-5f23-4e71-a787-f20f7b97f76f"
            },
            "outputs": [
                {
                    "output_type": "display_data",
                    "data": {
                        "text/html": "Commands completed successfully"
                    },
                    "metadata": {}
                },
                {
                    "output_type": "display_data",
                    "data": {
                        "text/html": "Total execution time: 00:00:00.032"
                    },
                    "metadata": {}
                }
            ],
            "execution_count": 503
        },
        {
            "cell_type": "code",
            "source": [
                "SELECT con.*\r\n",
                "    FROM pg_catalog.pg_constraint con\r\n",
                "        INNER JOIN pg_catalog.pg_class rel ON rel.oid = con.conrelid\r\n",
                "        INNER JOIN pg_catalog.pg_namespace nsp ON nsp.oid = connamespace\r\n",
                "        WHERE nsp.nspname = 'dsci_504'\r\n",
                "             AND rel.relname = 'taxes';"
            ],
            "metadata": {
                "language": "sql",
                "azdata_cell_guid": "b8453eb3-66e0-4d92-afaf-42e8c24ca55a"
            },
            "outputs": [
                {
                    "output_type": "display_data",
                    "data": {
                        "text/html": "(0 row(s) affected)"
                    },
                    "metadata": {}
                },
                {
                    "output_type": "display_data",
                    "data": {
                        "text/html": "Total execution time: 00:00:00.007"
                    },
                    "metadata": {}
                },
                {
                    "output_type": "execute_result",
                    "metadata": {},
                    "execution_count": 504,
                    "data": {
                        "application/vnd.dataresource+json": {
                            "schema": {
                                "fields": [
                                    {
                                        "name": "oid"
                                    },
                                    {
                                        "name": "conname"
                                    },
                                    {
                                        "name": "connamespace"
                                    },
                                    {
                                        "name": "contype"
                                    },
                                    {
                                        "name": "condeferrable"
                                    },
                                    {
                                        "name": "condeferred"
                                    },
                                    {
                                        "name": "convalidated"
                                    },
                                    {
                                        "name": "conrelid"
                                    },
                                    {
                                        "name": "contypid"
                                    },
                                    {
                                        "name": "conindid"
                                    },
                                    {
                                        "name": "conparentid"
                                    },
                                    {
                                        "name": "confrelid"
                                    },
                                    {
                                        "name": "confupdtype"
                                    },
                                    {
                                        "name": "confdeltype"
                                    },
                                    {
                                        "name": "confmatchtype"
                                    },
                                    {
                                        "name": "conislocal"
                                    },
                                    {
                                        "name": "coninhcount"
                                    },
                                    {
                                        "name": "connoinherit"
                                    },
                                    {
                                        "name": "conkey"
                                    },
                                    {
                                        "name": "confkey"
                                    },
                                    {
                                        "name": "conpfeqop"
                                    },
                                    {
                                        "name": "conppeqop"
                                    },
                                    {
                                        "name": "conffeqop"
                                    },
                                    {
                                        "name": "confdelsetcols"
                                    },
                                    {
                                        "name": "conexclop"
                                    },
                                    {
                                        "name": "conbin"
                                    }
                                ]
                            },
                            "data": []
                        },
                        "text/html": [
                            "<table>",
                            "<tr><th>oid</th><th>conname</th><th>connamespace</th><th>contype</th><th>condeferrable</th><th>condeferred</th><th>convalidated</th><th>conrelid</th><th>contypid</th><th>conindid</th><th>conparentid</th><th>confrelid</th><th>confupdtype</th><th>confdeltype</th><th>confmatchtype</th><th>conislocal</th><th>coninhcount</th><th>connoinherit</th><th>conkey</th><th>confkey</th><th>conpfeqop</th><th>conppeqop</th><th>conffeqop</th><th>confdelsetcols</th><th>conexclop</th><th>conbin</th></tr>",
                            "</table>"
                        ]
                    }
                }
            ],
            "execution_count": 504
        },
        {
            "cell_type": "code",
            "source": [
                "ALTER TABLE warehouses\r\n",
                "ADD PRIMARY KEY(warehouse_id)"
            ],
            "metadata": {
                "language": "sql",
                "azdata_cell_guid": "7d459912-9bbe-40c7-ac00-85630f8b8d41"
            },
            "outputs": [
                {
                    "output_type": "display_data",
                    "data": {
                        "text/html": "Commands completed successfully"
                    },
                    "metadata": {}
                },
                {
                    "output_type": "display_data",
                    "data": {
                        "text/html": "Total execution time: 00:00:00.040"
                    },
                    "metadata": {}
                }
            ],
            "execution_count": 505
        },
        {
            "cell_type": "code",
            "source": [
                "SELECT con.*\r\n",
                "    FROM pg_catalog.pg_constraint con\r\n",
                "        INNER JOIN pg_catalog.pg_class rel ON rel.oid = con.conrelid\r\n",
                "        INNER JOIN pg_catalog.pg_namespace nsp ON nsp.oid = connamespace\r\n",
                "        WHERE nsp.nspname = 'dsci_504'\r\n",
                "             AND rel.relname = 'warehouses';"
            ],
            "metadata": {
                "language": "sql",
                "azdata_cell_guid": "1ada5f69-9d04-4ec4-8906-da021166e02b"
            },
            "outputs": [],
            "execution_count": null
        },
        {
            "cell_type": "markdown",
            "source": [
                "**Step 6: CREATE foreign key associations for each table to elevate the database to 3NF. These should be done within each respective table.**"
            ],
            "metadata": {
                "azdata_cell_guid": "c536c9d5-cb5e-4736-af53-b4031da1c53a"
            },
            "attachments": {}
        },
        {
            "cell_type": "code",
            "source": [
                "ALTER TABLE customers\r\n",
                "ADD CONSTRAINT FK_customers\r\n",
                "FOREIGN KEY (cus_id) REFERENCES customerwarehouseorders(cus_id)"
            ],
            "metadata": {
                "azdata_cell_guid": "f15a38d2-1494-4682-955e-9b0ebac5645b",
                "language": "sql"
            },
            "outputs": [
                {
                    "output_type": "error",
                    "evalue": "there is no unique constraint matching given keys for referenced table \"customerwarehouseorders\"",
                    "ename": "",
                    "traceback": []
                },
                {
                    "output_type": "display_data",
                    "data": {
                        "text/html": "Total execution time: 00:00:00"
                    },
                    "metadata": {}
                }
            ],
            "execution_count": 552
        },
        {
            "cell_type": "code",
            "source": [
                "ALTER TABLE customerwarehouseorders\r\n",
                "ADD FOREIGN KEY (cus_id) REFERENCES customers(cus_id)\r\n",
                ""
            ],
            "metadata": {
                "language": "sql",
                "azdata_cell_guid": "3d8c564e-752b-4dd1-9ca3-270798fdfb97"
            },
            "outputs": [
                {
                    "output_type": "error",
                    "evalue": "column \"rac_id\" referenced in foreign key constraint does not exist",
                    "ename": "",
                    "traceback": []
                },
                {
                    "output_type": "display_data",
                    "data": {
                        "text/html": "Total execution time: 00:00:00"
                    },
                    "metadata": {}
                }
            ],
            "execution_count": 559
        },
        {
            "cell_type": "code",
            "source": [
                "ALTER TABLE customerwarehousereturns\r\n",
                "ADD FOREIGN KEY (rac_id) REFERENCES racs(rac_id)\r\n",
                ""
            ],
            "metadata": {
                "language": "sql",
                "azdata_cell_guid": "f3f71cc3-27d3-4c48-85ef-b973add983d3"
            },
            "outputs": [
                {
                    "output_type": "error",
                    "evalue": "there is no unique constraint matching given keys for referenced table \"customerwarehouseorders\"",
                    "ename": "",
                    "traceback": []
                },
                {
                    "output_type": "display_data",
                    "data": {
                        "text/html": "Total execution time: 00:00:00"
                    },
                    "metadata": {}
                }
            ],
            "execution_count": 562
        },
        {
            "cell_type": "code",
            "source": [
                "ALTER TABLE orders\r\n",
                "ADD FOREIGN KEY (prod_id) REFERENCES products(prod_id)\r\n",
                ",ADD FOREIGN KEY (warehouse_id) REFERENCES warehouses(warehouse_id)\r\n",
                ",ADD FOREIGN KEY (cus_id) REFERENCES customers(cus_id)"
            ],
            "metadata": {
                "language": "sql",
                "azdata_cell_guid": "9ea06a68-50d1-4b71-bb9a-3d047baf2941"
            },
            "outputs": [
                {
                    "output_type": "display_data",
                    "data": {
                        "text/html": "Commands completed successfully"
                    },
                    "metadata": {}
                },
                {
                    "output_type": "display_data",
                    "data": {
                        "text/html": "Total execution time: 00:00:00.049"
                    },
                    "metadata": {}
                }
            ],
            "execution_count": 565
        },
        {
            "cell_type": "code",
            "source": [
                "ALTER TABLE productbuilds\r\n",
                "ADD FOREIGN KEY (prod_id) REFERENCES products(prod_id)\r\n",
                ",ADD FOREIGN KEY (build_id) REFERENCES builds(build_id)"
            ],
            "metadata": {
                "language": "sql",
                "azdata_cell_guid": "e4cbd7b5-4a6e-48e5-b278-d7fed49712ac"
            },
            "outputs": [
                {
                    "output_type": "display_data",
                    "data": {
                        "text/html": "Commands completed successfully"
                    },
                    "metadata": {}
                },
                {
                    "output_type": "display_data",
                    "data": {
                        "text/html": "Total execution time: 00:00:00.056"
                    },
                    "metadata": {}
                }
            ],
            "execution_count": 567
        },
        {
            "cell_type": "code",
            "source": [
                "ALTER TABLE racs\r\n",
                "ADD FOREIGN KEY (cus_id) REFERENCES customers(cus_id)\r\n",
                ",ADD FOREIGN KEY (ord_id) REFERENCES orders(ord_id)\r\n",
                ",ADD FOREIGN KEY (prod_id) REFERENCES products(prod_id)\r\n",
                ",ADD FOREIGN KEY (comp_id) REFERENCES components(comp_id)"
            ],
            "metadata": {
                "language": "sql",
                "azdata_cell_guid": "a56fb152-d86e-4ecd-914e-0503f779f34f"
            },
            "outputs": [
                {
                    "output_type": "display_data",
                    "data": {
                        "text/html": "Commands completed successfully"
                    },
                    "metadata": {}
                },
                {
                    "output_type": "display_data",
                    "data": {
                        "text/html": "Total execution time: 00:00:00.066"
                    },
                    "metadata": {}
                }
            ],
            "execution_count": 574
        },
        {
            "cell_type": "markdown",
            "source": [
                "**Step 7: Execute two queries of your choosing on two different tables in the database.**"
            ],
            "metadata": {
                "azdata_cell_guid": "0339e4e7-e0c7-44fa-9b83-7e3f18d9ed70"
            },
            "attachments": {}
        },
        {
            "cell_type": "code",
            "source": [
                "SELECT COUNT(*)\r\n",
                "  FROM builds"
            ],
            "metadata": {
                "azdata_cell_guid": "e4fa619b-86d8-4433-9b81-fe1cbc5f0b89",
                "language": "sql"
            },
            "outputs": [
                {
                    "output_type": "display_data",
                    "data": {
                        "text/html": "(1 row(s) affected)"
                    },
                    "metadata": {}
                },
                {
                    "output_type": "display_data",
                    "data": {
                        "text/html": "Total execution time: 00:00:00.007"
                    },
                    "metadata": {}
                },
                {
                    "output_type": "execute_result",
                    "metadata": {},
                    "execution_count": 596,
                    "data": {
                        "application/vnd.dataresource+json": {
                            "schema": {
                                "fields": [
                                    {
                                        "name": "count"
                                    }
                                ]
                            },
                            "data": [
                                {
                                    "0": "80"
                                }
                            ]
                        },
                        "text/html": [
                            "<table>",
                            "<tr><th>count</th></tr>",
                            "<tr><td>80</td></tr>",
                            "</table>"
                        ]
                    }
                }
            ],
            "execution_count": 596
        },
        {
            "cell_type": "code",
            "source": [
                "SELECT MAX(comp_cost)\r\n",
                "FROM components"
            ],
            "metadata": {
                "azdata_cell_guid": "ac6bd4c9-9c23-42ce-9b07-c8e2495aabc4",
                "language": "sql"
            },
            "outputs": [
                {
                    "output_type": "display_data",
                    "data": {
                        "text/html": "(1 row(s) affected)"
                    },
                    "metadata": {}
                },
                {
                    "output_type": "display_data",
                    "data": {
                        "text/html": "Total execution time: 00:00:00.032"
                    },
                    "metadata": {}
                },
                {
                    "output_type": "execute_result",
                    "metadata": {},
                    "execution_count": 598,
                    "data": {
                        "application/vnd.dataresource+json": {
                            "schema": {
                                "fields": [
                                    {
                                        "name": "max"
                                    }
                                ]
                            },
                            "data": [
                                {
                                    "0": "2199"
                                }
                            ]
                        },
                        "text/html": [
                            "<table>",
                            "<tr><th>max</th></tr>",
                            "<tr><td>2199</td></tr>",
                            "</table>"
                        ]
                    }
                }
            ],
            "execution_count": 598
        }
    ]
}