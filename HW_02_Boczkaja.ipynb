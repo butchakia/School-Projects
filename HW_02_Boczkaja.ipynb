{
 "cells": [
  {
   "cell_type": "markdown",
   "id": "695f49fd",
   "metadata": {},
   "source": [
    "# DSCI 503 - Homework 2\n",
    "### Jeffery Boczkaja"
   ]
  },
  {
   "cell_type": "markdown",
   "id": "c13f214a",
   "metadata": {},
   "source": [
    "## Problem 1: Alternating Lists"
   ]
  },
  {
   "cell_type": "code",
   "execution_count": 1,
   "id": "d5bd5353",
   "metadata": {},
   "outputs": [],
   "source": [
    "employees = ['Beth', 'Fred', 'Drew', 'Alex', 'Emma', 'Chad']\n",
    "years = [15, 11, 8, 5, 4, 2]"
   ]
  },
  {
   "cell_type": "code",
   "execution_count": 2,
   "id": "4ca341f8",
   "metadata": {},
   "outputs": [],
   "source": [
    "employees.insert(1, 'Gina')\n",
    "employees.insert(5, 'Herb')\n",
    "years.insert(1,12)\n",
    "years.insert(5,3)\n",
    "employees.append('Iris')\n",
    "years.append(0)"
   ]
  },
  {
   "cell_type": "code",
   "execution_count": 3,
   "id": "91294354",
   "metadata": {},
   "outputs": [
    {
     "name": "stdout",
     "output_type": "stream",
     "text": [
      "['Beth', 'Gina', 'Fred', 'Drew', 'Alex', 'Herb', 'Emma', 'Chad', 'Iris']\n",
      "[15, 12, 11, 8, 5, 3, 4, 2, 0]\n"
     ]
    }
   ],
   "source": [
    "print(employees)\n",
    "print(years)"
   ]
  },
  {
   "cell_type": "code",
   "execution_count": 4,
   "id": "88af5965",
   "metadata": {},
   "outputs": [],
   "source": [
    "del employees[2]\n",
    "del years[2]"
   ]
  },
  {
   "cell_type": "code",
   "execution_count": 5,
   "id": "7c86f197",
   "metadata": {},
   "outputs": [
    {
     "name": "stdout",
     "output_type": "stream",
     "text": [
      "['Beth', 'Gina', 'Drew', 'Alex', 'Herb', 'Emma', 'Chad', 'Iris']\n",
      "[15, 12, 8, 5, 3, 4, 2, 0]\n"
     ]
    }
   ],
   "source": [
    "print(employees)\n",
    "print(years)"
   ]
  },
  {
   "cell_type": "code",
   "execution_count": 6,
   "id": "755f2586",
   "metadata": {},
   "outputs": [],
   "source": [
    "del employees[5]\n",
    "del years[5]\n",
    "employees.insert(3, 'Emma')\n",
    "years.insert(3, 6)"
   ]
  },
  {
   "cell_type": "code",
   "execution_count": 7,
   "id": "cc294f1e",
   "metadata": {},
   "outputs": [
    {
     "name": "stdout",
     "output_type": "stream",
     "text": [
      "['Beth', 'Gina', 'Drew', 'Emma', 'Alex', 'Herb', 'Chad', 'Iris']\n",
      "[15, 12, 8, 6, 5, 3, 2, 0]\n"
     ]
    }
   ],
   "source": [
    "print(employees)\n",
    "print(years)"
   ]
  },
  {
   "cell_type": "markdown",
   "id": "2d3190d1",
   "metadata": {},
   "source": [
    "## Problem 2:Sorting and Slicing Lists"
   ]
  },
  {
   "cell_type": "code",
   "execution_count": 8,
   "id": "389cd45c",
   "metadata": {},
   "outputs": [],
   "source": [
    "import random\n",
    "random.seed(12)\n",
    "random_list = random.sample(range(500), 99)\n"
   ]
  },
  {
   "cell_type": "code",
   "execution_count": 9,
   "id": "20e30917",
   "metadata": {},
   "outputs": [
    {
     "name": "stdout",
     "output_type": "stream",
     "text": [
      "Length of random_list: 99\n",
      "First 10 Elements of random_list: [242, 137, 336, 270, 341, 179, 73, 195, 5, 191]\n"
     ]
    }
   ],
   "source": [
    "r_list = \"Length of random_list: {}\".format(len(random_list))\n",
    "print(r_list)\n",
    "first10 = \"First 10 Elements of random_list: {}\".format(random_list[:10])\n",
    "print(first10)"
   ]
  },
  {
   "cell_type": "code",
   "execution_count": 10,
   "id": "abd3f087",
   "metadata": {},
   "outputs": [
    {
     "name": "stdout",
     "output_type": "stream",
     "text": [
      "The sum of the elements in random list is 23739\n"
     ]
    }
   ],
   "source": [
    "sum_list = \"The sum of the elements in random list is {}\".format(sum(random_list))\n",
    "print(sum_list)"
   ]
  },
  {
   "cell_type": "code",
   "execution_count": 11,
   "id": "27fb5b4a",
   "metadata": {},
   "outputs": [
    {
     "name": "stdout",
     "output_type": "stream",
     "text": [
      "First 10 Elements of sorted_list: [0, 5, 9, 15, 26, 30, 31, 38, 42, 44]\n",
      "First 10 Elements of random_list: [242, 137, 336, 270, 341, 179, 73, 195, 5, 191]\n"
     ]
    }
   ],
   "source": [
    "sorted_list = sorted(random_list)\n",
    "sorted_list2 = (\"First 10 Elements of sorted_list: {}\").format(sorted_list[:10])\n",
    "print(sorted_list2)\n",
    "first10 = \"First 10 Elements of random_list: {}\".format(random_list[:10])\n",
    "print(first10)"
   ]
  },
  {
   "cell_type": "code",
   "execution_count": 12,
   "id": "cb04452e",
   "metadata": {},
   "outputs": [],
   "source": [
    "bot_slice = sorted_list[0:32]\n",
    "mid_slice = sorted_list[33:65]\n",
    "top_slice = sorted_list[66:98]"
   ]
  },
  {
   "cell_type": "code",
   "execution_count": 13,
   "id": "d62c752a",
   "metadata": {},
   "outputs": [
    {
     "name": "stdout",
     "output_type": "stream",
     "text": [
      "The smallest element of bot_slice is 0\n",
      "The largest element of bot_slice is 172\n",
      "\n",
      "The smallest element of mid_slice is 179\n",
      "The largest element of mid_slice is 307\n",
      "\n",
      "The smallest element of top_slice is 318\n",
      "The largest element of top_slice is 480\n"
     ]
    }
   ],
   "source": [
    "bot_small = \"The smallest element of bot_slice is {}\".format(min(bot_slice))\n",
    "print(bot_small)\n",
    "bot_big = \"The largest element of bot_slice is {}\".format(max(bot_slice))\n",
    "print(bot_big)\n",
    "print(\"\")\n",
    "mid_small = \"The smallest element of mid_slice is {}\".format(min(mid_slice))\n",
    "print(mid_small)\n",
    "mid_big = \"The largest element of mid_slice is {}\".format(max(mid_slice))\n",
    "print(mid_big)\n",
    "print(\"\")\n",
    "top_small = \"The smallest element of top_slice is {}\".format(min(top_slice))\n",
    "print(top_small)\n",
    "top_big = \"The largest element of top_slice is {}\".format(max(top_slice))\n",
    "print(top_big)"
   ]
  },
  {
   "cell_type": "markdown",
   "id": "cd692555",
   "metadata": {},
   "source": [
    "## Problem 3: Calculating Sum of Squared Errors"
   ]
  },
  {
   "cell_type": "code",
   "execution_count": 14,
   "id": "1bd03ddb",
   "metadata": {},
   "outputs": [],
   "source": [
    "length = [22.7, 22.4, 25.8, 21.3, 20.1, 22.1, 21.1, 25.3, 26.9, 26.9,\n",
    " 23.0, 23.8, 26.2, 20.4, 23.0, 21.9, 23.5, 27.8, 25.3, 25.9]\n",
    "weight = [9.2, 8.8, 10.7, 8.3, 6.2, 8.6, 7.2, 11.2, 10.5, 11.3,\n",
    " 9.6, 9.9, 10.9, 5.9, 9.5, 9.1, 9.7, 11.6, 10.2, 10.5]"
   ]
  },
  {
   "cell_type": "code",
   "execution_count": 15,
   "id": "b32d6b32",
   "metadata": {},
   "outputs": [],
   "source": [
    "pred_weight = []\n",
    "\n",
    "for i in range(0, len(length)):\n",
    "    temp = round(.6 * length[i] - 5.2,2)\n",
    "    pred_weight.append(temp)"
   ]
  },
  {
   "cell_type": "code",
   "execution_count": 16,
   "id": "053d5711",
   "metadata": {},
   "outputs": [
    {
     "name": "stdout",
     "output_type": "stream",
     "text": [
      "[8.42, 8.24, 10.28, 7.58, 6.86, 8.06, 7.46, 9.98, 10.94, 10.94, 8.6, 9.08, 10.52, 7.04, 8.6, 7.94, 8.9, 11.48, 9.98, 10.34]\n"
     ]
    }
   ],
   "source": [
    "print(pred_weight)"
   ]
  },
  {
   "cell_type": "code",
   "execution_count": 17,
   "id": "2d0b3188",
   "metadata": {},
   "outputs": [],
   "source": [
    "SSE =[]\n",
    "\n",
    "for i in range(0, len(weight)):\n",
    "    temp = (weight[i] - pred_weight[i])**2\n",
    "    SSE.append(temp)"
   ]
  },
  {
   "cell_type": "code",
   "execution_count": 18,
   "id": "d240d011",
   "metadata": {},
   "outputs": [
    {
     "data": {
      "text/plain": [
       "10.2236"
      ]
     },
     "execution_count": 18,
     "metadata": {},
     "output_type": "execute_result"
    }
   ],
   "source": [
    "round(sum(SSE),4)"
   ]
  },
  {
   "cell_type": "markdown",
   "id": "d8197efd",
   "metadata": {},
   "source": [
    "## Problem 4: Calculating Exam Scores"
   ]
  },
  {
   "cell_type": "code",
   "execution_count": 19,
   "id": "54c05198",
   "metadata": {},
   "outputs": [
    {
     "name": "stdout",
     "output_type": "stream",
     "text": [
      "Student 1 Grade: 64.0%\n",
      "Student 2 Grade: 84.0%\n"
     ]
    }
   ],
   "source": [
    "correct = ['D','B', 'C', 'A', 'C', 'D', 'A', 'C', 'C', 'B', 'D', 'A', 'B', 'D', 'C', 'D', 'C', 'D', 'C', 'A', 'B', 'D', 'C', 'B', 'A']\n",
    "answers1 = ['A', 'B', 'C', 'A', 'B', 'D', 'A', 'A', 'C', 'B', 'D', 'A', 'D', 'C', 'C', 'B', 'C', 'D', 'B', 'A', 'D', 'D', 'C', 'C', 'A']\n",
    "answers2 = ['D', 'A', 'C', 'A', 'B', 'D', 'A', 'C', 'C', 'B', 'D', 'A', 'B', 'D', 'A', 'D', 'C', 'D', 'C', 'A', 'B', 'C', 'C', 'B', 'A']\n",
    "\n",
    "count1= []\n",
    "count2=[]\n",
    "\n",
    "for i in range(0, len(correct)):\n",
    "    temp = answers1[i]==correct[i]\n",
    "    count1.append(temp)\n",
    "for i in range(0, len(correct)):\n",
    "    temp1 = answers2[i]==correct[i]\n",
    "    count2.append(temp1)\n",
    "    \n",
    "sum1 = sum(count1)\n",
    "sum2 = sum(count2)\n",
    "grade1 = (sum1/len(correct))*100\n",
    "grade2 = (sum2/len(correct))*100\n",
    "student1 = \"Student 1 Grade: {}%\".format(grade1)\n",
    "print(student1)\n",
    "student2 = \"Student 2 Grade: {}%\".format(grade2)\n",
    "print(student2)"
   ]
  },
  {
   "cell_type": "markdown",
   "id": "88a892e4",
   "metadata": {},
   "source": [
    "## Problem 5: Determining Monthly Payments"
   ]
  },
  {
   "cell_type": "code",
   "execution_count": 20,
   "id": "c230a584",
   "metadata": {},
   "outputs": [],
   "source": [
    "i=.004\n",
    "n=360"
   ]
  },
  {
   "cell_type": "code",
   "execution_count": 21,
   "id": "97607667",
   "metadata": {},
   "outputs": [],
   "source": [
    "start=100000\n",
    "increment=10000"
   ]
  },
  {
   "cell_type": "code",
   "execution_count": 22,
   "id": "09a16aaa",
   "metadata": {
    "scrolled": false
   },
   "outputs": [
    {
     "name": "stdout",
     "output_type": "stream",
     "text": [
      "A loan of $100000 would requires monthly payments of $524.6653543413344\n",
      "A loan of $110000 would requires monthly payments of $577.1318897754678\n",
      "A loan of $120000 would requires monthly payments of $629.5984252096013\n",
      "A loan of $130000 would requires monthly payments of $682.0649606437346\n",
      "A loan of $140000 would requires monthly payments of $734.531496077868\n",
      "A loan of $150000 would requires monthly payments of $786.9980315120015\n",
      "A loan of $160000 would requires monthly payments of $839.4645669461349\n",
      "A loan of $170000 would requires monthly payments of $891.9311023802684\n",
      "A loan of $180000 would requires monthly payments of $944.3976378144018\n",
      "A loan of $190000 would requires monthly payments of $996.8641732485353\n",
      "A loan of $200000 would requires monthly payments of $1049.3307086826687\n"
     ]
    }
   ],
   "source": [
    "for m in range(100000, 210000, 10000):\n",
    "    \n",
    "    for j in range(0,1):\n",
    "      \n",
    "        print(\"A loan of \" + \"$\"+str(m) + \" would requires monthly payments of \" + \"$\"+(str(m*(i/(1-(1+i)**-n)))))\n",
    "        \n",
    "    "
   ]
  },
  {
   "cell_type": "markdown",
   "id": "cec275fa",
   "metadata": {},
   "source": [
    "## Problem 6: Creating an Amortization Schedule"
   ]
  },
  {
   "cell_type": "code",
   "execution_count": 23,
   "id": "bfdb7faf",
   "metadata": {},
   "outputs": [],
   "source": [
    "balance=160000\n",
    "i=.004\n",
    "pmt=839.46"
   ]
  },
  {
   "cell_type": "code",
   "execution_count": 24,
   "id": "67dad174",
   "metadata": {
    "scrolled": true
   },
   "outputs": [
    {
     "name": "stdout",
     "output_type": "stream",
     "text": [
      "The balance at the end of 12 months will be $150566.48\n",
      "The balance at the end of 24 months will be $140492.96\n",
      "The balance at the end of 36 months will be $130419.44\n",
      "The balance at the end of 48 months will be $120345.92\n",
      "The balance at the end of 60 months will be $110272.4\n",
      "The balance at the end of 72 months will be $100198.88\n",
      "The balance at the end of 84 months will be $90125.36\n",
      "The balance at the end of 96 months will be $80051.84\n",
      "The balance at the end of 108 months will be $69978.31999999999\n",
      "The balance at the end of 120 months will be $59904.79999999999\n",
      "The balance at the end of 132 months will be $49831.28\n",
      "The balance at the end of 144 months will be $39757.759999999995\n",
      "The balance at the end of 156 months will be $29684.23999999999\n",
      "The balance at the end of 168 months will be $19610.72\n",
      "The balance at the end of 180 months will be $9537.199999999983\n",
      "The balance at the end of 192 months will be $-536.320000000007\n",
      "The balance at the end of 204 months will be $-10609.839999999997\n",
      "The balance at the end of 216 months will be $-20683.360000000015\n",
      "The balance at the end of 228 months will be $-30756.880000000005\n",
      "The balance at the end of 240 months will be $-40830.40000000002\n",
      "The balance at the end of 252 months will be $-50903.92000000001\n",
      "The balance at the end of 264 months will be $-60977.44\n",
      "The balance at the end of 276 months will be $-71050.96000000002\n",
      "The balance at the end of 288 months will be $-81124.48000000001\n",
      "The balance at the end of 300 months will be $-91198.0\n",
      "The balance at the end of 312 months will be $-101271.52000000002\n",
      "The balance at the end of 324 months will be $-111345.04000000004\n",
      "The balance at the end of 336 months will be $-121418.56\n",
      "The balance at the end of 348 months will be $-131492.08000000002\n",
      "The balance at the end of 360 months will be $-141565.60000000003\n"
     ]
    }
   ],
   "source": [
    "for m in range(12,372,12):\n",
    "    \n",
    "    for j in range(0,1):\n",
    "      \n",
    "        print(\"The balance at the end of \" + str(m) + \" months will be \" + \"$\"+(str(balance*(1+i)-pmt*m)))"
   ]
  },
  {
   "cell_type": "markdown",
   "id": "77024142",
   "metadata": {},
   "source": [
    "## Problem 7: Calculating Price of a Bulk Order"
   ]
  },
  {
   "cell_type": "code",
   "execution_count": 25,
   "id": "75d03c19",
   "metadata": {},
   "outputs": [],
   "source": [
    "quantities = [84, 100, 126, 150, 186, 200, 216, 248]"
   ]
  },
  {
   "cell_type": "code",
   "execution_count": 27,
   "id": "55c9c19d",
   "metadata": {},
   "outputs": [
    {
     "ename": "IndentationError",
     "evalue": "unindent does not match any outer indentation level (<tokenize>, line 6)",
     "output_type": "error",
     "traceback": [
      "\u001b[1;36m  File \u001b[1;32m<tokenize>:6\u001b[1;36m\u001b[0m\n\u001b[1;33m    while 100<i<201\u001b[0m\n\u001b[1;37m    ^\u001b[0m\n\u001b[1;31mIndentationError\u001b[0m\u001b[1;31m:\u001b[0m unindent does not match any outer indentation level\n"
     ]
    }
   ],
   "source": [
    "listq = []\n",
    "\n",
    "for i in range(0,1)\n",
    "   while i < 100\n",
    "        350*[i]\n",
    "    while 100<i<201\n",
    "        300*[i]\n",
    "    while i>200\n",
    "        250*[i]\n",
    "    \n",
    "    for j in range(0,1)\n",
    "        \n",
    "        print(\"The cost for an order of \" + str(i) + \" widgets is \" + \"$\"+str(j))"
   ]
  },
  {
   "cell_type": "markdown",
   "id": "f9df8f11",
   "metadata": {},
   "source": [
    "## Problem 8: Adding Matrices"
   ]
  },
  {
   "cell_type": "code",
   "execution_count": 28,
   "id": "c0589fa2",
   "metadata": {},
   "outputs": [
    {
     "name": "stdout",
     "output_type": "stream",
     "text": [
      "[13, 43, 28, 22, 41]\n",
      "[17, 39, 46, 16, 21]\n",
      "[41, 34, 31, 25, 14]\n"
     ]
    }
   ],
   "source": [
    "A = [ [13, 43, 28, 22, 41], [17, 39, 46, 16, 21], [41, 34,31,25,14] ]\n",
    "B = [ [35, 29, 43, 21, 31], [48, 26, 19,17,23], [32,34,24,16,27] ] \n",
    "\n",
    "for row in A:\n",
    "    print(row)"
   ]
  },
  {
   "cell_type": "code",
   "execution_count": 29,
   "id": "5a3e033b",
   "metadata": {},
   "outputs": [
    {
     "name": "stdout",
     "output_type": "stream",
     "text": [
      "[48, 72, 71, 43, 72]\n",
      "[65, 65, 65, 33, 44]\n",
      "[73, 68, 55, 41, 41]\n"
     ]
    }
   ],
   "source": [
    "AplusB = []\n",
    "\n",
    "for i in range(0,3):\n",
    "    \n",
    "    tempRow = []    \n",
    "    for  j in range(0,5):\n",
    "        tempRow.append(A[i][j]+B[i][j])\n",
    "        \n",
    "    AplusB.append(tempRow)\n",
    "    \n",
    "for row in AplusB:\n",
    "    print(row)"
   ]
  }
 ],
 "metadata": {
  "kernelspec": {
   "display_name": "Python 3 (ipykernel)",
   "language": "python",
   "name": "python3"
  },
  "language_info": {
   "codemirror_mode": {
    "name": "ipython",
    "version": 3
   },
   "file_extension": ".py",
   "mimetype": "text/x-python",
   "name": "python",
   "nbconvert_exporter": "python",
   "pygments_lexer": "ipython3",
   "version": "3.10.9"
  }
 },
 "nbformat": 4,
 "nbformat_minor": 5
}
