{
 "cells": [
  {
   "cell_type": "markdown",
   "id": "a73acdaa",
   "metadata": {},
   "source": [
    "# DSCI503 - Project 1\n",
    "### Jeffery Boczkaja"
   ]
  },
  {
   "cell_type": "markdown",
   "id": "f5aa55b5",
   "metadata": {},
   "source": [
    "# Introduction\n",
    "The purpose of this project is to parse through global data utilizing the pandas library."
   ]
  },
  {
   "cell_type": "code",
   "execution_count": 1,
   "id": "394427dd",
   "metadata": {},
   "outputs": [
    {
     "data": {
      "text/html": [
       "<div>\n",
       "<style scoped>\n",
       "    .dataframe tbody tr th:only-of-type {\n",
       "        vertical-align: middle;\n",
       "    }\n",
       "\n",
       "    .dataframe tbody tr th {\n",
       "        vertical-align: top;\n",
       "    }\n",
       "\n",
       "    .dataframe thead th {\n",
       "        text-align: right;\n",
       "    }\n",
       "</style>\n",
       "<table border=\"1\" class=\"dataframe\">\n",
       "  <thead>\n",
       "    <tr style=\"text-align: right;\">\n",
       "      <th></th>\n",
       "      <th>country</th>\n",
       "      <th>year</th>\n",
       "      <th>continent</th>\n",
       "      <th>population</th>\n",
       "      <th>life_exp</th>\n",
       "      <th>gdp_per_cap</th>\n",
       "      <th>gini</th>\n",
       "    </tr>\n",
       "  </thead>\n",
       "  <tbody>\n",
       "    <tr>\n",
       "      <th>0</th>\n",
       "      <td>Afghanistan</td>\n",
       "      <td>1800</td>\n",
       "      <td>asia</td>\n",
       "      <td>3280000</td>\n",
       "      <td>28.2</td>\n",
       "      <td>603</td>\n",
       "      <td>30.5</td>\n",
       "    </tr>\n",
       "    <tr>\n",
       "      <th>1</th>\n",
       "      <td>Albania</td>\n",
       "      <td>1800</td>\n",
       "      <td>europe</td>\n",
       "      <td>410000</td>\n",
       "      <td>35.4</td>\n",
       "      <td>667</td>\n",
       "      <td>38.9</td>\n",
       "    </tr>\n",
       "    <tr>\n",
       "      <th>2</th>\n",
       "      <td>Algeria</td>\n",
       "      <td>1800</td>\n",
       "      <td>africa</td>\n",
       "      <td>2500000</td>\n",
       "      <td>28.8</td>\n",
       "      <td>715</td>\n",
       "      <td>56.2</td>\n",
       "    </tr>\n",
       "    <tr>\n",
       "      <th>3</th>\n",
       "      <td>Angola</td>\n",
       "      <td>1800</td>\n",
       "      <td>africa</td>\n",
       "      <td>1570000</td>\n",
       "      <td>27.0</td>\n",
       "      <td>618</td>\n",
       "      <td>57.2</td>\n",
       "    </tr>\n",
       "    <tr>\n",
       "      <th>4</th>\n",
       "      <td>Antigua and Barbuda</td>\n",
       "      <td>1800</td>\n",
       "      <td>americas</td>\n",
       "      <td>37000</td>\n",
       "      <td>33.5</td>\n",
       "      <td>757</td>\n",
       "      <td>40.0</td>\n",
       "    </tr>\n",
       "    <tr>\n",
       "      <th>5</th>\n",
       "      <td>Argentina</td>\n",
       "      <td>1800</td>\n",
       "      <td>americas</td>\n",
       "      <td>534000</td>\n",
       "      <td>33.2</td>\n",
       "      <td>1510</td>\n",
       "      <td>47.7</td>\n",
       "    </tr>\n",
       "    <tr>\n",
       "      <th>6</th>\n",
       "      <td>Armenia</td>\n",
       "      <td>1800</td>\n",
       "      <td>europe</td>\n",
       "      <td>413000</td>\n",
       "      <td>34.0</td>\n",
       "      <td>514</td>\n",
       "      <td>31.5</td>\n",
       "    </tr>\n",
       "    <tr>\n",
       "      <th>7</th>\n",
       "      <td>Australia</td>\n",
       "      <td>1800</td>\n",
       "      <td>asia</td>\n",
       "      <td>351000</td>\n",
       "      <td>34.0</td>\n",
       "      <td>814</td>\n",
       "      <td>38.7</td>\n",
       "    </tr>\n",
       "    <tr>\n",
       "      <th>8</th>\n",
       "      <td>Austria</td>\n",
       "      <td>1800</td>\n",
       "      <td>europe</td>\n",
       "      <td>3210000</td>\n",
       "      <td>34.4</td>\n",
       "      <td>1850</td>\n",
       "      <td>33.4</td>\n",
       "    </tr>\n",
       "    <tr>\n",
       "      <th>9</th>\n",
       "      <td>Azerbaijan</td>\n",
       "      <td>1800</td>\n",
       "      <td>europe</td>\n",
       "      <td>880000</td>\n",
       "      <td>29.2</td>\n",
       "      <td>775</td>\n",
       "      <td>70.5</td>\n",
       "    </tr>\n",
       "  </tbody>\n",
       "</table>\n",
       "</div>"
      ],
      "text/plain": [
       "               country  year continent  population  life_exp  gdp_per_cap  \\\n",
       "0          Afghanistan  1800      asia     3280000      28.2          603   \n",
       "1              Albania  1800    europe      410000      35.4          667   \n",
       "2              Algeria  1800    africa     2500000      28.8          715   \n",
       "3               Angola  1800    africa     1570000      27.0          618   \n",
       "4  Antigua and Barbuda  1800  americas       37000      33.5          757   \n",
       "5            Argentina  1800  americas      534000      33.2         1510   \n",
       "6              Armenia  1800    europe      413000      34.0          514   \n",
       "7            Australia  1800      asia      351000      34.0          814   \n",
       "8              Austria  1800    europe     3210000      34.4         1850   \n",
       "9           Azerbaijan  1800    europe      880000      29.2          775   \n",
       "\n",
       "   gini  \n",
       "0  30.5  \n",
       "1  38.9  \n",
       "2  56.2  \n",
       "3  57.2  \n",
       "4  40.0  \n",
       "5  47.7  \n",
       "6  31.5  \n",
       "7  38.7  \n",
       "8  33.4  \n",
       "9  70.5  "
      ]
     },
     "execution_count": 1,
     "metadata": {},
     "output_type": "execute_result"
    }
   ],
   "source": [
    "import pandas as pd\n",
    "df = pd.read_csv(r'C:\\Users\\Public\\Documents\\gapminder_data.txt', sep='\\t')\n",
    "df.head(10)\n"
   ]
  },
  {
   "cell_type": "code",
   "execution_count": 2,
   "id": "43f97670",
   "metadata": {},
   "outputs": [],
   "source": [
    "country = df.country.to_list()\n",
    "year = df.year.to_list()\n",
    "continent = df.continent.to_list()\n",
    "population = df.population.to_list()\n",
    "life_exp = df.life_exp.to_list()\n",
    "pcgdp = df.gdp_per_cap.to_list()\n",
    "gini = df.gini.to_list()"
   ]
  },
  {
   "cell_type": "code",
   "execution_count": 3,
   "id": "e6430d4c",
   "metadata": {},
   "outputs": [
    {
     "name": "stdout",
     "output_type": "stream",
     "text": [
      "Country:  28.0\n"
     ]
    }
   ],
   "source": [
    "print('Country: ', gini[4060])\n",
    "\n"
   ]
  },
  {
   "cell_type": "markdown",
   "id": "61a396a4",
   "metadata": {},
   "source": [
    "## Part 1: Displaying Past 20 Years of US Data\n",
    "We will be displaying the population, life expectancy, per capitia GDP, and Gini index for the United States for the years from 1999 on."
   ]
  },
  {
   "cell_type": "code",
   "execution_count": 4,
   "id": "b98cb8d9",
   "metadata": {},
   "outputs": [
    {
     "name": "stdout",
     "output_type": "stream",
     "text": [
      "Year    Country    Population    LExp    pcGDP    Gini\n",
      "------------------------------------------------------\n",
      "1999 United States 279000000 76.8 44700 40.5\n",
      "2000 United States 282000000 76.9 46000 40.5\n",
      "2001 United States 285000000 77.0 46000 40.5\n",
      "2002 United States 288000000 77.1 46400 40.5\n",
      "2003 United States 290000000 77.3 47300 40.5\n",
      "2004 United States 293000000 77.5 48600 40.6\n",
      "2005 United States 295000000 77.7 49800 40.7\n",
      "2006 United States 298000000 77.9 50600 40.8\n",
      "2007 United States 301000000 78.1 51000 40.8\n",
      "2008 United States 303000000 78.3 50400 40.8\n",
      "2009 United States 306000000 78.6 48600 40.7\n",
      "2010 United States 309000000 78.7 49400 40.7\n",
      "2011 United States 311000000 78.8 49800 40.7\n",
      "2012 United States 313000000 78.9 50500 40.8\n",
      "2013 United States 316000000 78.9 51000 41.0\n",
      "2014 United States 318000000 78.9 51800 41.2\n",
      "2015 United States 320000000 78.8 52800 41.3\n",
      "2016 United States 322000000 78.8 53300 41.4\n",
      "2017 United States 324000000 79.0 54200 41.5\n",
      "2018 United States 327000000 79.1 54900 41.5\n"
     ]
    }
   ],
   "source": [
    "print('Year    Country    Population    LExp    pcGDP    Gini')\n",
    "print('------------------------------------------------------')\n",
    "\n",
    "for i in range(len(df)):\n",
    "    if year[i] >= 1999 and country[i] == 'United States':\n",
    "        print(year[i], 'United States', population[i], life_exp[i], pcgdp[i], gini[i])"
   ]
  },
  {
   "cell_type": "markdown",
   "id": "63a00870",
   "metadata": {},
   "source": [
    "## Part 2: Selecting the 2018 Data\n",
    "We will create six new lists, each of which will contain 2018 for the 184 countries contained in the data."
   ]
  },
  {
   "cell_type": "code",
   "execution_count": 5,
   "id": "07b3d1e6",
   "metadata": {},
   "outputs": [],
   "source": [
    "country_2018 =[]\n",
    "population_2018 = []\n",
    "continent_2018 =[]\n",
    "life_exp_2018 =[]\n",
    "pcgdp_2018 = []\n",
    "gini_2018 = []"
   ]
  },
  {
   "cell_type": "code",
   "execution_count": 6,
   "id": "d76e1127",
   "metadata": {},
   "outputs": [],
   "source": [
    "for i in range(len(year)):\n",
    "    if year[i]==2018:\n",
    "        country_2018.append(country[i])\n",
    "        population_2018.append(population[i])\n",
    "        continent_2018.append(continent[i])\n",
    "        life_exp_2018.append(life_exp[i])\n",
    "        pcgdp_2018.append(pcgdp[i])\n",
    "        gini_2018.append(gini[i])"
   ]
  },
  {
   "cell_type": "code",
   "execution_count": 7,
   "id": "2e893441",
   "metadata": {},
   "outputs": [
    {
     "name": "stdout",
     "output_type": "stream",
     "text": [
      "The global population is 2018 was  7595200200\n"
     ]
    }
   ],
   "source": [
    "global_population_2018 = sum(population_2018)\n",
    "print(\"The global population is 2018 was \",global_population_2018)"
   ]
  },
  {
   "cell_type": "markdown",
   "id": "66021307",
   "metadata": {},
   "source": [
    "## Part 3: Identifying Countries with Largest and Smallest Populations\n",
    "We will be displaying a list of countries with the largest populations and the smallest populations of 2018."
   ]
  },
  {
   "cell_type": "code",
   "execution_count": 8,
   "id": "c691d056",
   "metadata": {
    "scrolled": true
   },
   "outputs": [
    {
     "name": "stdout",
     "output_type": "stream",
     "text": [
      "[95200, 103000, 106000, 108000, 109000, 110000, 118000, 180000, 198000, 209000, 282000, 286000, 338000, 382000, 399000, 432000, 434000, 444000, 553000, 568000, 590000, 623000, 629000, 782000, 817000, 832000, 912000, 971000, 1190000, 1270000, 1310000, 1310000, 1320000, 1370000, 1390000, 1570000, 1910000, 1930000, 2070000, 2080000, 2090000, 2160000, 2260000, 2330000, 2590000, 2690000, 2880000, 2900000, 2930000, 2930000, 3120000, 3470000, 3500000, 3910000, 4040000, 4160000, 4160000, 4200000, 4540000, 4740000, 4750000, 4800000, 4830000, 4850000, 4950000, 5050000, 5190000, 5350000, 5400000, 5450000, 5540000, 5750000, 5790000, 5850000, 6090000, 6130000, 6280000, 6410000, 6470000, 6900000, 6960000, 7040000, 7720000, 7990000, 8420000, 8450000, 8540000, 8750000, 8760000, 9110000, 9420000, 9450000, 9540000, 9690000, 9900000, 9920000, 9980000, 10300000, 10600000, 10900000, 11100000, 11100000, 11200000, 11200000, 11500000, 11500000, 11500000, 11700000, 12500000, 12900000, 13100000, 15200000, 15400000, 16200000, 16300000, 16900000, 16900000, 17100000, 17200000, 17600000, 18200000, 18300000, 18400000, 19100000, 19200000, 19600000, 19800000, 21000000, 22300000, 24700000, 24800000, 24900000, 25600000, 26300000, 28900000, 29500000, 29600000, 30500000, 30800000, 32000000, 32400000, 32400000, 32600000, 33600000, 36200000, 36400000, 37000000, 38100000, 39300000, 41500000, 42000000, 44000000, 44300000, 44700000, 46400000, 49500000, 51000000, 51200000, 53900000, 57400000, 59100000, 59300000, 65200000, 66600000, 69200000, 81900000, 82000000, 82300000, 84000000, 96500000, 99400000, 107000000, 108000000, 127000000, 131000000, 144000000, 166000000, 196000000, 201000000, 211000000, 267000000, 327000000, 1350000000, 1420000000]\n"
     ]
    }
   ],
   "source": [
    "sorted_pop = sorted(population_2018)\n",
    "print(sorted_pop)\n"
   ]
  },
  {
   "cell_type": "code",
   "execution_count": 9,
   "id": "ae76965d",
   "metadata": {},
   "outputs": [
    {
     "name": "stdout",
     "output_type": "stream",
     "text": [
      "131000000\n"
     ]
    }
   ],
   "source": [
    "Large = sorted_pop[-10]\n",
    "print(Large)"
   ]
  },
  {
   "cell_type": "code",
   "execution_count": 10,
   "id": "4d793310",
   "metadata": {},
   "outputs": [
    {
     "name": "stdout",
     "output_type": "stream",
     "text": [
      "Countries with Largest Populations in 2018\n",
      "------------------------------------------------------\n",
      "The population of China in 2018 was 1420000000 .\n",
      "The population of India 2018 was 1420000000.\n"
     ]
    }
   ],
   "source": [
    "print(\"Countries with Largest Populations in 2018\")\n",
    "print(\"------------------------------------------------------\")\n",
    "print(\"The population of China in 2018 was 1420000000 .\")\n",
    "print(\"The population of India 2018 was 1420000000.\")"
   ]
  },
  {
   "cell_type": "code",
   "execution_count": 11,
   "id": "f12e7581",
   "metadata": {},
   "outputs": [
    {
     "name": "stdout",
     "output_type": "stream",
     "text": [
      "Countries with Largest Populations in 2018\n",
      "------------------------------------------------------\n"
     ]
    }
   ],
   "source": [
    "print(\"Countries with Largest Populations in 2018\")\n",
    "print(\"------------------------------------------------------\")\n",
    "\n",
    "if population[i]>=211000000 and year==2018:\n",
    "    print(\"The population of \" + country[i] + \"in 2018 was\" + population[i])"
   ]
  },
  {
   "cell_type": "code",
   "execution_count": 12,
   "id": "802ff23c",
   "metadata": {},
   "outputs": [
    {
     "name": "stdout",
     "output_type": "stream",
     "text": [
      "209000\n"
     ]
    }
   ],
   "source": [
    "Small = sorted_pop[9]\n",
    "print(Small)"
   ]
  },
  {
   "cell_type": "code",
   "execution_count": 13,
   "id": "678b1c4c",
   "metadata": {},
   "outputs": [
    {
     "name": "stdout",
     "output_type": "stream",
     "text": [
      "Countries with Smallest Populations in 2018\n",
      "------------------------------------------------------\n",
      "The population of xxxx in 2018 was xxxx.\n",
      "The population of xxxx in 2018 was xxxx.\n"
     ]
    }
   ],
   "source": [
    "print(\"Countries with Smallest Populations in 2018\")\n",
    "print(\"------------------------------------------------------\")\n",
    "print(\"The population of xxxx in 2018 was xxxx.\")\n",
    "print(\"The population of xxxx in 2018 was xxxx.\")\n"
   ]
  },
  {
   "cell_type": "code",
   "execution_count": 14,
   "id": "89194279",
   "metadata": {},
   "outputs": [
    {
     "name": "stdout",
     "output_type": "stream",
     "text": [
      "Countries with Smallest Populations in 2018\n",
      "------------------------------------------------------\n"
     ]
    }
   ],
   "source": [
    "print(\"Countries with Smallest Populations in 2018\")\n",
    "print(\"------------------------------------------------------\")\n",
    "\n",
    "if year[i]==2018 and population[i]<=109000:\n",
    "    print(\"The population of \" + country[i] + \"in 2018 was\" + population[i])"
   ]
  },
  {
   "cell_type": "markdown",
   "id": "2909ca07",
   "metadata": {},
   "source": [
    "## Part 4: Identifying Countries with Highest and Lowest Life Expectancies\n",
    "We will be displaing the countries with the highest and lowest life expectancies of 2018."
   ]
  },
  {
   "cell_type": "code",
   "execution_count": 15,
   "id": "821385ea",
   "metadata": {},
   "outputs": [
    {
     "name": "stdout",
     "output_type": "stream",
     "text": [
      "60.5\n",
      "82.4\n"
     ]
    }
   ],
   "source": [
    "sorted_exp = sorted(life_exp_2018)\n",
    "print(sorted_exp[9])\n",
    "print(sorted_exp[-10])"
   ]
  },
  {
   "cell_type": "code",
   "execution_count": 16,
   "id": "8432217e",
   "metadata": {},
   "outputs": [
    {
     "name": "stdout",
     "output_type": "stream",
     "text": [
      "Countries with Highest Life Expectancy in 2018\n",
      "------------------------------------------------------\n"
     ]
    }
   ],
   "source": [
    "print(\"Countries with Highest Life Expectancy in 2018\")\n",
    "print(\"------------------------------------------------------\")\n",
    "\n",
    "if year[i]==2018 and life_exp[i]>=82.9:\n",
    "    print(\"The life expectancy of \" + country[i] + \"in 2018 was \" + life_exp[i])"
   ]
  },
  {
   "cell_type": "code",
   "execution_count": 17,
   "id": "310628f5",
   "metadata": {},
   "outputs": [
    {
     "name": "stdout",
     "output_type": "stream",
     "text": [
      "Countries with Lowest Life Expectancy in 2018\n",
      "------------------------------------------------------\n"
     ]
    }
   ],
   "source": [
    "print(\"Countries with Lowest Life Expectancy in 2018\")\n",
    "print(\"------------------------------------------------------\")\n",
    "\n",
    "if year[i]==2018 and life_exp[i]<=58.7:\n",
    "    print(\"The life expectancy of \" + country[i] + \"in 2018 was \" + life_exp[i])\n",
    "    print(country[i])"
   ]
  },
  {
   "cell_type": "markdown",
   "id": "4a00cb06",
   "metadata": {},
   "source": [
    "## Part 5: Calculating GDP by Country\n",
    "We will create a list that contains the GDP for each country in 2018 plus the total GDP for the world combined."
   ]
  },
  {
   "cell_type": "code",
   "execution_count": 18,
   "id": "a3cc9224",
   "metadata": {},
   "outputs": [
    {
     "ename": "SyntaxError",
     "evalue": "invalid syntax. Perhaps you forgot a comma? (1072392852.py, line 13)",
     "output_type": "error",
     "traceback": [
      "\u001b[1;36m  Cell \u001b[1;32mIn[18], line 13\u001b[1;36m\u001b[0m\n\u001b[1;33m    print(\"The country with the highest GDP in 2018 was \" country[i] \"with a GDP of \" gpd_2018[i])\u001b[0m\n\u001b[1;37m          ^\u001b[0m\n\u001b[1;31mSyntaxError\u001b[0m\u001b[1;31m:\u001b[0m invalid syntax. Perhaps you forgot a comma?\n"
     ]
    }
   ],
   "source": [
    "gdp_2018 = []\n",
    "\n",
    "for i in pcgdp:\n",
    "    if year == '2018':\n",
    "        gdp_2018.append(pcgdp_data[i])\n",
    "        \n",
    "gdp = \"The total global GDP in 2018 was ${}\".format(sum(gdp_2018))\n",
    "print(gdp)\n",
    "\n",
    "max(gdp_2018)\n",
    "min(gdp_2018)\n",
    "\n",
    "print(\"The country with the highest GDP in 2018 was \" country[i] \"with a GDP of \" gpd_2018[i])\n",
    "print(\"The country with the lowest GDP in 2018 was \" country[i]  \"with a GDP of \" gdp_2018"
   ]
  },
  {
   "cell_type": "markdown",
   "id": "f362e16a",
   "metadata": {},
   "source": [
    "## Part 6: Grouping by Continent\n",
    "We will be calculating total population, per capita GDP, and life expectancy for the continental regions."
   ]
  },
  {
   "cell_type": "code",
   "execution_count": null,
   "id": "d9e11e80",
   "metadata": {},
   "outputs": [],
   "source": [
    "continent_name = ['africa','americas','asia','europe']"
   ]
  },
  {
   "cell_type": "code",
   "execution_count": null,
   "id": "7b747b0a",
   "metadata": {},
   "outputs": [],
   "source": [
    "pcgdp_2018_by_continent = []\n",
    "pop_2018_by_continent = []\n",
    "life_exp_2018_by_continent = []"
   ]
  },
  {
   "cell_type": "code",
   "execution_count": null,
   "id": "c585da7e",
   "metadata": {},
   "outputs": [],
   "source": [
    "temp_life_exp = 0\n",
    "temp_pop = 0\n",
    "temp_gdp = 0"
   ]
  },
  {
   "cell_type": "code",
   "execution_count": null,
   "id": "275bccb4",
   "metadata": {},
   "outputs": [],
   "source": [
    "for i in country:\n",
    "    if continent = \"africa\":\n",
    "        sum(life_exp(i))/len(country[i])\n",
    "        sum(population_2018)\n",
    "        sum(pcgdp[i])/len(country[i])"
   ]
  },
  {
   "cell_type": "code",
   "execution_count": null,
   "id": "8bbbabac",
   "metadata": {},
   "outputs": [],
   "source": [
    "for i in country:\n",
    "    if continent = \"americas\"\n",
    "        sum(life_exp(i))/len(country[i])\n",
    "        sum(population_2018)\n",
    "        sum(pcgdp[i])/len(country[i])"
   ]
  },
  {
   "cell_type": "code",
   "execution_count": null,
   "id": "8b452269",
   "metadata": {},
   "outputs": [],
   "source": [
    "for i in country:\n",
    "    if continent = \"asia\"\n",
    "        sum(life_exp(i))/len(country[i])\n",
    "        sum(population_2018)\n",
    "        sum(pcgdp[i])/len(country[i])"
   ]
  },
  {
   "cell_type": "code",
   "execution_count": null,
   "id": "d0403270",
   "metadata": {},
   "outputs": [],
   "source": [
    "for i in country:\n",
    "    if continent = \"europe\"\n",
    "        sum(life_exp(i))/len(country[i])\n",
    "        sum(population_2018)\n",
    "        sum(pcgdp[i])/len(country[i])"
   ]
  },
  {
   "cell_type": "code",
   "execution_count": null,
   "id": "7fa0db15",
   "metadata": {},
   "outputs": [],
   "source": [
    "temp_life_exp = temp_life_exp/temp_pop\n",
    "temp_gdp = temp_gdp / temp_pop"
   ]
  },
  {
   "cell_type": "code",
   "execution_count": null,
   "id": "da450e39",
   "metadata": {},
   "outputs": [],
   "source": [
    "print(\"Continent Population pcGDP Life Exp\")\n",
    "print(\"----------------------------------------------\")\n",
    "print(\"Africa xxxx xxxx xxxx\")\n",
    "print(\"Americas xxxx xxxx xxxx\")\n",
    "print(\"Asia xxxx xxxx xxxx\")\n",
    "print(\"Europe xxxx xxxx xxxx\")"
   ]
  }
 ],
 "metadata": {
  "kernelspec": {
   "display_name": "Python 3 (ipykernel)",
   "language": "python",
   "name": "python3"
  },
  "language_info": {
   "codemirror_mode": {
    "name": "ipython",
    "version": 3
   },
   "file_extension": ".py",
   "mimetype": "text/x-python",
   "name": "python",
   "nbconvert_exporter": "python",
   "pygments_lexer": "ipython3",
   "version": "3.10.9"
  }
 },
 "nbformat": 4,
 "nbformat_minor": 5
}
