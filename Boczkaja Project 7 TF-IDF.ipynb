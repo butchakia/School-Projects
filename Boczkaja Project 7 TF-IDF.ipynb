{
 "cells": [
  {
   "cell_type": "markdown",
   "id": "15c39333",
   "metadata": {},
   "source": [
    "## Jeffery Boczkaja\n",
    "\n",
    "## DSCI 508 Project 7\n"
   ]
  },
  {
   "cell_type": "code",
   "execution_count": 1,
   "id": "fafc83a2",
   "metadata": {},
   "outputs": [],
   "source": [
    "import pandas as pd\n",
    "from sklearn.feature_extraction.text import TfidfVectorizer"
   ]
  },
  {
   "cell_type": "code",
   "execution_count": 2,
   "id": "2e40f0df",
   "metadata": {},
   "outputs": [],
   "source": [
    "documents = [\n",
    "    \"The sun is hot.\",\n",
    "    \"The sun is yellow.\",\n",
    "    \"The yellow sun is over the house.\",\n",
    "    \"It is hot out here in the sun.\",\n",
    "    \"It is not hot here under the house.\"\n",
    "]"
   ]
  },
  {
   "cell_type": "code",
   "execution_count": 4,
   "id": "234ad887",
   "metadata": {},
   "outputs": [
    {
     "name": "stdout",
     "output_type": "stream",
     "text": [
      "       here       hot     house        in        is        it       not  \\\n",
      "0  0.000000  0.606321  0.000000  0.000000  0.431403  0.000000  0.000000   \n",
      "1  0.000000  0.000000  0.000000  0.000000  0.399533  0.000000  0.000000   \n",
      "2  0.000000  0.000000  0.416376  0.000000  0.245918  0.000000  0.000000   \n",
      "3  0.379406  0.314941  0.000000  0.470264  0.224083  0.379406  0.000000   \n",
      "4  0.366143  0.303932  0.366143  0.000000  0.216250  0.366143  0.453825   \n",
      "\n",
      "        out      over       sun       the     under    yellow  \n",
      "0  0.000000  0.000000  0.510057  0.431403  0.000000  0.000000  \n",
      "1  0.000000  0.000000  0.472376  0.399533  0.000000  0.676468  \n",
      "2  0.000000  0.516087  0.290754  0.491836  0.000000  0.416376  \n",
      "3  0.470264  0.000000  0.264938  0.224083  0.000000  0.000000  \n",
      "4  0.000000  0.000000  0.000000  0.216250  0.453825  0.000000  \n"
     ]
    }
   ],
   "source": [
    "vectorizer = TfidfVectorizer()\n",
    "\n",
    "tfidf_matrix = vectorizer.fit_transform(documents)\n",
    "\n",
    "dense_matrix = tfidf_matrix.todense()\n",
    "feature_names = vectorizer.get_feature_names_out()\n",
    "\n",
    "TFIDF = pd.DataFrame(dense_matrix, columns=feature_names)\n",
    "print(TFIDF)"
   ]
  }
 ],
 "metadata": {
  "kernelspec": {
   "display_name": "Python 3 (ipykernel)",
   "language": "python",
   "name": "python3"
  },
  "language_info": {
   "codemirror_mode": {
    "name": "ipython",
    "version": 3
   },
   "file_extension": ".py",
   "mimetype": "text/x-python",
   "name": "python",
   "nbconvert_exporter": "python",
   "pygments_lexer": "ipython3",
   "version": "3.11.3"
  }
 },
 "nbformat": 4,
 "nbformat_minor": 5
}
