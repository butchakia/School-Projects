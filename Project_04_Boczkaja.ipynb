{
 "cells": [
  {
   "cell_type": "markdown",
   "id": "42ff9a80",
   "metadata": {},
   "source": [
    "# DSCI 503 - Project 4\n",
    "### Jeffery Boczkaja"
   ]
  },
  {
   "cell_type": "code",
   "execution_count": 1,
   "id": "066ec2c8",
   "metadata": {},
   "outputs": [],
   "source": [
    "import numpy as np\n",
    "import matplotlib.pyplot as plt\n",
    "from sklearn.model_selection import train_test_split\n",
    "from sklearn.preprocessing import OneHotEncoder\n",
    "from sklearn.linear_model import LinearRegression, LogisticRegression\n",
    "from sklearn.tree import DecisionTreeClassifier\n",
    "from sklearn.ensemble import RandomForestClassifier\n",
    "from sklearn.metrics import classification_report, confusion_matrix"
   ]
  },
  {
   "cell_type": "markdown",
   "id": "a0831fa3",
   "metadata": {},
   "source": [
    "## Part 1: Loading the Dataset; Preliminary Analysis\n",
    "We will load the data into a DataFrame, and will explore the structure of the data set."
   ]
  },
  {
   "cell_type": "code",
   "execution_count": 2,
   "id": "38f1c5ef",
   "metadata": {},
   "outputs": [
    {
     "data": {
      "text/html": [
       "<div>\n",
       "<style scoped>\n",
       "    .dataframe tbody tr th:only-of-type {\n",
       "        vertical-align: middle;\n",
       "    }\n",
       "\n",
       "    .dataframe tbody tr th {\n",
       "        vertical-align: top;\n",
       "    }\n",
       "\n",
       "    .dataframe thead th {\n",
       "        text-align: right;\n",
       "    }\n",
       "</style>\n",
       "<table border=\"1\" class=\"dataframe\">\n",
       "  <thead>\n",
       "    <tr style=\"text-align: right;\">\n",
       "      <th></th>\n",
       "      <th>Elevation</th>\n",
       "      <th>Aspect</th>\n",
       "      <th>Slope</th>\n",
       "      <th>Horizontal_Distance_To_Hydrology</th>\n",
       "      <th>Vertical_Distance_To_Hydrology</th>\n",
       "      <th>Horizontal_Distance_To_Roadways</th>\n",
       "      <th>Hillshade_9am</th>\n",
       "      <th>Hillshade_Noon</th>\n",
       "      <th>Hillshade_3pm</th>\n",
       "      <th>Horizontal_Distance_To_Fire_Points</th>\n",
       "      <th>Wilderness_Area</th>\n",
       "      <th>Soil_Type</th>\n",
       "      <th>Cover_Type</th>\n",
       "    </tr>\n",
       "  </thead>\n",
       "  <tbody>\n",
       "    <tr>\n",
       "      <th>0</th>\n",
       "      <td>2596</td>\n",
       "      <td>51</td>\n",
       "      <td>3</td>\n",
       "      <td>258</td>\n",
       "      <td>0</td>\n",
       "      <td>510</td>\n",
       "      <td>221</td>\n",
       "      <td>232</td>\n",
       "      <td>148</td>\n",
       "      <td>6279</td>\n",
       "      <td>Rawah</td>\n",
       "      <td>29</td>\n",
       "      <td>5</td>\n",
       "    </tr>\n",
       "    <tr>\n",
       "      <th>1</th>\n",
       "      <td>2590</td>\n",
       "      <td>56</td>\n",
       "      <td>2</td>\n",
       "      <td>212</td>\n",
       "      <td>-6</td>\n",
       "      <td>390</td>\n",
       "      <td>220</td>\n",
       "      <td>235</td>\n",
       "      <td>151</td>\n",
       "      <td>6225</td>\n",
       "      <td>Rawah</td>\n",
       "      <td>29</td>\n",
       "      <td>5</td>\n",
       "    </tr>\n",
       "    <tr>\n",
       "      <th>2</th>\n",
       "      <td>2804</td>\n",
       "      <td>139</td>\n",
       "      <td>9</td>\n",
       "      <td>268</td>\n",
       "      <td>65</td>\n",
       "      <td>3180</td>\n",
       "      <td>234</td>\n",
       "      <td>238</td>\n",
       "      <td>135</td>\n",
       "      <td>6121</td>\n",
       "      <td>Rawah</td>\n",
       "      <td>12</td>\n",
       "      <td>2</td>\n",
       "    </tr>\n",
       "    <tr>\n",
       "      <th>3</th>\n",
       "      <td>2785</td>\n",
       "      <td>155</td>\n",
       "      <td>18</td>\n",
       "      <td>242</td>\n",
       "      <td>118</td>\n",
       "      <td>3090</td>\n",
       "      <td>238</td>\n",
       "      <td>238</td>\n",
       "      <td>122</td>\n",
       "      <td>6211</td>\n",
       "      <td>Rawah</td>\n",
       "      <td>30</td>\n",
       "      <td>2</td>\n",
       "    </tr>\n",
       "    <tr>\n",
       "      <th>4</th>\n",
       "      <td>2595</td>\n",
       "      <td>45</td>\n",
       "      <td>2</td>\n",
       "      <td>153</td>\n",
       "      <td>-1</td>\n",
       "      <td>391</td>\n",
       "      <td>220</td>\n",
       "      <td>234</td>\n",
       "      <td>150</td>\n",
       "      <td>6172</td>\n",
       "      <td>Rawah</td>\n",
       "      <td>29</td>\n",
       "      <td>5</td>\n",
       "    </tr>\n",
       "  </tbody>\n",
       "</table>\n",
       "</div>"
      ],
      "text/plain": [
       "   Elevation  Aspect  Slope  Horizontal_Distance_To_Hydrology  \\\n",
       "0       2596      51      3                               258   \n",
       "1       2590      56      2                               212   \n",
       "2       2804     139      9                               268   \n",
       "3       2785     155     18                               242   \n",
       "4       2595      45      2                               153   \n",
       "\n",
       "   Vertical_Distance_To_Hydrology  Horizontal_Distance_To_Roadways  \\\n",
       "0                               0                              510   \n",
       "1                              -6                              390   \n",
       "2                              65                             3180   \n",
       "3                             118                             3090   \n",
       "4                              -1                              391   \n",
       "\n",
       "   Hillshade_9am  Hillshade_Noon  Hillshade_3pm  \\\n",
       "0            221             232            148   \n",
       "1            220             235            151   \n",
       "2            234             238            135   \n",
       "3            238             238            122   \n",
       "4            220             234            150   \n",
       "\n",
       "   Horizontal_Distance_To_Fire_Points Wilderness_Area  Soil_Type  Cover_Type  \n",
       "0                                6279           Rawah         29           5  \n",
       "1                                6225           Rawah         29           5  \n",
       "2                                6121           Rawah         12           2  \n",
       "3                                6211           Rawah         30           2  \n",
       "4                                6172           Rawah         29           5  "
      ]
     },
     "execution_count": 2,
     "metadata": {},
     "output_type": "execute_result"
    }
   ],
   "source": [
    "fc = pd.read_csv('forest_cover.txt', delimiter='\\t')\n",
    "fc.head(5)"
   ]
  },
  {
   "cell_type": "markdown",
   "id": "06aab9d2",
   "metadata": {},
   "source": [
    "We will determine the size of the dataset. The first number will be the number of rows while the second will be the number of columns."
   ]
  },
  {
   "cell_type": "code",
   "execution_count": 3,
   "id": "ba26be92",
   "metadata": {},
   "outputs": [
    {
     "data": {
      "text/plain": [
       "(15120, 13)"
      ]
     },
     "execution_count": 3,
     "metadata": {},
     "output_type": "execute_result"
    }
   ],
   "source": [
    "fc.shape"
   ]
  },
  {
   "cell_type": "markdown",
   "id": "d8d548a4",
   "metadata": {},
   "source": [
    "We will now inspect the distribution of cover types in the datasets."
   ]
  },
  {
   "cell_type": "code",
   "execution_count": 4,
   "id": "27eb4216",
   "metadata": {},
   "outputs": [
    {
     "data": {
      "text/plain": [
       "1    2160\n",
       "2    2160\n",
       "3    2160\n",
       "4    2160\n",
       "5    2160\n",
       "6    2160\n",
       "7    2160\n",
       "Name: Cover_Type, dtype: int64"
      ]
     },
     "execution_count": 4,
     "metadata": {},
     "output_type": "execute_result"
    }
   ],
   "source": [
    "cover_type_counts = fc['Cover_Type'].value_counts().sort_index()\n",
    "cover_type_counts"
   ]
  },
  {
   "cell_type": "markdown",
   "id": "48bf9e68",
   "metadata": {},
   "source": [
    "We will create a list of seven colors to be used as a palette in plots that we\n",
    "will create later."
   ]
  },
  {
   "cell_type": "code",
   "execution_count": 5,
   "id": "1a2420fc",
   "metadata": {},
   "outputs": [],
   "source": [
    "palette = ['orchid', 'lightcoral', 'orange', 'gold', 'lightgreen', 'deepskyblue', 'cornflowerblue']"
   ]
  },
  {
   "cell_type": "markdown",
   "id": "523310ba",
   "metadata": {},
   "source": [
    "## Part 2: Distribution of Cover Type by Wilderness Area\n",
    "We will start by determining the distribution of the wilderness areas within our dataset. "
   ]
  },
  {
   "cell_type": "code",
   "execution_count": 6,
   "id": "97b3f2bd",
   "metadata": {},
   "outputs": [
    {
     "data": {
      "text/plain": [
       "Cache la Poudre    4675\n",
       "Comanche Peak      6349\n",
       "Neota               499\n",
       "Rawah              3597\n",
       "Name: Wilderness_Area, dtype: int64"
      ]
     },
     "execution_count": 6,
     "metadata": {},
     "output_type": "execute_result"
    }
   ],
   "source": [
    "wilderness_area_counts = fc['Wilderness_Area'].value_counts().sort_index()\n",
    "wilderness_area_counts"
   ]
  },
  {
   "cell_type": "markdown",
   "id": "ae4df3fe",
   "metadata": {},
   "source": [
    "We will create a DataFrame to determine the how many regions of each cover type are in each of the four wilderness areas. "
   ]
  },
  {
   "cell_type": "code",
   "execution_count": 7,
   "id": "b4cc1c1f",
   "metadata": {},
   "outputs": [
    {
     "data": {
      "text/html": [
       "<div>\n",
       "<style scoped>\n",
       "    .dataframe tbody tr th:only-of-type {\n",
       "        vertical-align: middle;\n",
       "    }\n",
       "\n",
       "    .dataframe tbody tr th {\n",
       "        vertical-align: top;\n",
       "    }\n",
       "\n",
       "    .dataframe thead th {\n",
       "        text-align: right;\n",
       "    }\n",
       "</style>\n",
       "<table border=\"1\" class=\"dataframe\">\n",
       "  <thead>\n",
       "    <tr style=\"text-align: right;\">\n",
       "      <th>Wilderness_Area</th>\n",
       "      <th>Cache la Poudre</th>\n",
       "      <th>Comanche Peak</th>\n",
       "      <th>Neota</th>\n",
       "      <th>Rawah</th>\n",
       "    </tr>\n",
       "    <tr>\n",
       "      <th>Cover_Type</th>\n",
       "      <th></th>\n",
       "      <th></th>\n",
       "      <th></th>\n",
       "      <th></th>\n",
       "    </tr>\n",
       "  </thead>\n",
       "  <tbody>\n",
       "    <tr>\n",
       "      <th>1</th>\n",
       "      <td>0</td>\n",
       "      <td>917</td>\n",
       "      <td>181</td>\n",
       "      <td>1062</td>\n",
       "    </tr>\n",
       "    <tr>\n",
       "      <th>2</th>\n",
       "      <td>20</td>\n",
       "      <td>940</td>\n",
       "      <td>66</td>\n",
       "      <td>1134</td>\n",
       "    </tr>\n",
       "    <tr>\n",
       "      <th>3</th>\n",
       "      <td>1297</td>\n",
       "      <td>863</td>\n",
       "      <td>0</td>\n",
       "      <td>0</td>\n",
       "    </tr>\n",
       "    <tr>\n",
       "      <th>4</th>\n",
       "      <td>2160</td>\n",
       "      <td>0</td>\n",
       "      <td>0</td>\n",
       "      <td>0</td>\n",
       "    </tr>\n",
       "    <tr>\n",
       "      <th>5</th>\n",
       "      <td>0</td>\n",
       "      <td>1304</td>\n",
       "      <td>0</td>\n",
       "      <td>856</td>\n",
       "    </tr>\n",
       "    <tr>\n",
       "      <th>6</th>\n",
       "      <td>1198</td>\n",
       "      <td>962</td>\n",
       "      <td>0</td>\n",
       "      <td>0</td>\n",
       "    </tr>\n",
       "    <tr>\n",
       "      <th>7</th>\n",
       "      <td>0</td>\n",
       "      <td>1363</td>\n",
       "      <td>252</td>\n",
       "      <td>545</td>\n",
       "    </tr>\n",
       "  </tbody>\n",
       "</table>\n",
       "</div>"
      ],
      "text/plain": [
       "Wilderness_Area  Cache la Poudre  Comanche Peak  Neota  Rawah\n",
       "Cover_Type                                                   \n",
       "1                              0            917    181   1062\n",
       "2                             20            940     66   1134\n",
       "3                           1297            863      0      0\n",
       "4                           2160              0      0      0\n",
       "5                              0           1304      0    856\n",
       "6                           1198            962      0      0\n",
       "7                              0           1363    252    545"
      ]
     },
     "execution_count": 7,
     "metadata": {},
     "output_type": "execute_result"
    }
   ],
   "source": [
    "ct_by_wa = pd.crosstab(fc['Cover_Type'], fc['Wilderness_Area'])\n",
    "ct_by_wa"
   ]
  },
  {
   "cell_type": "markdown",
   "id": "b7dd6ab3",
   "metadata": {},
   "source": [
    "We will visually represent the information in the DataFrame you just created in the form of a stacked bar chart."
   ]
  },
  {
   "cell_type": "code",
   "execution_count": 8,
   "id": "e8cc616a",
   "metadata": {},
   "outputs": [
    {
     "data": {
      "image/png": "[encoded data removed]",
      "text/plain": [
       "<Figure size 800x400 with 1 Axes>"
      ]
     },
     "metadata": {},
     "output_type": "display_data"
    }
   ],
   "source": [
    "ct_by_wa_props = ct_by_wa.div(ct_by_wa.sum())\n",
    "bb = np.cumsum(ct_by_wa_props) - ct_by_wa_props\n",
    "fig = plt.figure(figsize=[8, 4])\n",
    "for i, row in ct_by_wa_props.iterrows():\n",
    "    plt.bar(ct_by_wa_props.columns, row, bottom=bb.loc[i], edgecolor='black', color=palette[i-1], label='Cover Type '+str(i))\n",
    "plt.xlabel('Wilderness Area')\n",
    "plt.ylabel('Proportion')\n",
    "plt.title('Distribution of Cover Type by Wilderness Area')\n",
    "plt.legend(loc='upper right', bbox_to_anchor=(1.15, 1))\n",
    "plt.show()"
   ]
  },
  {
   "cell_type": "markdown",
   "id": "d1853faf",
   "metadata": {},
   "source": [
    "## Part 3: Distribution of Cover Type by Soil Type\n",
    "We will start by creating a DataFrame to determine the number of regions of each cover type there are for each of the 40 soil types."
   ]
  },
  {
   "cell_type": "code",
   "execution_count": 9,
   "id": "b7d73a11",
   "metadata": {},
   "outputs": [
    {
     "data": {
      "text/html": [
       "<div>\n",
       "<style scoped>\n",
       "    .dataframe tbody tr th:only-of-type {\n",
       "        vertical-align: middle;\n",
       "    }\n",
       "\n",
       "    .dataframe tbody tr th {\n",
       "        vertical-align: top;\n",
       "    }\n",
       "\n",
       "    .dataframe thead th {\n",
       "        text-align: right;\n",
       "    }\n",
       "</style>\n",
       "<table border=\"1\" class=\"dataframe\">\n",
       "  <thead>\n",
       "    <tr style=\"text-align: right;\">\n",
       "      <th>Soil_Type</th>\n",
       "      <th>1</th>\n",
       "      <th>2</th>\n",
       "      <th>3</th>\n",
       "      <th>4</th>\n",
       "      <th>5</th>\n",
       "      <th>6</th>\n",
       "      <th>8</th>\n",
       "      <th>9</th>\n",
       "      <th>10</th>\n",
       "      <th>11</th>\n",
       "      <th>...</th>\n",
       "      <th>31</th>\n",
       "      <th>32</th>\n",
       "      <th>33</th>\n",
       "      <th>34</th>\n",
       "      <th>35</th>\n",
       "      <th>36</th>\n",
       "      <th>37</th>\n",
       "      <th>38</th>\n",
       "      <th>39</th>\n",
       "      <th>40</th>\n",
       "    </tr>\n",
       "    <tr>\n",
       "      <th>Cover_Type</th>\n",
       "      <th></th>\n",
       "      <th></th>\n",
       "      <th></th>\n",
       "      <th></th>\n",
       "      <th></th>\n",
       "      <th></th>\n",
       "      <th></th>\n",
       "      <th></th>\n",
       "      <th></th>\n",
       "      <th></th>\n",
       "      <th></th>\n",
       "      <th></th>\n",
       "      <th></th>\n",
       "      <th></th>\n",
       "      <th></th>\n",
       "      <th></th>\n",
       "      <th></th>\n",
       "      <th></th>\n",
       "      <th></th>\n",
       "      <th></th>\n",
       "      <th></th>\n",
       "    </tr>\n",
       "  </thead>\n",
       "  <tbody>\n",
       "    <tr>\n",
       "      <th>1</th>\n",
       "      <td>0</td>\n",
       "      <td>0</td>\n",
       "      <td>0</td>\n",
       "      <td>5</td>\n",
       "      <td>0</td>\n",
       "      <td>0</td>\n",
       "      <td>0</td>\n",
       "      <td>1</td>\n",
       "      <td>9</td>\n",
       "      <td>5</td>\n",
       "      <td>...</td>\n",
       "      <td>114</td>\n",
       "      <td>230</td>\n",
       "      <td>184</td>\n",
       "      <td>0</td>\n",
       "      <td>3</td>\n",
       "      <td>0</td>\n",
       "      <td>0</td>\n",
       "      <td>80</td>\n",
       "      <td>79</td>\n",
       "      <td>49</td>\n",
       "    </tr>\n",
       "    <tr>\n",
       "      <th>2</th>\n",
       "      <td>0</td>\n",
       "      <td>3</td>\n",
       "      <td>12</td>\n",
       "      <td>20</td>\n",
       "      <td>0</td>\n",
       "      <td>7</td>\n",
       "      <td>1</td>\n",
       "      <td>9</td>\n",
       "      <td>81</td>\n",
       "      <td>67</td>\n",
       "      <td>...</td>\n",
       "      <td>97</td>\n",
       "      <td>255</td>\n",
       "      <td>184</td>\n",
       "      <td>12</td>\n",
       "      <td>1</td>\n",
       "      <td>2</td>\n",
       "      <td>0</td>\n",
       "      <td>7</td>\n",
       "      <td>3</td>\n",
       "      <td>3</td>\n",
       "    </tr>\n",
       "    <tr>\n",
       "      <th>3</th>\n",
       "      <td>121</td>\n",
       "      <td>283</td>\n",
       "      <td>133</td>\n",
       "      <td>462</td>\n",
       "      <td>55</td>\n",
       "      <td>248</td>\n",
       "      <td>0</td>\n",
       "      <td>0</td>\n",
       "      <td>717</td>\n",
       "      <td>89</td>\n",
       "      <td>...</td>\n",
       "      <td>0</td>\n",
       "      <td>5</td>\n",
       "      <td>0</td>\n",
       "      <td>0</td>\n",
       "      <td>0</td>\n",
       "      <td>0</td>\n",
       "      <td>0</td>\n",
       "      <td>0</td>\n",
       "      <td>0</td>\n",
       "      <td>0</td>\n",
       "    </tr>\n",
       "    <tr>\n",
       "      <th>4</th>\n",
       "      <td>139</td>\n",
       "      <td>94</td>\n",
       "      <td>799</td>\n",
       "      <td>133</td>\n",
       "      <td>39</td>\n",
       "      <td>244</td>\n",
       "      <td>0</td>\n",
       "      <td>0</td>\n",
       "      <td>170</td>\n",
       "      <td>24</td>\n",
       "      <td>...</td>\n",
       "      <td>0</td>\n",
       "      <td>0</td>\n",
       "      <td>0</td>\n",
       "      <td>0</td>\n",
       "      <td>0</td>\n",
       "      <td>0</td>\n",
       "      <td>0</td>\n",
       "      <td>0</td>\n",
       "      <td>0</td>\n",
       "      <td>0</td>\n",
       "    </tr>\n",
       "    <tr>\n",
       "      <th>5</th>\n",
       "      <td>0</td>\n",
       "      <td>61</td>\n",
       "      <td>0</td>\n",
       "      <td>129</td>\n",
       "      <td>0</td>\n",
       "      <td>0</td>\n",
       "      <td>0</td>\n",
       "      <td>0</td>\n",
       "      <td>64</td>\n",
       "      <td>154</td>\n",
       "      <td>...</td>\n",
       "      <td>87</td>\n",
       "      <td>100</td>\n",
       "      <td>115</td>\n",
       "      <td>4</td>\n",
       "      <td>0</td>\n",
       "      <td>0</td>\n",
       "      <td>0</td>\n",
       "      <td>0</td>\n",
       "      <td>0</td>\n",
       "      <td>0</td>\n",
       "    </tr>\n",
       "    <tr>\n",
       "      <th>6</th>\n",
       "      <td>95</td>\n",
       "      <td>182</td>\n",
       "      <td>18</td>\n",
       "      <td>87</td>\n",
       "      <td>71</td>\n",
       "      <td>151</td>\n",
       "      <td>0</td>\n",
       "      <td>0</td>\n",
       "      <td>1101</td>\n",
       "      <td>67</td>\n",
       "      <td>...</td>\n",
       "      <td>7</td>\n",
       "      <td>30</td>\n",
       "      <td>66</td>\n",
       "      <td>2</td>\n",
       "      <td>0</td>\n",
       "      <td>0</td>\n",
       "      <td>0</td>\n",
       "      <td>0</td>\n",
       "      <td>0</td>\n",
       "      <td>0</td>\n",
       "    </tr>\n",
       "    <tr>\n",
       "      <th>7</th>\n",
       "      <td>0</td>\n",
       "      <td>0</td>\n",
       "      <td>0</td>\n",
       "      <td>7</td>\n",
       "      <td>0</td>\n",
       "      <td>0</td>\n",
       "      <td>0</td>\n",
       "      <td>0</td>\n",
       "      <td>0</td>\n",
       "      <td>0</td>\n",
       "      <td>...</td>\n",
       "      <td>27</td>\n",
       "      <td>70</td>\n",
       "      <td>67</td>\n",
       "      <td>4</td>\n",
       "      <td>98</td>\n",
       "      <td>8</td>\n",
       "      <td>34</td>\n",
       "      <td>641</td>\n",
       "      <td>575</td>\n",
       "      <td>407</td>\n",
       "    </tr>\n",
       "  </tbody>\n",
       "</table>\n",
       "<p>7 rows × 38 columns</p>\n",
       "</div>"
      ],
      "text/plain": [
       "Soil_Type    1    2    3    4   5    6   8   9     10   11  ...   31   32  \\\n",
       "Cover_Type                                                  ...             \n",
       "1             0    0    0    5   0    0   0   1     9    5  ...  114  230   \n",
       "2             0    3   12   20   0    7   1   9    81   67  ...   97  255   \n",
       "3           121  283  133  462  55  248   0   0   717   89  ...    0    5   \n",
       "4           139   94  799  133  39  244   0   0   170   24  ...    0    0   \n",
       "5             0   61    0  129   0    0   0   0    64  154  ...   87  100   \n",
       "6            95  182   18   87  71  151   0   0  1101   67  ...    7   30   \n",
       "7             0    0    0    7   0    0   0   0     0    0  ...   27   70   \n",
       "\n",
       "Soil_Type    33  34  35  36  37   38   39   40  \n",
       "Cover_Type                                      \n",
       "1           184   0   3   0   0   80   79   49  \n",
       "2           184  12   1   2   0    7    3    3  \n",
       "3             0   0   0   0   0    0    0    0  \n",
       "4             0   0   0   0   0    0    0    0  \n",
       "5           115   4   0   0   0    0    0    0  \n",
       "6            66   2   0   0   0    0    0    0  \n",
       "7            67   4  98   8  34  641  575  407  \n",
       "\n",
       "[7 rows x 38 columns]"
      ]
     },
     "execution_count": 9,
     "metadata": {},
     "output_type": "execute_result"
    }
   ],
   "source": [
    "ct_by_st = pd.crosstab(fc['Cover_Type'], fc['Soil_Type'])\n",
    "ct_by_st"
   ]
  },
  {
   "cell_type": "markdown",
   "id": "0146aa00",
   "metadata": {},
   "source": [
    "We will start by creating a DataFrame to determine the number of regions of each cover type there are for each of the 40 soil types."
   ]
  },
  {
   "cell_type": "code",
   "execution_count": 10,
   "id": "b7635a3e",
   "metadata": {},
   "outputs": [
    {
     "data": {
      "image/png": "[encoded data removed]",
      "text/plain": [
       "<Figure size 1200x600 with 1 Axes>"
      ]
     },
     "metadata": {},
     "output_type": "display_data"
    }
   ],
   "source": [
    "ct_by_st_props = ct_by_st.div(ct_by_st.sum())\n",
    "bb = np.cumsum(ct_by_st_props) - ct_by_st_props\n",
    "fig = plt.figure(figsize=[12, 6])\n",
    "for i, row in ct_by_st_props.iterrows():\n",
    "    plt.bar(ct_by_st_props.columns, row, bottom=bb.loc[i], edgecolor='black', color=palette[i-1], label='Cover Type '+str(i))\n",
    "plt.xlabel('Soil Type')\n",
    "plt.ylabel('Proportion')\n",
    "plt.title('Distribution of Cover Type by Soil Type')\n",
    "plt.legend(loc='upper right', bbox_to_anchor=(1.15, 1))\n",
    "plt.show()"
   ]
  },
  {
   "cell_type": "markdown",
   "id": "76730cab",
   "metadata": {},
   "source": [
    "## Part 4: Distribution of Elevation by Cover Type\n",
    "We will start by calculating the average elevation for each of the seven cover types. "
   ]
  },
  {
   "cell_type": "code",
   "execution_count": 11,
   "id": "b01a0bf1",
   "metadata": {},
   "outputs": [
    {
     "data": {
      "text/html": [
       "<div>\n",
       "<style scoped>\n",
       "    .dataframe tbody tr th:only-of-type {\n",
       "        vertical-align: middle;\n",
       "    }\n",
       "\n",
       "    .dataframe tbody tr th {\n",
       "        vertical-align: top;\n",
       "    }\n",
       "\n",
       "    .dataframe thead th {\n",
       "        text-align: right;\n",
       "    }\n",
       "</style>\n",
       "<table border=\"1\" class=\"dataframe\">\n",
       "  <thead>\n",
       "    <tr style=\"text-align: right;\">\n",
       "      <th></th>\n",
       "      <th>Elevation</th>\n",
       "    </tr>\n",
       "    <tr>\n",
       "      <th>Cover_Type</th>\n",
       "      <th></th>\n",
       "    </tr>\n",
       "  </thead>\n",
       "  <tbody>\n",
       "    <tr>\n",
       "      <th>1</th>\n",
       "      <td>3128.025926</td>\n",
       "    </tr>\n",
       "    <tr>\n",
       "      <th>2</th>\n",
       "      <td>2922.540278</td>\n",
       "    </tr>\n",
       "    <tr>\n",
       "      <th>3</th>\n",
       "      <td>2398.423148</td>\n",
       "    </tr>\n",
       "    <tr>\n",
       "      <th>4</th>\n",
       "      <td>2223.420370</td>\n",
       "    </tr>\n",
       "    <tr>\n",
       "      <th>5</th>\n",
       "      <td>2786.801389</td>\n",
       "    </tr>\n",
       "    <tr>\n",
       "      <th>6</th>\n",
       "      <td>2423.276852</td>\n",
       "    </tr>\n",
       "    <tr>\n",
       "      <th>7</th>\n",
       "      <td>3362.769907</td>\n",
       "    </tr>\n",
       "  </tbody>\n",
       "</table>\n",
       "</div>"
      ],
      "text/plain": [
       "              Elevation\n",
       "Cover_Type             \n",
       "1           3128.025926\n",
       "2           2922.540278\n",
       "3           2398.423148\n",
       "4           2223.420370\n",
       "5           2786.801389\n",
       "6           2423.276852\n",
       "7           3362.769907"
      ]
     },
     "execution_count": 11,
     "metadata": {},
     "output_type": "execute_result"
    }
   ],
   "source": [
    "elevation_mean_by_cover_type = fc[['Elevation', 'Cover_Type']].groupby('Cover_Type').mean()\n",
    "elevation_mean_by_cover_type"
   ]
  },
  {
   "cell_type": "markdown",
   "id": "7d3f6239",
   "metadata": {},
   "source": [
    "We will create histograms to visually explore the distribution of elevations for each of the seven cover types. "
   ]
  },
  {
   "cell_type": "code",
   "execution_count": 12,
   "id": "f70ffa75",
   "metadata": {},
   "outputs": [
    {
     "data": {
      "image/png": "[encoded data removed]",
      "text/plain": [
       "<Figure size 1200x600 with 7 Axes>"
      ]
     },
     "metadata": {},
     "output_type": "display_data"
    }
   ],
   "source": [
    "fig = plt.figure(figsize=[12, 6])\n",
    "for i in range(1, 8):\n",
    "    ax = fig.add_subplot(2, 4, i)\n",
    "    cover_type_data = fc[fc['Cover_Type'] == i]\n",
    "    ax.hist(cover_type_data['Elevation'], bins=np.arange(1800, 4050, 50), color=palette[i-1], edgecolor='black')\n",
    "    ax.set_title('Cover Type ' + str(i))\n",
    "    ax.set_xlim([1800, 4000])\n",
    "    ax.set_ylim([0, 600])\n",
    "    ax.set_xlabel('Elevation')\n",
    "    ax.set_ylabel('Count')\n",
    "plt.tight_layout()\n",
    "plt.show()"
   ]
  },
  {
   "cell_type": "markdown",
   "id": "6ab03a21",
   "metadata": {},
   "source": [
    "## Part 5: Creating Training, Validation, and Test Sets\n",
    "We will start by separating the categorical features, the numerical features, and the labels. "
   ]
  },
  {
   "cell_type": "code",
   "execution_count": 13,
   "id": "b15acc2d",
   "metadata": {},
   "outputs": [
    {
     "name": "stdout",
     "output_type": "stream",
     "text": [
      "Numerical Feature Array Shape:    (15120, 10)\n",
      "Categorical Feature Array Shape:  (15120, 2)\n",
      "Label Array Shape:                (15120,)\n"
     ]
    }
   ],
   "source": [
    "num_columns = ['Elevation', 'Aspect', 'Slope', 'Horizontal_Distance_To_Hydrology', \n",
    "               'Vertical_Distance_To_Hydrology', 'Horizontal_Distance_To_Roadways',\n",
    "               'Hillshade_9am', 'Hillshade_Noon', 'Hillshade_3pm', 'Horizontal_Distance_To_Fire_Points']\n",
    "X_num = fc[num_columns].values\n",
    "cat_columns = ['Wilderness_Area', 'Soil_Type']\n",
    "X_cat = fc[cat_columns].values\n",
    "y = fc['Cover_Type'].values\n",
    "print(\"Numerical Feature Array Shape:   \", X_num.shape)\n",
    "print(\"Categorical Feature Array Shape: \", X_cat.shape)\n",
    "print(\"Label Array Shape:               \", y.shape)"
   ]
  },
  {
   "cell_type": "markdown",
   "id": "5495ae8e",
   "metadata": {},
   "source": [
    " We will now be encoding the categorical variables using one-hot encoding. "
   ]
  },
  {
   "cell_type": "code",
   "execution_count": 14,
   "id": "7cd7d38c",
   "metadata": {},
   "outputs": [
    {
     "name": "stdout",
     "output_type": "stream",
     "text": [
      "Encoded Feature Array Shape: (15120, 42)\n"
     ]
    },
    {
     "name": "stderr",
     "output_type": "stream",
     "text": [
      "C:\\Users\\whitl\\anaconda3\\lib\\site-packages\\sklearn\\preprocessing\\_encoders.py:828: FutureWarning: `sparse` was renamed to `sparse_output` in version 1.2 and will be removed in 1.4. `sparse_output` is ignored unless you leave `sparse` to its default value.\n",
      "  warnings.warn(\n"
     ]
    }
   ],
   "source": [
    "encoder = OneHotEncoder(sparse=False)\n",
    "encoder.fit(X_cat)\n",
    "X_enc = encoder.transform(X_cat)\n",
    "print(\"Encoded Feature Array Shape:\", X_enc.shape)"
   ]
  },
  {
   "cell_type": "markdown",
   "id": "4ef1e8f2",
   "metadata": {},
   "source": [
    "We will now combine the numerical features with the encoded features."
   ]
  },
  {
   "cell_type": "code",
   "execution_count": 15,
   "id": "fe8362c0",
   "metadata": {},
   "outputs": [
    {
     "name": "stdout",
     "output_type": "stream",
     "text": [
      "Feature Array Shape:  (15120, 52)\n"
     ]
    }
   ],
   "source": [
    "X = np.hstack((X_num, X_enc))\n",
    "print(\"Feature Array Shape: \", X.shape)"
   ]
  },
  {
   "cell_type": "markdown",
   "id": "d911a0d8",
   "metadata": {},
   "source": [
    "We will now split the data into training, validation, and test sets, using a 70/15/15 split."
   ]
  },
  {
   "cell_type": "code",
   "execution_count": 16,
   "id": "1a6421e6",
   "metadata": {},
   "outputs": [
    {
     "name": "stdout",
     "output_type": "stream",
     "text": [
      "Training Features Shape:     (10584, 52)\n",
      "Validation Features Shape:   (2268, 52)\n",
      "Test Features Shape:         (2268, 52)\n"
     ]
    }
   ],
   "source": [
    "X_train, X_hold, y_train, y_hold = train_test_split(X, y, test_size=0.3, random_state=1, stratify=y)\n",
    "X_valid, X_test, y_valid, y_test = train_test_split(X_hold, y_hold, test_size=0.5, random_state=1, stratify=y_hold)\n",
    "print(\"Training Features Shape:    \", X_train.shape)\n",
    "print(\"Validation Features Shape:  \", X_valid.shape)\n",
    "print(\"Test Features Shape:        \", X_test.shape)"
   ]
  },
  {
   "cell_type": "markdown",
   "id": "e8fd725f",
   "metadata": {},
   "source": [
    "## Part 6: Logistic Regression Model\n",
    "We will create and evaluate a logistic regression model."
   ]
  },
  {
   "cell_type": "code",
   "execution_count": 17,
   "id": "c3618b3a",
   "metadata": {},
   "outputs": [
    {
     "name": "stderr",
     "output_type": "stream",
     "text": [
      "C:\\Users\\whitl\\anaconda3\\lib\\site-packages\\sklearn\\linear_model\\_logistic.py:1173: FutureWarning: `penalty='none'`has been deprecated in 1.2 and will be removed in 1.4. To keep the past behaviour, set `penalty=None`.\n",
      "  warnings.warn(\n"
     ]
    },
    {
     "name": "stdout",
     "output_type": "stream",
     "text": [
      "Training Accuracy:   0.6156\n",
      "Validation Accuracy: 0.6116\n"
     ]
    },
    {
     "name": "stderr",
     "output_type": "stream",
     "text": [
      "C:\\Users\\whitl\\anaconda3\\lib\\site-packages\\sklearn\\linear_model\\_logistic.py:458: ConvergenceWarning: lbfgs failed to converge (status=1):\n",
      "STOP: TOTAL NO. of ITERATIONS REACHED LIMIT.\n",
      "\n",
      "Increase the number of iterations (max_iter) or scale the data as shown in:\n",
      "    https://scikit-learn.org/stable/modules/preprocessing.html\n",
      "Please also refer to the documentation for alternative solver options:\n",
      "    https://scikit-learn.org/stable/modules/linear_model.html#logistic-regression\n",
      "  n_iter_i = _check_optimize_result(\n"
     ]
    }
   ],
   "source": [
    "lr_mod = LogisticRegression(solver='lbfgs', max_iter=1000, multi_class='multinomial', penalty='none')\n",
    "lr_mod.fit(X_train, y_train)\n",
    "train_acc = lr_mod.score(X_train, y_train)\n",
    "valid_acc = lr_mod.score(X_valid, y_valid)\n",
    "print(\"Training Accuracy:  \", round(train_acc, 4))\n",
    "print(\"Validation Accuracy:\", round(valid_acc, 4))"
   ]
  },
  {
   "cell_type": "markdown",
   "id": "8ae73e4a",
   "metadata": {},
   "source": [
    "## Part 7: Decision Tree Models\n",
    "We will create and evaluate several decision tree models."
   ]
  },
  {
   "cell_type": "code",
   "execution_count": 18,
   "id": "add08c06",
   "metadata": {},
   "outputs": [
    {
     "name": "stdout",
     "output_type": "stream",
     "text": [
      "Optimal value for max_depth:           18\n",
      "Training Accuracy for Optimal Model:   0.9804\n",
      "Validation Accuracy for Optimal Model: 0.772\n"
     ]
    }
   ],
   "source": [
    "dt_train_acc = []\n",
    "dt_valid_acc = []\n",
    "depth_range = range(2, 31)\n",
    "for depth in depth_range:\n",
    "    np.random.seed(1)\n",
    "    temp_tree = DecisionTreeClassifier(max_depth=depth)\n",
    "    temp_tree.fit(X_train, y_train)\n",
    "    train_acc = temp_tree.score(X_train, y_train)\n",
    "    valid_acc = temp_tree.score(X_valid, y_valid)\n",
    "    dt_train_acc.append(train_acc)\n",
    "    dt_valid_acc.append(valid_acc)\n",
    "dt_idx = np.argmax(dt_valid_acc)\n",
    "dt_opt_depth = depth_range[dt_idx]\n",
    "opt_train_acc = dt_train_acc[dt_idx]\n",
    "opt_valid_acc = dt_valid_acc[dt_idx]\n",
    "print(\"Optimal value for max_depth:          \", round(dt_opt_depth, 4))\n",
    "print(\"Training Accuracy for Optimal Model:  \", round(opt_train_acc, 4))\n",
    "print(\"Validation Accuracy for Optimal Model:\", round(opt_valid_acc, 4))"
   ]
  },
  {
   "cell_type": "markdown",
   "id": "2ba28c28",
   "metadata": {},
   "source": [
    "We will plot the training and validation curves as a function of max_depth."
   ]
  },
  {
   "cell_type": "code",
   "execution_count": 19,
   "id": "ace1e782",
   "metadata": {},
   "outputs": [
    {
     "data": {
      "image/png": "[encoded data removed]",
      "text/plain": [
       "<Figure size 640x480 with 1 Axes>"
      ]
     },
     "metadata": {},
     "output_type": "display_data"
    }
   ],
   "source": [
    "fig, ax = plt.subplots()\n",
    "ax.plot(depth_range, dt_train_acc, label=\"Training\")\n",
    "ax.plot(depth_range, dt_valid_acc, label=\"Validation\")\n",
    "ax.set_xlabel(\"Max Depth\")\n",
    "ax.set_ylabel(\"Accuracy\")\n",
    "ax.legend()\n",
    "plt.show()"
   ]
  },
  {
   "cell_type": "markdown",
   "id": "30c479b9",
   "metadata": {},
   "source": [
    "## Part 8: Random Forest Models\n",
    "We will create and evaluate several random forest models."
   ]
  },
  {
   "cell_type": "code",
   "execution_count": 20,
   "id": "512a836a",
   "metadata": {},
   "outputs": [
    {
     "name": "stdout",
     "output_type": "stream",
     "text": [
      "Optimal value for max_depth:           28\n",
      "Training Accuracy for Optimal Model:   1.0\n",
      "Validation Accuracy for Optimal Model: 0.8677\n"
     ]
    }
   ],
   "source": [
    "rf_train_acc = []\n",
    "rf_valid_acc = []\n",
    "for depth in depth_range:\n",
    "    np.random.seed(1)\n",
    "    temp_forest = RandomForestClassifier(n_estimators=100, max_depth=depth, random_state=1)\n",
    "    temp_forest.fit(X_train, y_train)\n",
    "    train_acc = temp_forest.score(X_train, y_train)\n",
    "    valid_acc = temp_forest.score(X_valid, y_valid)\n",
    "    rf_train_acc.append(train_acc)\n",
    "    rf_valid_acc.append(valid_acc)\n",
    "rf_idx = np.argmax(rf_valid_acc)\n",
    "rf_opt_depth = depth_range[rf_idx]\n",
    "rf_opt_train_acc = rf_train_acc[rf_idx]\n",
    "rf_opt_valid_acc = rf_valid_acc[rf_idx]\n",
    "print(\"Optimal value for max_depth:          \", round(rf_opt_depth, 4))\n",
    "print(\"Training Accuracy for Optimal Model:  \", round(rf_opt_train_acc, 4))\n",
    "print(\"Validation Accuracy for Optimal Model:\", round(rf_opt_valid_acc, 4))"
   ]
  },
  {
   "cell_type": "markdown",
   "id": "ee0dc85c",
   "metadata": {},
   "source": [
    "We will plot the training and validation curves as a function of max_depth."
   ]
  },
  {
   "cell_type": "code",
   "execution_count": 21,
   "id": "2c105476",
   "metadata": {},
   "outputs": [
    {
     "data": {
      "image/png": "[encoded data removed]",
      "text/plain": [
       "<Figure size 640x480 with 1 Axes>"
      ]
     },
     "metadata": {},
     "output_type": "display_data"
    }
   ],
   "source": [
    "fig, ax = plt.subplots()\n",
    "ax.plot(depth_range, rf_train_acc, label='Training')\n",
    "ax.plot(depth_range, rf_valid_acc, label='Validation')\n",
    "ax.set_xlabel('Max Depth')\n",
    "ax.set_ylabel('Accuracy')\n",
    "ax.set_title('Random Forest Model Accuracy')\n",
    "ax.legend()\n",
    "plt.show()"
   ]
  },
  {
   "cell_type": "markdown",
   "id": "ef653448",
   "metadata": {},
   "source": [
    "## Part 9: Create and Evaluate Final Model\n",
    "We will be using the random forest model because it has the highest validation accuracy of the models tested. The optimal max depth will be 28 for the model as well."
   ]
  },
  {
   "cell_type": "code",
   "execution_count": 22,
   "id": "0acdb372",
   "metadata": {},
   "outputs": [
    {
     "name": "stdout",
     "output_type": "stream",
     "text": [
      "Training Accuracy for Final Model:   1.0\n",
      "Validation Accuracy for Final Model: 0.8677\n",
      "Testing Accuracy for Final Model:    0.8593\n"
     ]
    }
   ],
   "source": [
    "np.random.seed(1)\n",
    "final_model = RandomForestClassifier(max_depth=28, n_estimators=100)\n",
    "final_model.fit(X_train, y_train)\n",
    "train_acc = final_model.score(X_train, y_train)\n",
    "valid_acc = final_model.score(X_valid, y_valid)\n",
    "test_acc = final_model.score(X_test, y_test)\n",
    "print(\"Training Accuracy for Final Model:  \", round(train_acc, 4))\n",
    "print(\"Validation Accuracy for Final Model:\", round(valid_acc, 4))\n",
    "print(\"Testing Accuracy for Final Model:   \", round(test_acc, 4))"
   ]
  },
  {
   "cell_type": "markdown",
   "id": "d7f765da",
   "metadata": {},
   "source": [
    "We will now create and display a confusion matrix detailing the model's performance on the test set."
   ]
  },
  {
   "cell_type": "code",
   "execution_count": 23,
   "id": "d08a6940",
   "metadata": {},
   "outputs": [
    {
     "data": {
      "text/html": [
       "<div>\n",
       "<style scoped>\n",
       "    .dataframe tbody tr th:only-of-type {\n",
       "        vertical-align: middle;\n",
       "    }\n",
       "\n",
       "    .dataframe tbody tr th {\n",
       "        vertical-align: top;\n",
       "    }\n",
       "\n",
       "    .dataframe thead th {\n",
       "        text-align: right;\n",
       "    }\n",
       "</style>\n",
       "<table border=\"1\" class=\"dataframe\">\n",
       "  <thead>\n",
       "    <tr style=\"text-align: right;\">\n",
       "      <th></th>\n",
       "      <th>1</th>\n",
       "      <th>2</th>\n",
       "      <th>3</th>\n",
       "      <th>4</th>\n",
       "      <th>5</th>\n",
       "      <th>6</th>\n",
       "      <th>7</th>\n",
       "    </tr>\n",
       "  </thead>\n",
       "  <tbody>\n",
       "    <tr>\n",
       "      <th>1</th>\n",
       "      <td>236</td>\n",
       "      <td>63</td>\n",
       "      <td>2</td>\n",
       "      <td>0</td>\n",
       "      <td>5</td>\n",
       "      <td>0</td>\n",
       "      <td>18</td>\n",
       "    </tr>\n",
       "    <tr>\n",
       "      <th>2</th>\n",
       "      <td>53</td>\n",
       "      <td>239</td>\n",
       "      <td>6</td>\n",
       "      <td>0</td>\n",
       "      <td>13</td>\n",
       "      <td>10</td>\n",
       "      <td>3</td>\n",
       "    </tr>\n",
       "    <tr>\n",
       "      <th>3</th>\n",
       "      <td>0</td>\n",
       "      <td>2</td>\n",
       "      <td>262</td>\n",
       "      <td>18</td>\n",
       "      <td>2</td>\n",
       "      <td>40</td>\n",
       "      <td>0</td>\n",
       "    </tr>\n",
       "    <tr>\n",
       "      <th>4</th>\n",
       "      <td>0</td>\n",
       "      <td>0</td>\n",
       "      <td>6</td>\n",
       "      <td>313</td>\n",
       "      <td>0</td>\n",
       "      <td>5</td>\n",
       "      <td>0</td>\n",
       "    </tr>\n",
       "    <tr>\n",
       "      <th>5</th>\n",
       "      <td>0</td>\n",
       "      <td>11</td>\n",
       "      <td>4</td>\n",
       "      <td>0</td>\n",
       "      <td>305</td>\n",
       "      <td>4</td>\n",
       "      <td>0</td>\n",
       "    </tr>\n",
       "    <tr>\n",
       "      <th>6</th>\n",
       "      <td>0</td>\n",
       "      <td>0</td>\n",
       "      <td>33</td>\n",
       "      <td>11</td>\n",
       "      <td>1</td>\n",
       "      <td>279</td>\n",
       "      <td>0</td>\n",
       "    </tr>\n",
       "    <tr>\n",
       "      <th>7</th>\n",
       "      <td>8</td>\n",
       "      <td>1</td>\n",
       "      <td>0</td>\n",
       "      <td>0</td>\n",
       "      <td>0</td>\n",
       "      <td>0</td>\n",
       "      <td>315</td>\n",
       "    </tr>\n",
       "  </tbody>\n",
       "</table>\n",
       "</div>"
      ],
      "text/plain": [
       "     1    2    3    4    5    6    7\n",
       "1  236   63    2    0    5    0   18\n",
       "2   53  239    6    0   13   10    3\n",
       "3    0    2  262   18    2   40    0\n",
       "4    0    0    6  313    0    5    0\n",
       "5    0   11    4    0  305    4    0\n",
       "6    0    0   33   11    1  279    0\n",
       "7    8    1    0    0    0    0  315"
      ]
     },
     "execution_count": 23,
     "metadata": {},
     "output_type": "execute_result"
    }
   ],
   "source": [
    "test_pred = final_model.predict(X_test)\n",
    "cm = confusion_matrix(y_test, test_pred)\n",
    "labels = np.arange(1, 8)\n",
    "cm_df = pd.DataFrame(cm, index=labels, columns=labels)\n",
    "cm_df"
   ]
  },
  {
   "cell_type": "markdown",
   "id": "f86546ed",
   "metadata": {},
   "source": [
    "We will now generate a classification report to provide further insight into the model's performance on the test set. "
   ]
  },
  {
   "cell_type": "code",
   "execution_count": 24,
   "id": "3e958600",
   "metadata": {},
   "outputs": [
    {
     "name": "stdout",
     "output_type": "stream",
     "text": [
      "              precision    recall  f1-score   support\n",
      "\n",
      "           1       0.79      0.73      0.76       324\n",
      "           2       0.76      0.74      0.75       324\n",
      "           3       0.84      0.81      0.82       324\n",
      "           4       0.92      0.97      0.94       324\n",
      "           5       0.94      0.94      0.94       324\n",
      "           6       0.83      0.86      0.84       324\n",
      "           7       0.94      0.97      0.95       324\n",
      "\n",
      "    accuracy                           0.86      2268\n",
      "   macro avg       0.86      0.86      0.86      2268\n",
      "weighted avg       0.86      0.86      0.86      2268\n",
      "\n"
     ]
    }
   ],
   "source": [
    "report = classification_report(y_test, test_pred)\n",
    "print(report)"
   ]
  }
 ],
 "metadata": {
  "kernelspec": {
   "display_name": "Python 3 (ipykernel)",
   "language": "python",
   "name": "python3"
  },
  "language_info": {
   "codemirror_mode": {
    "name": "ipython",
    "version": 3
   },
   "file_extension": ".py",
   "mimetype": "text/x-python",
   "name": "python",
   "nbconvert_exporter": "python",
   "pygments_lexer": "ipython3",
   "version": "3.10.9"
  }
 },
 "nbformat": 4,
 "nbformat_minor": 5
}
