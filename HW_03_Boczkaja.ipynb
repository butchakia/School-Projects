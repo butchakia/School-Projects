{
 "cells": [
  {
   "cell_type": "markdown",
   "id": "6d1b166d",
   "metadata": {},
   "source": [
    "# DSCI 503 - Homework 03\n",
    "### Jeffery Boczkaja"
   ]
  },
  {
   "cell_type": "markdown",
   "id": "16601136",
   "metadata": {},
   "source": [
    "## Problem 1: Dot Product"
   ]
  },
  {
   "cell_type": "code",
   "execution_count": 1,
   "id": "33860b00",
   "metadata": {},
   "outputs": [],
   "source": [
    "def dot_product(x,y):\n",
    "    sum=0\n",
    "    for i,j in zip(x,y):\n",
    "        sum+=i*j\n",
    "    return sum"
   ]
  },
  {
   "cell_type": "code",
   "execution_count": 2,
   "id": "4a3fe9a5",
   "metadata": {},
   "outputs": [],
   "source": [
    "v1 = [38, 9, 40, 34, 20, 16, 42, 36, 12, 1, 23, 46, 31, 19, 30, 33, 16, 43, 24, 41]\n",
    "v2 = [43, 13, 35, 14, 26, 3, 36, 15, 42, 44, 45, 20, 17, 6, 47, 40, 38, 41, 31, 24]"
   ]
  },
  {
   "cell_type": "code",
   "execution_count": 3,
   "id": "8f1781d5",
   "metadata": {},
   "outputs": [
    {
     "name": "stdout",
     "output_type": "stream",
     "text": [
      "The dot product of v1 and v2 is 16220\n"
     ]
    }
   ],
   "source": [
    "print(\"The dot product of v1 and v2 is {}\".format(dot_product(v1,v2)))"
   ]
  },
  {
   "cell_type": "markdown",
   "id": "385b18fe",
   "metadata": {},
   "source": [
    "## Problem 2: Amortization"
   ]
  },
  {
   "cell_type": "code",
   "execution_count": 4,
   "id": "8e3246f5",
   "metadata": {},
   "outputs": [],
   "source": [
    "def count_payments(amount, rate, pmt):\n",
    "    balance = amount\n",
    "    count = 0\n",
    "    while balance >0:\n",
    "        balance = (balance * (1+(rate/100)))-pmt\n",
    "        balance = round(balance, 2)\n",
    "        count += 1\n",
    "    return count"
   ]
  },
  {
   "cell_type": "code",
   "execution_count": 5,
   "id": "832be4b8",
   "metadata": {},
   "outputs": [
    {
     "name": "stdout",
     "output_type": "stream",
     "text": [
      "351 monthly payemnts of $850 would be required.\n",
      "312 monthly payemnts of $900 would be required.\n",
      "281 monthly payemnts of $950 would be required.\n",
      "256 monthly payemnts of $1000 would be required.\n",
      "236 monthly payemnts of $1050 would be required.\n"
     ]
    }
   ],
   "source": [
    "for i in range(5):\n",
    "    pmt = 850 + (i * 50)\n",
    "    print(\"{} monthly payemnts of ${} would be required.\".format(count_payments(160000, .4, pmt), pmt))"
   ]
  },
  {
   "cell_type": "code",
   "execution_count": 6,
   "id": "4cffd6d6",
   "metadata": {},
   "outputs": [
    {
     "name": "stdout",
     "output_type": "stream",
     "text": [
      "308 monthly payments of $850 would be required.\n",
      "279 monthly payments of $900 would be required.\n",
      "255 monthly payments of $950 would be required.\n",
      "235 monthly payments of $1000 would be required.\n",
      "219 monthly payments of $1050 would be required.\n"
     ]
    }
   ],
   "source": [
    "for i in range(5):\n",
    "    pmt= 850 + (i *50)\n",
    "    print(\"{} monthly payments of ${} would be required.\".format(count_payments(160000, .35, pmt), pmt))"
   ]
  },
  {
   "cell_type": "markdown",
   "id": "0d93fa18",
   "metadata": {},
   "source": [
    "## Problem 3: Minimum"
   ]
  },
  {
   "cell_type": "code",
   "execution_count": 7,
   "id": "bad70d68",
   "metadata": {},
   "outputs": [],
   "source": [
    "def minimum(x):\n",
    "    sm = x[0]\n",
    "    for i in range(1, len(x)):\n",
    "        if x[i]<=sm:\n",
    "            sm = x[i]\n",
    "    return sm"
   ]
  },
  {
   "cell_type": "code",
   "execution_count": 8,
   "id": "4dfc3fd3",
   "metadata": {},
   "outputs": [
    {
     "name": "stdout",
     "output_type": "stream",
     "text": [
      "4.1\n",
      "3.4\n",
      "Chicago\n"
     ]
    }
   ],
   "source": [
    "list1 = [9.8, 7.4, 5.6, 4.8, 4.8, 5.3, 4.1, 9.6, 5.4]\n",
    "list2 = [3.4, 7.6, 8.7, 7.5, 9.8, 7.5, 6.7, 8.7 ,8.4]\n",
    "list3 = ['St. Louis', 'Kansas City', 'Chicago', 'Little Rock', 'Omaha']\n",
    "print(minimum(list1))\n",
    "print(minimum(list2))\n",
    "print(minimum(list3))"
   ]
  },
  {
   "cell_type": "markdown",
   "id": "942f90a8",
   "metadata": {},
   "source": [
    "## Problem 4: Argmin"
   ]
  },
  {
   "cell_type": "code",
   "execution_count": 9,
   "id": "07d86343",
   "metadata": {},
   "outputs": [],
   "source": [
    "def argmin(x=True):\n",
    "    idx =  -1\n",
    "    for i in range(len(x)):\n",
    "        if idx == -1 or x[i] < x[idx]:\n",
    "            idx = i\n",
    "    return idx"
   ]
  },
  {
   "cell_type": "code",
   "execution_count": 10,
   "id": "bdabbb20",
   "metadata": {
    "scrolled": true
   },
   "outputs": [
    {
     "name": "stdout",
     "output_type": "stream",
     "text": [
      "6\n",
      "0\n",
      "2\n"
     ]
    }
   ],
   "source": [
    "print(argmin(list1))\n",
    "print(argmin(list2))\n",
    "print(argmin(list3))"
   ]
  },
  {
   "cell_type": "markdown",
   "id": "279db56e",
   "metadata": {},
   "source": [
    "## Problem 5: Find Smallest Elements"
   ]
  },
  {
   "cell_type": "code",
   "execution_count": 11,
   "id": "8a1d0c38",
   "metadata": {},
   "outputs": [],
   "source": [
    "def find_smallest(x, n=None):\n",
    "    list_copy = x.copy()\n",
    "    list_copy.sort()\n",
    "    if n == None:\n",
    "        return list_copy[0] if len(list_copy) > 0 else None\n",
    "    else:\n",
    "        if n > len(list_copy):\n",
    "            n = len(list_copy)\n",
    "        return list_copy[0:n]"
   ]
  },
  {
   "cell_type": "code",
   "execution_count": 12,
   "id": "fa23fd55",
   "metadata": {},
   "outputs": [],
   "source": [
    "my_list = [39, 74, 28, 64, 17, 28, 54, 53]"
   ]
  },
  {
   "cell_type": "code",
   "execution_count": 13,
   "id": "3ee71db5",
   "metadata": {},
   "outputs": [
    {
     "name": "stdout",
     "output_type": "stream",
     "text": [
      "17\n",
      "[17]\n",
      "[17, 28]\n",
      "[17, 28, 28, 39, 53]\n",
      "[17, 28, 28, 39, 53, 54, 64, 74]\n"
     ]
    }
   ],
   "source": [
    "print(find_smallest(my_list))\n",
    "print(find_smallest(my_list, 1))\n",
    "print(find_smallest(my_list, 2))\n",
    "print(find_smallest(my_list, 5))\n",
    "print(find_smallest(my_list, 12))"
   ]
  },
  {
   "cell_type": "code",
   "execution_count": 14,
   "id": "5ca65c1b",
   "metadata": {
    "scrolled": true
   },
   "outputs": [
    {
     "name": "stdout",
     "output_type": "stream",
     "text": [
      "[39, 74, 28, 64, 17, 28, 54, 53]\n"
     ]
    }
   ],
   "source": [
    "print(my_list)"
   ]
  },
  {
   "cell_type": "markdown",
   "id": "435046ba",
   "metadata": {},
   "source": [
    "## Problem 6: Find Unique Elements"
   ]
  },
  {
   "cell_type": "code",
   "execution_count": 15,
   "id": "2c716839",
   "metadata": {},
   "outputs": [],
   "source": [
    "def unique(x):\n",
    "    result = []\n",
    "    for i in range(len(x)):\n",
    "        if x[i] not in result:\n",
    "            result.append(x[i])\n",
    "    result.sort()\n",
    "    return result"
   ]
  },
  {
   "cell_type": "code",
   "execution_count": 16,
   "id": "fa4ff25a",
   "metadata": {},
   "outputs": [],
   "source": [
    "int_list = [23, 16, 23, 12, 14, 23, 12, 19, 19]\n",
    "str_list = ['cat', 'dog', 'dog', 'cat', 'bat', 'frog', 'dog', 'frog']"
   ]
  },
  {
   "cell_type": "code",
   "execution_count": 17,
   "id": "9091210e",
   "metadata": {},
   "outputs": [
    {
     "name": "stdout",
     "output_type": "stream",
     "text": [
      "[12, 14, 16, 19, 23]\n",
      "['bat', 'cat', 'dog', 'frog']\n"
     ]
    }
   ],
   "source": [
    "print(unique(int_list))\n",
    "print(unique(str_list))"
   ]
  },
  {
   "cell_type": "markdown",
   "id": "dc695f64",
   "metadata": {},
   "source": [
    "## Problem 7: Frequency Distribution"
   ]
  },
  {
   "cell_type": "code",
   "execution_count": 18,
   "id": "7069df5d",
   "metadata": {},
   "outputs": [],
   "source": [
    "def freq_dist(x):\n",
    "    values = unique(x)\n",
    "    counts = []\n",
    "    x.sort()\n",
    "    for i in values:\n",
    "        freq = x.count(i)\n",
    "        counts.append(freq)\n",
    "    return(values, counts)"
   ]
  },
  {
   "cell_type": "code",
   "execution_count": 19,
   "id": "8b8f42be",
   "metadata": {},
   "outputs": [],
   "source": [
    "grades = ['A', 'D', 'A', 'C', 'B', 'F', 'A', 'D', 'C',\n",
    "          'B', 'F', 'A', 'C', 'B', 'A', 'B', 'B', 'C',\n",
    "          'B', 'F', 'D', 'D', 'A', 'C', 'B', 'B', 'D']"
   ]
  },
  {
   "cell_type": "code",
   "execution_count": 20,
   "id": "55cbbb3e",
   "metadata": {},
   "outputs": [],
   "source": [
    "(values, counts) = freq_dist(grades)"
   ]
  },
  {
   "cell_type": "code",
   "execution_count": 21,
   "id": "3bded59d",
   "metadata": {},
   "outputs": [
    {
     "name": "stdout",
     "output_type": "stream",
     "text": [
      "Unique Values: ['A', 'B', 'C', 'D', 'F']\n",
      "Frequencies:   [6, 8, 5, 5, 3]\n"
     ]
    }
   ],
   "source": [
    "print(\"Unique Values:\",values)\n",
    "print(\"Frequencies:  \",counts)"
   ]
  },
  {
   "cell_type": "markdown",
   "id": "ec88ff4e",
   "metadata": {},
   "source": [
    "## Problem 8: Weighed Means"
   ]
  },
  {
   "cell_type": "code",
   "execution_count": 22,
   "id": "bf14a4c8",
   "metadata": {},
   "outputs": [],
   "source": [
    "def mean(x,w=None):\n",
    "    if(w is None):\n",
    "        return sum(x)/len(x)\n",
    "    else:\n",
    "        for i in range(len(x)):\n",
    "            x[i] = x[i] * w[i]\n",
    "        return sum(x)/sum(w)"
   ]
  },
  {
   "cell_type": "code",
   "execution_count": 23,
   "id": "b365055b",
   "metadata": {},
   "outputs": [],
   "source": [
    "values = [4, 7, 3, 5, 2, 6, 8, 2, 4, 8]\n",
    "weights = [2, 1, 3, 1, 2, 3, 1, 4, 2, 1]"
   ]
  },
  {
   "cell_type": "code",
   "execution_count": 24,
   "id": "962eb6d9",
   "metadata": {
    "scrolled": true
   },
   "outputs": [
    {
     "name": "stdout",
     "output_type": "stream",
     "text": [
      "Standard Mean:  4.9\n",
      "Weighted Mean:  4.15\n"
     ]
    }
   ],
   "source": [
    "print('Standard Mean: ',mean(values))\n",
    "print('Weighted Mean: ',mean(values, weights))"
   ]
  }
 ],
 "metadata": {
  "kernelspec": {
   "display_name": "Python 3 (ipykernel)",
   "language": "python",
   "name": "python3"
  },
  "language_info": {
   "codemirror_mode": {
    "name": "ipython",
    "version": 3
   },
   "file_extension": ".py",
   "mimetype": "text/x-python",
   "name": "python",
   "nbconvert_exporter": "python",
   "pygments_lexer": "ipython3",
   "version": "3.10.9"
  }
 },
 "nbformat": 4,
 "nbformat_minor": 5
}
