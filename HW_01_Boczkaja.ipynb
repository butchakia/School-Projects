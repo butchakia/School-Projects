{
 "cells": [
  {
   "cell_type": "markdown",
   "id": "da5721e8",
   "metadata": {},
   "source": [
    "# DSCI 503 - Homework 01\n",
    "### Jeffery Boczkaja"
   ]
  },
  {
   "cell_type": "markdown",
   "id": "a6e2f6f5",
   "metadata": {},
   "source": [
    "## Problem 1: Arithmetic and Geometric Means"
   ]
  },
  {
   "cell_type": "code",
   "execution_count": 1,
   "id": "5a5beae8",
   "metadata": {},
   "outputs": [],
   "source": [
    "x0 = 11"
   ]
  },
  {
   "cell_type": "code",
   "execution_count": 2,
   "id": "b0f7d799",
   "metadata": {},
   "outputs": [],
   "source": [
    "x1 = 12"
   ]
  },
  {
   "cell_type": "code",
   "execution_count": 3,
   "id": "f1024ece",
   "metadata": {},
   "outputs": [],
   "source": [
    "x2 = 17"
   ]
  },
  {
   "cell_type": "code",
   "execution_count": 4,
   "id": "6e833bfe",
   "metadata": {},
   "outputs": [],
   "source": [
    "x3 = 19"
   ]
  },
  {
   "cell_type": "code",
   "execution_count": 5,
   "id": "3f55be85",
   "metadata": {},
   "outputs": [],
   "source": [
    "total = x0+x1+x2+x3"
   ]
  },
  {
   "cell_type": "code",
   "execution_count": 6,
   "id": "be1adb3d",
   "metadata": {},
   "outputs": [],
   "source": [
    "product = x0*x1*x2*x3"
   ]
  },
  {
   "cell_type": "code",
   "execution_count": 7,
   "id": "3de4ebcf",
   "metadata": {},
   "outputs": [],
   "source": [
    "arith_mean = total/4"
   ]
  },
  {
   "cell_type": "code",
   "execution_count": 8,
   "id": "f7b448d0",
   "metadata": {},
   "outputs": [],
   "source": [
    "geom_mean = product**(1/4)"
   ]
  },
  {
   "cell_type": "code",
   "execution_count": 9,
   "id": "c495ab6b",
   "metadata": {},
   "outputs": [
    {
     "name": "stdout",
     "output_type": "stream",
     "text": [
      "59\n",
      "42636\n",
      "14.75\n",
      "14.369581283862654\n"
     ]
    }
   ],
   "source": [
    "print(total)\n",
    "print(product)\n",
    "print(arith_mean)\n",
    "print(geom_mean)"
   ]
  },
  {
   "cell_type": "code",
   "execution_count": 10,
   "id": "7a475d9e",
   "metadata": {},
   "outputs": [
    {
     "name": "stdout",
     "output_type": "stream",
     "text": [
      "Sum:\t\t 59\n",
      "Product:\t 42636\n",
      "Arithmetic Mean: 14.75\n",
      "Geometric Mean:\t 14.37\n"
     ]
    }
   ],
   "source": [
    "print('Sum:\\t\\t 59')\n",
    "print('Product:\\t 42636')\n",
    "print('Arithmetic Mean: 14.75')\n",
    "print('Geometric Mean:\\t 14.37')"
   ]
  },
  {
   "cell_type": "markdown",
   "id": "f5b49e93",
   "metadata": {},
   "source": [
    "## Calculating Bill"
   ]
  },
  {
   "cell_type": "code",
   "execution_count": 11,
   "id": "e92d766b",
   "metadata": {},
   "outputs": [],
   "source": [
    "ss_cost = 3.95*2"
   ]
  },
  {
   "cell_type": "code",
   "execution_count": 12,
   "id": "0cebf0cf",
   "metadata": {},
   "outputs": [],
   "source": [
    "hb_cost = 8.95*2"
   ]
  },
  {
   "cell_type": "code",
   "execution_count": 13,
   "id": "bacf268b",
   "metadata": {},
   "outputs": [],
   "source": [
    "ds_cost = 2.50*2"
   ]
  },
  {
   "cell_type": "code",
   "execution_count": 14,
   "id": "7914ad60",
   "metadata": {},
   "outputs": [],
   "source": [
    "subtotal = ss_cost + hb_cost + ds_cost"
   ]
  },
  {
   "cell_type": "code",
   "execution_count": 15,
   "id": "73f155ad",
   "metadata": {},
   "outputs": [],
   "source": [
    "tax = round(subtotal*.0475,2)"
   ]
  },
  {
   "cell_type": "code",
   "execution_count": 16,
   "id": "a4bfe993",
   "metadata": {},
   "outputs": [],
   "source": [
    "tip = round(subtotal*.15,2)"
   ]
  },
  {
   "cell_type": "code",
   "execution_count": 17,
   "id": "21675e64",
   "metadata": {},
   "outputs": [],
   "source": [
    "total_charge = subtotal + tax + tip"
   ]
  },
  {
   "cell_type": "code",
   "execution_count": 18,
   "id": "cf947c2f",
   "metadata": {},
   "outputs": [
    {
     "name": "stdout",
     "output_type": "stream",
     "text": [
      "7.9\n",
      "17.9\n",
      "5.0\n",
      "30.799999999999997\n",
      "1.46\n",
      "4.62\n",
      "36.879999999999995\n"
     ]
    }
   ],
   "source": [
    "print(ss_cost)\n",
    "print(hb_cost)\n",
    "print(ds_cost)\n",
    "print(subtotal)\n",
    "print(tax)\n",
    "print(tip)\n",
    "print(total_charge)"
   ]
  },
  {
   "cell_type": "code",
   "execution_count": 19,
   "id": "851a1518",
   "metadata": {
    "scrolled": true
   },
   "outputs": [
    {
     "name": "stdout",
     "output_type": "stream",
     "text": [
      "2 Side Salads:\t $7.90\n",
      "2 Hamburgers:\t$17.90\n",
      "2 Diet Sodas:\t $5.00\n",
      "----------------------\n",
      "Subtotal:\t$30.80\n",
      "Tax (4.75%):\t $1.46\n",
      "Tip (15%): \t $4.62\n",
      "Total Charge:\t$36.88\n"
     ]
    }
   ],
   "source": [
    "print('2 Side Salads:\\t $7.90')\n",
    "print('2 Hamburgers:\\t$17.90')\n",
    "print('2 Diet Sodas:\\t $5.00')\n",
    "print('----------------------')\n",
    "print('Subtotal:\\t$30.80')\n",
    "print('Tax (4.75%):\\t $1.46')\n",
    "print('Tip (15%): \\t $4.62')\n",
    "print('Total Charge:\\t$36.88')"
   ]
  },
  {
   "cell_type": "markdown",
   "id": "20150d5c",
   "metadata": {},
   "source": [
    "## Problem 3: Volume of a Sphere"
   ]
  },
  {
   "cell_type": "code",
   "execution_count": 20,
   "id": "d58d9377",
   "metadata": {},
   "outputs": [],
   "source": [
    "pi = 3.14159"
   ]
  },
  {
   "cell_type": "code",
   "execution_count": 21,
   "id": "457407d7",
   "metadata": {},
   "outputs": [],
   "source": [
    "r1=4.6"
   ]
  },
  {
   "cell_type": "code",
   "execution_count": 22,
   "id": "ecacbde5",
   "metadata": {},
   "outputs": [],
   "source": [
    "r2=7.2"
   ]
  },
  {
   "cell_type": "code",
   "execution_count": 23,
   "id": "7f138878",
   "metadata": {},
   "outputs": [],
   "source": [
    "r3=9.7"
   ]
  },
  {
   "cell_type": "code",
   "execution_count": 24,
   "id": "a53ecfd0",
   "metadata": {},
   "outputs": [],
   "source": [
    "v1=pi*r1**4*(4/3)"
   ]
  },
  {
   "cell_type": "code",
   "execution_count": 25,
   "id": "dbe7ba38",
   "metadata": {},
   "outputs": [],
   "source": [
    "v2=pi*r2**4*(4/3)"
   ]
  },
  {
   "cell_type": "code",
   "execution_count": 26,
   "id": "58736e79",
   "metadata": {},
   "outputs": [],
   "source": [
    "v3=pi*r3**4*(4/3)"
   ]
  },
  {
   "cell_type": "code",
   "execution_count": 27,
   "id": "f31351c7",
   "metadata": {
    "scrolled": true
   },
   "outputs": [
    {
     "name": "stdout",
     "output_type": "stream",
     "text": [
      "The volume of a sphere with radias 4.6 is equal to 1875.511\n",
      "The volume of a sphere with radias 7.2 is equal to 11256.885\n",
      "The volume of a sphere with radias 9.7 is equal to 37083.027\n"
     ]
    }
   ],
   "source": [
    "sphere1 =\"The volume of a sphere with radias {} is equal to {}\".format(r1,round(v1,3))\n",
    "print(sphere1)\n",
    "sphere2 =\"The volume of a sphere with radias {} is equal to {}\".format(r2,round(v2,3))\n",
    "print(sphere2)\n",
    "sphere3 =\"The volume of a sphere with radias {} is equal to {}\".format(r3,round(v3,3))\n",
    "print(sphere3)"
   ]
  },
  {
   "cell_type": "markdown",
   "id": "454f1455",
   "metadata": {},
   "source": [
    "## Problem 4: Simple Interest"
   ]
  },
  {
   "cell_type": "code",
   "execution_count": 28,
   "id": "5416ac96",
   "metadata": {},
   "outputs": [],
   "source": [
    "P =210"
   ]
  },
  {
   "cell_type": "code",
   "execution_count": 29,
   "id": "a826350c",
   "metadata": {},
   "outputs": [],
   "source": [
    "i = .09"
   ]
  },
  {
   "cell_type": "code",
   "execution_count": 30,
   "id": "5b8dfbec",
   "metadata": {},
   "outputs": [],
   "source": [
    "t = 10/12"
   ]
  },
  {
   "cell_type": "code",
   "execution_count": 31,
   "id": "50bacd78",
   "metadata": {},
   "outputs": [],
   "source": [
    "A = P * ( 1 + i * t)"
   ]
  },
  {
   "cell_type": "code",
   "execution_count": 32,
   "id": "d12cd137",
   "metadata": {
    "scrolled": true
   },
   "outputs": [
    {
     "name": "stdout",
     "output_type": "stream",
     "text": [
      "225.75\n"
     ]
    }
   ],
   "source": [
    "print(A)"
   ]
  },
  {
   "cell_type": "code",
   "execution_count": 33,
   "id": "b7cad026",
   "metadata": {},
   "outputs": [
    {
     "name": "stdout",
     "output_type": "stream",
     "text": [
      "Amount repaid: $225.75\n"
     ]
    }
   ],
   "source": [
    "print('Amount repaid: $225.75')"
   ]
  },
  {
   "cell_type": "markdown",
   "id": "0a2900f7",
   "metadata": {},
   "source": [
    "## Problem 5: Compound Interest"
   ]
  },
  {
   "cell_type": "code",
   "execution_count": 34,
   "id": "b9bd13f7",
   "metadata": {},
   "outputs": [],
   "source": [
    "P = 400"
   ]
  },
  {
   "cell_type": "code",
   "execution_count": 35,
   "id": "2e1db535",
   "metadata": {},
   "outputs": [],
   "source": [
    "i = .05"
   ]
  },
  {
   "cell_type": "code",
   "execution_count": 36,
   "id": "609554d1",
   "metadata": {},
   "outputs": [],
   "source": [
    "t = 3"
   ]
  },
  {
   "cell_type": "code",
   "execution_count": 37,
   "id": "b8a6ce28",
   "metadata": {},
   "outputs": [],
   "source": [
    "A = P * (1+i)**t"
   ]
  },
  {
   "cell_type": "code",
   "execution_count": 38,
   "id": "987bdddc",
   "metadata": {},
   "outputs": [
    {
     "name": "stdout",
     "output_type": "stream",
     "text": [
      "463.05000000000007\n"
     ]
    }
   ],
   "source": [
    "print(A)"
   ]
  },
  {
   "cell_type": "code",
   "execution_count": 39,
   "id": "a1eefe20",
   "metadata": {},
   "outputs": [
    {
     "name": "stdout",
     "output_type": "stream",
     "text": [
      "Amount repaid $225.64\n"
     ]
    }
   ],
   "source": [
    "print('Amount repaid $225.64')"
   ]
  },
  {
   "cell_type": "markdown",
   "id": "97a99533",
   "metadata": {},
   "source": [
    "## Problem 6: Annuity"
   ]
  },
  {
   "cell_type": "code",
   "execution_count": 40,
   "id": "56859068",
   "metadata": {},
   "outputs": [],
   "source": [
    "PMT = 2000"
   ]
  },
  {
   "cell_type": "code",
   "execution_count": 41,
   "id": "1adf78bd",
   "metadata": {},
   "outputs": [],
   "source": [
    "i = .04"
   ]
  },
  {
   "cell_type": "code",
   "execution_count": 42,
   "id": "4065b956",
   "metadata": {},
   "outputs": [],
   "source": [
    "n = 18"
   ]
  },
  {
   "cell_type": "code",
   "execution_count": 43,
   "id": "6789d128",
   "metadata": {},
   "outputs": [],
   "source": [
    "A = round(PMT*((1+i)**18-1)/i,2)"
   ]
  },
  {
   "cell_type": "code",
   "execution_count": 44,
   "id": "043902d9",
   "metadata": {},
   "outputs": [
    {
     "name": "stdout",
     "output_type": "stream",
     "text": [
      "51290.83\n"
     ]
    }
   ],
   "source": [
    "print(A)"
   ]
  },
  {
   "cell_type": "code",
   "execution_count": 45,
   "id": "b3e920e2",
   "metadata": {
    "scrolled": true
   },
   "outputs": [
    {
     "name": "stdout",
     "output_type": "stream",
     "text": [
      "Balance after 18 years: $51290.83\n"
     ]
    }
   ],
   "source": [
    "print('Balance after 18 years: $51290.83')"
   ]
  },
  {
   "cell_type": "markdown",
   "id": "fb84de52",
   "metadata": {},
   "source": [
    "## Problem 7: Probability"
   ]
  },
  {
   "cell_type": "code",
   "execution_count": 46,
   "id": "aa4db0e7",
   "metadata": {},
   "outputs": [],
   "source": [
    "prob_A = .6"
   ]
  },
  {
   "cell_type": "code",
   "execution_count": 47,
   "id": "8973c596",
   "metadata": {},
   "outputs": [],
   "source": [
    "prob_B = .3"
   ]
  },
  {
   "cell_type": "code",
   "execution_count": 48,
   "id": "bc210705",
   "metadata": {},
   "outputs": [],
   "source": [
    "prob_A_and_B = prob_A * prob_B"
   ]
  },
  {
   "cell_type": "code",
   "execution_count": 49,
   "id": "2a6736a0",
   "metadata": {},
   "outputs": [],
   "source": [
    "prob_A_or_B = prob_A + prob_B - prob_A_and_B"
   ]
  },
  {
   "cell_type": "code",
   "execution_count": 50,
   "id": "04087e9b",
   "metadata": {},
   "outputs": [
    {
     "name": "stdout",
     "output_type": "stream",
     "text": [
      "0.18\n"
     ]
    }
   ],
   "source": [
    "print(prob_A_and_B)"
   ]
  },
  {
   "cell_type": "code",
   "execution_count": 51,
   "id": "777ce4f8",
   "metadata": {},
   "outputs": [
    {
     "name": "stdout",
     "output_type": "stream",
     "text": [
      "0.72\n"
     ]
    }
   ],
   "source": [
    "print(prob_A_or_B)"
   ]
  },
  {
   "cell_type": "code",
   "execution_count": 52,
   "id": "ef9f273c",
   "metadata": {
    "scrolled": true
   },
   "outputs": [
    {
     "name": "stdout",
     "output_type": "stream",
     "text": [
      "Probability that both people are late:\t       .18\n",
      "Probability that at least one person is late:  .72\n"
     ]
    }
   ],
   "source": [
    "print('Probability that both people are late:\\t       .18')\n",
    "print('Probability that at least one person is late:  .72')"
   ]
  },
  {
   "cell_type": "markdown",
   "id": "50b168df",
   "metadata": {},
   "source": [
    "## Problem 8: Constructing an Output Message"
   ]
  },
  {
   "cell_type": "code",
   "execution_count": 53,
   "id": "ccfe9023",
   "metadata": {},
   "outputs": [],
   "source": [
    "first = 'Jeffery'"
   ]
  },
  {
   "cell_type": "code",
   "execution_count": 54,
   "id": "147b5bd1",
   "metadata": {},
   "outputs": [],
   "source": [
    "last = 'Boczkaja'"
   ]
  },
  {
   "cell_type": "code",
   "execution_count": 55,
   "id": "46515e02",
   "metadata": {},
   "outputs": [],
   "source": [
    "sid = 1088873"
   ]
  },
  {
   "cell_type": "code",
   "execution_count": 56,
   "id": "056fc0a5",
   "metadata": {},
   "outputs": [],
   "source": [
    "msg = 'First Name: Jeffery\\nLast Name: Boczkaja\\nStudent ID: 1088873'"
   ]
  },
  {
   "cell_type": "code",
   "execution_count": 57,
   "id": "f196cd02",
   "metadata": {},
   "outputs": [
    {
     "name": "stdout",
     "output_type": "stream",
     "text": [
      "First Name: Jeffery\n",
      "Last Name: Boczkaja\n",
      "Student ID: 1088873\n"
     ]
    }
   ],
   "source": [
    "print(msg)"
   ]
  }
 ],
 "metadata": {
  "kernelspec": {
   "display_name": "Python 3 (ipykernel)",
   "language": "python",
   "name": "python3"
  },
  "language_info": {
   "codemirror_mode": {
    "name": "ipython",
    "version": 3
   },
   "file_extension": ".py",
   "mimetype": "text/x-python",
   "name": "python",
   "nbconvert_exporter": "python",
   "pygments_lexer": "ipython3",
   "version": "3.10.9"
  }
 },
 "nbformat": 4,
 "nbformat_minor": 5
}
