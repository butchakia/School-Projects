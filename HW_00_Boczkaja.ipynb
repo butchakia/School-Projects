{
 "cells": [
  {
   "cell_type": "markdown",
   "id": "ecdf0bd7",
   "metadata": {},
   "source": [
    "## DSCI 503 - Homework 00\n",
    "\n",
    "**Jeffery Boczkaja**\n",
    "\n",
    "Due Thursday, 05/11"
   ]
  },
  {
   "cell_type": "markdown",
   "id": "5d3121d8",
   "metadata": {},
   "source": [
    "### Part 1: Arithmetic Operations\n",
    "\n",
    "In this section of the assignment, we will demonstrate the following concepts:\n",
    "* Addition\n",
    "* Subtraction\n",
    "* Multiplication\n",
    "* Division\n",
    "* Expontiation"
   ]
  },
  {
   "cell_type": "code",
   "execution_count": 1,
   "id": "d60a5019",
   "metadata": {},
   "outputs": [
    {
     "name": "stdout",
     "output_type": "stream",
     "text": [
      "9\n"
     ]
    }
   ],
   "source": [
    "print(7 + 2)"
   ]
  },
  {
   "cell_type": "code",
   "execution_count": 2,
   "id": "5ffd3505",
   "metadata": {},
   "outputs": [
    {
     "name": "stdout",
     "output_type": "stream",
     "text": [
      "5\n"
     ]
    }
   ],
   "source": [
    "print(7 - 2)"
   ]
  },
  {
   "cell_type": "code",
   "execution_count": 3,
   "id": "91932711",
   "metadata": {},
   "outputs": [
    {
     "name": "stdout",
     "output_type": "stream",
     "text": [
      "14\n"
     ]
    }
   ],
   "source": [
    "print(7 * 2)"
   ]
  },
  {
   "cell_type": "code",
   "execution_count": 4,
   "id": "8f494dec",
   "metadata": {},
   "outputs": [
    {
     "name": "stdout",
     "output_type": "stream",
     "text": [
      "3.5\n"
     ]
    }
   ],
   "source": [
    "print(7 / 2)"
   ]
  },
  {
   "cell_type": "code",
   "execution_count": 5,
   "id": "315f0fcc",
   "metadata": {},
   "outputs": [
    {
     "name": "stdout",
     "output_type": "stream",
     "text": [
      "49\n"
     ]
    }
   ],
   "source": [
    "print(7 ** 2)"
   ]
  },
  {
   "cell_type": "markdown",
   "id": "e70371f9",
   "metadata": {},
   "source": [
    "## Part 2 Variables\n",
    "\n",
    "In this section of the assignment, we will demonstrate the following concepts:\n",
    "\n",
    "* Creating Variables\n",
    "* Printing the value of variables\n",
    "* Operations with variables\n",
    "* Nonlinear execution in notebooks"
   ]
  },
  {
   "cell_type": "code",
   "execution_count": 6,
   "id": "9d24ba92",
   "metadata": {},
   "outputs": [],
   "source": [
    "x = 91"
   ]
  },
  {
   "cell_type": "code",
   "execution_count": 7,
   "id": "19c9ed34",
   "metadata": {},
   "outputs": [],
   "source": [
    "x = 42"
   ]
  },
  {
   "cell_type": "code",
   "execution_count": 8,
   "id": "1988783d",
   "metadata": {},
   "outputs": [
    {
     "name": "stdout",
     "output_type": "stream",
     "text": [
      "42\n"
     ]
    }
   ],
   "source": [
    "print(x)"
   ]
  },
  {
   "cell_type": "code",
   "execution_count": 9,
   "id": "13395c97",
   "metadata": {},
   "outputs": [],
   "source": [
    "y = 7"
   ]
  },
  {
   "cell_type": "code",
   "execution_count": 10,
   "id": "1997d8e2",
   "metadata": {},
   "outputs": [
    {
     "name": "stdout",
     "output_type": "stream",
     "text": [
      "7\n"
     ]
    }
   ],
   "source": [
    "print(y)"
   ]
  },
  {
   "cell_type": "code",
   "execution_count": 11,
   "id": "71ecf8ab",
   "metadata": {},
   "outputs": [
    {
     "name": "stdout",
     "output_type": "stream",
     "text": [
      "6.0\n"
     ]
    }
   ],
   "source": [
    "print(x / y)"
   ]
  },
  {
   "cell_type": "markdown",
   "id": "952cbd81",
   "metadata": {},
   "source": [
    "## Part 3: Comments\n",
    "\n",
    "In this section of the assignment, we will demonstrate the following concepts:\n",
    "\n",
    "* Writing comments\n",
    "* Using comments to document code\n",
    "* Using comments to disable lines of code"
   ]
  },
  {
   "cell_type": "code",
   "execution_count": 12,
   "id": "5d58c6b4",
   "metadata": {},
   "outputs": [
    {
     "name": "stdout",
     "output_type": "stream",
     "text": [
      "7\n"
     ]
    }
   ],
   "source": [
    "# This is a comment\n",
    "print(2 +5)"
   ]
  },
  {
   "cell_type": "code",
   "execution_count": 13,
   "id": "cfea599a",
   "metadata": {},
   "outputs": [
    {
     "name": "stdout",
     "output_type": "stream",
     "text": [
      "2937.54\n"
     ]
    }
   ],
   "source": [
    "# In this cell, we will calculate sales revenue.\n",
    "sales = 173               # Monthly widget sales\n",
    "price = 16.98             # Price per widget\n",
    "revenue = sales * price   # Monthly revenue\n",
    "print(revenue)"
   ]
  },
  {
   "cell_type": "code",
   "execution_count": 14,
   "id": "bc168169",
   "metadata": {},
   "outputs": [
    {
     "name": "stdout",
     "output_type": "stream",
     "text": [
      "2.0\n",
      "3.0\n"
     ]
    }
   ],
   "source": [
    "print(12 / 6)\n",
    "# print(12 / 0)\n",
    "print(12 / 4)"
   ]
  },
  {
   "cell_type": "markdown",
   "id": "f540ab23",
   "metadata": {},
   "source": [
    "## Part 4: Strings\n",
    "\n",
    "In this section of the assignment, we will demonstrate the following concepts:\n",
    "\n",
    "* Creating strings\n",
    "* Storing strings in variables\n",
    "* Printing multiple items"
   ]
  },
  {
   "cell_type": "code",
   "execution_count": 15,
   "id": "3a9aa60b",
   "metadata": {},
   "outputs": [
    {
     "name": "stdout",
     "output_type": "stream",
     "text": [
      "Hello, world!\n"
     ]
    }
   ],
   "source": [
    "print(\"Hello, world!\")"
   ]
  },
  {
   "cell_type": "code",
   "execution_count": 16,
   "id": "7099ad06",
   "metadata": {},
   "outputs": [
    {
     "name": "stdout",
     "output_type": "stream",
     "text": [
      "Jeffery Boczkaja\n"
     ]
    }
   ],
   "source": [
    "name = \"Jeffery Boczkaja\"\n",
    "print(name)"
   ]
  },
  {
   "cell_type": "code",
   "execution_count": 17,
   "id": "560cfdb7",
   "metadata": {},
   "outputs": [
    {
     "name": "stdout",
     "output_type": "stream",
     "text": [
      "Hello, my name is Jeffery Boczkaja\n"
     ]
    }
   ],
   "source": [
    "print(\"Hello, my name is\", name)"
   ]
  },
  {
   "cell_type": "code",
   "execution_count": 18,
   "id": "b6594496",
   "metadata": {},
   "outputs": [
    {
     "name": "stdout",
     "output_type": "stream",
     "text": [
      "Hello, my name is Jeffery Boczkaja.\n"
     ]
    }
   ],
   "source": [
    "print(\"Hello, my name is \", name, \".\", sep=\"\")"
   ]
  }
 ],
 "metadata": {
  "kernelspec": {
   "display_name": "Python 3 (ipykernel)",
   "language": "python",
   "name": "python3"
  },
  "language_info": {
   "codemirror_mode": {
    "name": "ipython",
    "version": 3
   },
   "file_extension": ".py",
   "mimetype": "text/x-python",
   "name": "python",
   "nbconvert_exporter": "python",
   "pygments_lexer": "ipython3",
   "version": "3.10.9"
  }
 },
 "nbformat": 4,
 "nbformat_minor": 5
}
